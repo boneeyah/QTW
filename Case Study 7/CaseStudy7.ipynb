{
  "nbformat": 4,
  "nbformat_minor": 0,
  "metadata": {
    "colab": {
      "provenance": [],
      "machine_shape": "hm",
      "gpuType": "V100",
      "mount_file_id": "https://github.com/KendallScott/QTW/blob/main/Case%20Study%207/CaseStudy7.ipynb",
      "authorship_tag": "ABX9TyMczOqaNA8i/m8XODgjKtJF",
      "include_colab_link": true
    },
    "kernelspec": {
      "name": "python3",
      "display_name": "Python 3"
    },
    "language_info": {
      "name": "python"
    }
  },
  "cells": [
    {
      "cell_type": "markdown",
      "metadata": {
        "id": "view-in-github",
        "colab_type": "text"
      },
      "source": [
        "<a href=\"https://colab.research.google.com/github/boneeyah/QTW/blob/main/Case%20Study%207/CaseStudy7.ipynb\" target=\"_parent\"><img src=\"https://colab.research.google.com/assets/colab-badge.svg\" alt=\"Open In Colab\"/></a>"
      ]
    },
    {
      "cell_type": "code",
      "execution_count": 27,
      "metadata": {
        "id": "OZryWKHR3JAd"
      },
      "outputs": [],
      "source": [
        "#!pip install scikit-learn-intelex\n"
      ]
    },
    {
      "cell_type": "code",
      "source": [
        "import pandas as pd\n",
        "import numpy as np\n",
        "import matplotlib.pyplot as plt\n",
        "import seaborn as sns\n",
        "import tensorflow as tf\n",
        "from tensorflow.keras.models import Sequential\n",
        "from tensorflow.keras.layers import Dense, Activation, Dropout\n",
        "from tensorflow.keras.callbacks import EarlyStopping\n",
        "from sklearnex import patch_sklearn\n",
        "patch_sklearn()\n",
        "from sklearn.linear_model import LogisticRegression\n",
        "from sklearn.ensemble import RandomForestClassifier\n",
        "from sklearn.svm import NuSVC\n",
        "from sklearn.metrics import classification_report, confusion_matrix, ConfusionMatrixDisplay\n",
        "from sklearn.preprocessing import StandardScaler, OneHotEncoder\n",
        "from sklearn.model_selection import StratifiedKFold, GridSearchCV, cross_val_predict\n",
        "import datetime"
      ],
      "metadata": {
        "id": "HrVUsV_b8Ezp",
        "colab": {
          "base_uri": "https://localhost:8080/"
        },
        "outputId": "1f1772df-2e1e-4cec-ac81-4107bb2ae587"
      },
      "execution_count": 28,
      "outputs": [
        {
          "output_type": "stream",
          "name": "stderr",
          "text": [
            "Intel(R) Extension for Scikit-learn* enabled (https://github.com/intel/scikit-learn-intelex)\n"
          ]
        }
      ]
    },
    {
      "cell_type": "code",
      "source": [
        "#from google.colab import drive\n",
        "#drive.mount('drive')"
      ],
      "metadata": {
        "id": "T6H6L4bc8YlZ"
      },
      "execution_count": 29,
      "outputs": []
    },
    {
      "cell_type": "code",
      "source": [
        "#df = pd.read_csv(\"drive/My Drive/final_project(5).csv\")\n",
        "df = pd.read_csv(\"/home/migue/Downloads/final_project(5).csv\")"
      ],
      "metadata": {
        "id": "hngzaeNL-EXs"
      },
      "execution_count": 30,
      "outputs": []
    },
    {
      "cell_type": "code",
      "source": [
        "df.info()\n",
        "#there are NAs will need handling"
      ],
      "metadata": {
        "id": "kjzOue9y_SuK",
        "outputId": "52bae632-6a08-4d2d-ca3f-7097392db146",
        "colab": {
          "base_uri": "https://localhost:8080/"
        }
      },
      "execution_count": 31,
      "outputs": [
        {
          "output_type": "stream",
          "name": "stdout",
          "text": [
            "<class 'pandas.core.frame.DataFrame'>\n",
            "RangeIndex: 160000 entries, 0 to 159999\n",
            "Data columns (total 51 columns):\n",
            " #   Column  Non-Null Count   Dtype  \n",
            "---  ------  --------------   -----  \n",
            " 0   x0      159974 non-null  float64\n",
            " 1   x1      159975 non-null  float64\n",
            " 2   x2      159962 non-null  float64\n",
            " 3   x3      159963 non-null  float64\n",
            " 4   x4      159974 non-null  float64\n",
            " 5   x5      159963 non-null  float64\n",
            " 6   x6      159974 non-null  float64\n",
            " 7   x7      159973 non-null  float64\n",
            " 8   x8      159979 non-null  float64\n",
            " 9   x9      159970 non-null  float64\n",
            " 10  x10     159957 non-null  float64\n",
            " 11  x11     159970 non-null  float64\n",
            " 12  x12     159964 non-null  float64\n",
            " 13  x13     159969 non-null  float64\n",
            " 14  x14     159966 non-null  float64\n",
            " 15  x15     159965 non-null  float64\n",
            " 16  x16     159974 non-null  float64\n",
            " 17  x17     159973 non-null  float64\n",
            " 18  x18     159960 non-null  float64\n",
            " 19  x19     159965 non-null  float64\n",
            " 20  x20     159962 non-null  float64\n",
            " 21  x21     159971 non-null  float64\n",
            " 22  x22     159973 non-null  float64\n",
            " 23  x23     159953 non-null  float64\n",
            " 24  x24     159972 non-null  object \n",
            " 25  x25     159978 non-null  float64\n",
            " 26  x26     159964 non-null  float64\n",
            " 27  x27     159970 non-null  float64\n",
            " 28  x28     159965 non-null  float64\n",
            " 29  x29     159970 non-null  object \n",
            " 30  x30     159970 non-null  object \n",
            " 31  x31     159961 non-null  float64\n",
            " 32  x32     159969 non-null  object \n",
            " 33  x33     159959 non-null  float64\n",
            " 34  x34     159959 non-null  float64\n",
            " 35  x35     159970 non-null  float64\n",
            " 36  x36     159973 non-null  float64\n",
            " 37  x37     159977 non-null  object \n",
            " 38  x38     159969 non-null  float64\n",
            " 39  x39     159977 non-null  float64\n",
            " 40  x40     159964 non-null  float64\n",
            " 41  x41     159960 non-null  float64\n",
            " 42  x42     159974 non-null  float64\n",
            " 43  x43     159963 non-null  float64\n",
            " 44  x44     159960 non-null  float64\n",
            " 45  x45     159971 non-null  float64\n",
            " 46  x46     159969 non-null  float64\n",
            " 47  x47     159963 non-null  float64\n",
            " 48  x48     159968 non-null  float64\n",
            " 49  x49     159968 non-null  float64\n",
            " 50  y       160000 non-null  int64  \n",
            "dtypes: float64(45), int64(1), object(5)\n",
            "memory usage: 62.3+ MB\n"
          ]
        }
      ]
    },
    {
      "cell_type": "code",
      "source": [
        "for i in df.columns:\n",
        "    if df[i].isna().sum() > 0:\n",
        "        print('{} has {}% NAs'.format(i,(df[i].isna().sum() / len(df))*100))"
      ],
      "metadata": {
        "id": "CC3yFJ6BzzOw",
        "outputId": "aa88f8d7-a084-480c-f0ec-7953148255ef",
        "colab": {
          "base_uri": "https://localhost:8080/"
        }
      },
      "execution_count": 32,
      "outputs": [
        {
          "output_type": "stream",
          "name": "stdout",
          "text": [
            "x0 has 0.01625% NAs\n",
            "x1 has 0.015625% NAs\n",
            "x2 has 0.02375% NAs\n",
            "x3 has 0.023125% NAs\n",
            "x4 has 0.01625% NAs\n",
            "x5 has 0.023125% NAs\n",
            "x6 has 0.01625% NAs\n",
            "x7 has 0.016875% NAs\n",
            "x8 has 0.013125% NAs\n",
            "x9 has 0.01875% NAs\n",
            "x10 has 0.026875% NAs\n",
            "x11 has 0.01875% NAs\n",
            "x12 has 0.0225% NAs\n",
            "x13 has 0.019375% NAs\n",
            "x14 has 0.021249999999999998% NAs\n",
            "x15 has 0.021875000000000002% NAs\n",
            "x16 has 0.01625% NAs\n",
            "x17 has 0.016875% NAs\n",
            "x18 has 0.025% NAs\n",
            "x19 has 0.021875000000000002% NAs\n",
            "x20 has 0.02375% NAs\n",
            "x21 has 0.018125% NAs\n",
            "x22 has 0.016875% NAs\n",
            "x23 has 0.029375000000000002% NAs\n",
            "x24 has 0.017499999999999998% NAs\n",
            "x25 has 0.01375% NAs\n",
            "x26 has 0.0225% NAs\n",
            "x27 has 0.01875% NAs\n",
            "x28 has 0.021875000000000002% NAs\n",
            "x29 has 0.01875% NAs\n",
            "x30 has 0.01875% NAs\n",
            "x31 has 0.024374999999999997% NAs\n",
            "x32 has 0.019375% NAs\n",
            "x33 has 0.025625000000000002% NAs\n",
            "x34 has 0.025625000000000002% NAs\n",
            "x35 has 0.01875% NAs\n",
            "x36 has 0.016875% NAs\n",
            "x37 has 0.014374999999999999% NAs\n",
            "x38 has 0.019375% NAs\n",
            "x39 has 0.014374999999999999% NAs\n",
            "x40 has 0.0225% NAs\n",
            "x41 has 0.025% NAs\n",
            "x42 has 0.01625% NAs\n",
            "x43 has 0.023125% NAs\n",
            "x44 has 0.025% NAs\n",
            "x45 has 0.018125% NAs\n",
            "x46 has 0.019375% NAs\n",
            "x47 has 0.023125% NAs\n",
            "x48 has 0.02% NAs\n",
            "x49 has 0.02% NAs\n"
          ]
        }
      ]
    },
    {
      "cell_type": "code",
      "source": [
        "df['x24'].value_counts()"
      ],
      "metadata": {
        "id": "TybuIbMLz6Ng",
        "outputId": "9c540ba9-0e5a-412b-e472-9142b8431107",
        "colab": {
          "base_uri": "https://localhost:8080/"
        }
      },
      "execution_count": 33,
      "outputs": [
        {
          "output_type": "execute_result",
          "data": {
            "text/plain": [
              "x24\n",
              "asia       138965\n",
              "euorpe      16538\n",
              "america      4469\n",
              "Name: count, dtype: int64"
            ]
          },
          "metadata": {},
          "execution_count": 33
        }
      ]
    },
    {
      "cell_type": "code",
      "source": [
        "plt.bar(x=df['x24'].value_counts().index,height=df['x24'].value_counts().values)"
      ],
      "metadata": {
        "id": "ME56MKaIz7sN",
        "outputId": "b0943b49-27bd-4098-9e43-903d41350369",
        "colab": {
          "base_uri": "https://localhost:8080/",
          "height": 447
        }
      },
      "execution_count": 34,
      "outputs": [
        {
          "output_type": "execute_result",
          "data": {
            "text/plain": [
              "<BarContainer object of 3 artists>"
            ]
          },
          "metadata": {},
          "execution_count": 34
        },
        {
          "output_type": "display_data",
          "data": {
            "text/plain": [
              "<Figure size 640x480 with 1 Axes>"
            ],
            "image/png": "[encoded data removed]"
          },
          "metadata": {}
        }
      ]
    },
    {
      "cell_type": "code",
      "source": [
        "df['x29'].value_counts()"
      ],
      "metadata": {
        "id": "P7rMlCalz9WH",
        "outputId": "7e126411-5254-4e11-8962-cec0c60bd75a",
        "colab": {
          "base_uri": "https://localhost:8080/"
        }
      },
      "execution_count": 35,
      "outputs": [
        {
          "output_type": "execute_result",
          "data": {
            "text/plain": [
              "x29\n",
              "July       45569\n",
              "Jun        41329\n",
              "Aug        29406\n",
              "May        21939\n",
              "sept.      10819\n",
              "Apr         6761\n",
              "Oct         2407\n",
              "Mar         1231\n",
              "Nov          337\n",
              "Feb          140\n",
              "Dev           23\n",
              "January        9\n",
              "Name: count, dtype: int64"
            ]
          },
          "metadata": {},
          "execution_count": 35
        }
      ]
    },
    {
      "cell_type": "code",
      "source": [
        "#clean up month formatting to standard 3 letters\n",
        "df['x29'].replace(to_replace=['July','sept.','Dev','January'],value=['Jul','Sep','Dec','Jan'],inplace=True)"
      ],
      "metadata": {
        "id": "gB-gkjC2z_fK"
      },
      "execution_count": 36,
      "outputs": []
    },
    {
      "cell_type": "code",
      "source": [
        "mo = ['Jan','Feb','Mar','Apr','May','Jun','Jul','Aug','Sep','Oct','Nov','Dec']\n",
        "heights = []\n",
        "for i in mo:\n",
        "    x = df['x29'].to_list().count(i)\n",
        "    heights.append(x)\n",
        "plt.bar(x=mo,height=heights)"
      ],
      "metadata": {
        "id": "eZTNOL9P0CM3",
        "outputId": "da846767-9006-4857-fdb2-d929138c2d50",
        "colab": {
          "base_uri": "https://localhost:8080/",
          "height": 447
        }
      },
      "execution_count": 37,
      "outputs": [
        {
          "output_type": "execute_result",
          "data": {
            "text/plain": [
              "<BarContainer object of 12 artists>"
            ]
          },
          "metadata": {},
          "execution_count": 37
        },
        {
          "output_type": "display_data",
          "data": {
            "text/plain": [
              "<Figure size 640x480 with 1 Axes>"
            ],
            "image/png": "[encoded data removed]"
          },
          "metadata": {}
        }
      ]
    },
    {
      "cell_type": "code",
      "source": [
        "df['x30'].value_counts()"
      ],
      "metadata": {
        "id": "_1LSKgy80ENF",
        "outputId": "8ebc2a60-a612-4324-872c-67e508741792",
        "colab": {
          "base_uri": "https://localhost:8080/"
        }
      },
      "execution_count": 38,
      "outputs": [
        {
          "output_type": "execute_result",
          "data": {
            "text/plain": [
              "x30\n",
              "wednesday    101535\n",
              "thurday       29429\n",
              "tuesday       27954\n",
              "friday          564\n",
              "monday          488\n",
              "Name: count, dtype: int64"
            ]
          },
          "metadata": {},
          "execution_count": 38
        }
      ]
    },
    {
      "cell_type": "code",
      "source": [
        "# thursday is incorrect\n",
        "df['x30'].replace(to_replace = 'thurday',value='thursday')\n",
        "days = ['monday','tuesday','wednesday','thursday','friday']\n",
        "d_heights = []\n",
        "for i in days:\n",
        "    x = df['x30'].to_list().count(i)\n",
        "    d_heights.append(x)\n",
        "plt.bar(x=days,height = d_heights)"
      ],
      "metadata": {
        "id": "3hFwgArL0GAB",
        "outputId": "4c8eaa02-bc6a-4d89-a365-ad0c9a440b9d",
        "colab": {
          "base_uri": "https://localhost:8080/",
          "height": 447
        }
      },
      "execution_count": 39,
      "outputs": [
        {
          "output_type": "execute_result",
          "data": {
            "text/plain": [
              "<BarContainer object of 5 artists>"
            ]
          },
          "metadata": {},
          "execution_count": 39
        },
        {
          "output_type": "display_data",
          "data": {
            "text/plain": [
              "<Figure size 640x480 with 1 Axes>"
            ],
            "image/png": "[encoded data removed]"
          },
          "metadata": {}
        }
      ]
    },
    {
      "cell_type": "code",
      "source": [
        "df['x32'].value_counts()"
      ],
      "metadata": {
        "id": "WErTHaJ70Ia2",
        "outputId": "a5c3ee18-4306-42b6-9f04-03d22030ebda",
        "colab": {
          "base_uri": "https://localhost:8080/"
        }
      },
      "execution_count": 40,
      "outputs": [
        {
          "output_type": "execute_result",
          "data": {
            "text/plain": [
              "x32\n",
              "0.01%     40767\n",
              "-0.01%    34094\n",
              "0.0%      33923\n",
              "-0.0%     30492\n",
              "-0.02%     9924\n",
              "0.02%      7987\n",
              "-0.03%     1727\n",
              "0.03%       855\n",
              "-0.04%      138\n",
              "0.04%        55\n",
              "-0.05%        6\n",
              "0.05%         1\n",
              "Name: count, dtype: int64"
            ]
          },
          "metadata": {},
          "execution_count": 40
        }
      ]
    },
    {
      "cell_type": "code",
      "source": [
        "df['x37'].value_counts()\n"
      ],
      "metadata": {
        "id": "r98Zehw50LS1",
        "outputId": "71de40f9-b6d8-4806-d0a5-d10216762738",
        "colab": {
          "base_uri": "https://localhost:8080/"
        }
      },
      "execution_count": 41,
      "outputs": [
        {
          "output_type": "execute_result",
          "data": {
            "text/plain": [
              "x37\n",
              "$-311.26     6\n",
              "$-336.77     6\n",
              "$237.4       6\n",
              "$72.42       6\n",
              "$341.26      6\n",
              "            ..\n",
              "$-505.21     1\n",
              "$770.07      1\n",
              "$74.62       1\n",
              "$-1082.96    1\n",
              "$-1229.34    1\n",
              "Name: count, Length: 129198, dtype: int64"
            ]
          },
          "metadata": {},
          "execution_count": 41
        }
      ]
    },
    {
      "cell_type": "code",
      "source": [
        "### x32 and x37 are actually numeric with string format (even though x32 has few \"levels\" or possible values)\n",
        "### x32 is in percentage, but don't think it needs to be transformed to proportion since data will be scaled later (will double check, but should make no difference)\n",
        "\n",
        "df['x32'] = df['x32'].transform(lambda x: float(str(x).replace('%','')))\n",
        "df['x37'] = df['x37'].transform(lambda x: float(str(x).replace('$','')))"
      ],
      "metadata": {
        "id": "-8HSIli70VDX"
      },
      "execution_count": 42,
      "outputs": []
    },
    {
      "cell_type": "code",
      "source": [
        "#all significanlty less than 5%, should be no issue imputing,\n",
        "#imputing categorical features with modes\n",
        "# imputing continent with mode, then dates by mode grouped by continent\n",
        "\n",
        "print('imputing continent with mode: {}'.format(df['x24'].aggregate(pd.Series.mode)))\n",
        "df['x24'] = df['x24'].transform(lambda x: x.fillna(pd.Series.mode(x)[0]))\n",
        "\n",
        "print('imputing month with mode by cont: {}'.format(df[['x24','x29']].groupby(by='x24').aggregate(pd.Series.mode)))\n",
        "idx_29 = df.loc[df['x29'].isna(),:].index #saving NAs indices to quick check what they've been imputed with\n",
        "df['x29'] = df[['x24','x29']].groupby(by='x24').transform(lambda grp: grp.fillna(pd.Series.mode(grp)[0]))\n",
        "\n",
        "# will fix index showing on print later\n"
      ],
      "metadata": {
        "id": "qyAc5R1u209T",
        "outputId": "dc87f0b5-0845-4224-efa3-f7b36d4efe9e",
        "colab": {
          "base_uri": "https://localhost:8080/"
        }
      },
      "execution_count": 43,
      "outputs": [
        {
          "output_type": "stream",
          "name": "stdout",
          "text": [
            "imputing continent with mode: 0    asia\n",
            "Name: x24, dtype: object\n",
            "imputing month with mode by cont:          x29\n",
            "x24         \n",
            "america  Jul\n",
            "asia     Jul\n",
            "euorpe   Jul\n"
          ]
        }
      ]
    },
    {
      "cell_type": "code",
      "source": [
        "df[['x24','x29','x30']].groupby(by=['x24','x29']).aggregate(pd.Series.mode)\n",
        "# could just impute with wednesday since Wed is mode per month, but adding continent gives more context and different days for some months"
      ],
      "metadata": {
        "id": "2iV02zDI3Emu",
        "outputId": "70cdd003-bf6f-4d78-a19c-469ceef462f6",
        "colab": {
          "base_uri": "https://localhost:8080/",
          "height": 1000
        }
      },
      "execution_count": 44,
      "outputs": [
        {
          "output_type": "execute_result",
          "data": {
            "text/plain": [
              "                   x30\n",
              "x24     x29           \n",
              "america Apr  wednesday\n",
              "        Aug  wednesday\n",
              "        Feb    tuesday\n",
              "        Jul  wednesday\n",
              "        Jun  wednesday\n",
              "        Mar  wednesday\n",
              "        May  wednesday\n",
              "        Nov  wednesday\n",
              "        Oct  wednesday\n",
              "        Sep  wednesday\n",
              "asia    Apr  wednesday\n",
              "        Aug  wednesday\n",
              "        Dec  wednesday\n",
              "        Feb  wednesday\n",
              "        Jan  wednesday\n",
              "        Jul  wednesday\n",
              "        Jun  wednesday\n",
              "        Mar  wednesday\n",
              "        May  wednesday\n",
              "        Nov  wednesday\n",
              "        Oct  wednesday\n",
              "        Sep  wednesday\n",
              "euorpe  Apr  wednesday\n",
              "        Aug  wednesday\n",
              "        Dec  wednesday\n",
              "        Feb    tuesday\n",
              "        Jul  wednesday\n",
              "        Jun  wednesday\n",
              "        Mar  wednesday\n",
              "        May  wednesday\n",
              "        Nov  wednesday\n",
              "        Oct  wednesday\n",
              "        Sep  wednesday"
            ],
            "text/html": [
              "<div>\n",
              "<style scoped>\n",
              "    .dataframe tbody tr th:only-of-type {\n",
              "        vertical-align: middle;\n",
              "    }\n",
              "\n",
              "    .dataframe tbody tr th {\n",
              "        vertical-align: top;\n",
              "    }\n",
              "\n",
              "    .dataframe thead th {\n",
              "        text-align: right;\n",
              "    }\n",
              "</style>\n",
              "<table border=\"1\" class=\"dataframe\">\n",
              "  <thead>\n",
              "    <tr style=\"text-align: right;\">\n",
              "      <th></th>\n",
              "      <th></th>\n",
              "      <th>x30</th>\n",
              "    </tr>\n",
              "    <tr>\n",
              "      <th>x24</th>\n",
              "      <th>x29</th>\n",
              "      <th></th>\n",
              "    </tr>\n",
              "  </thead>\n",
              "  <tbody>\n",
              "    <tr>\n",
              "      <th rowspan=\"10\" valign=\"top\">america</th>\n",
              "      <th>Apr</th>\n",
              "      <td>wednesday</td>\n",
              "    </tr>\n",
              "    <tr>\n",
              "      <th>Aug</th>\n",
              "      <td>wednesday</td>\n",
              "    </tr>\n",
              "    <tr>\n",
              "      <th>Feb</th>\n",
              "      <td>tuesday</td>\n",
              "    </tr>\n",
              "    <tr>\n",
              "      <th>Jul</th>\n",
              "      <td>wednesday</td>\n",
              "    </tr>\n",
              "    <tr>\n",
              "      <th>Jun</th>\n",
              "      <td>wednesday</td>\n",
              "    </tr>\n",
              "    <tr>\n",
              "      <th>Mar</th>\n",
              "      <td>wednesday</td>\n",
              "    </tr>\n",
              "    <tr>\n",
              "      <th>May</th>\n",
              "      <td>wednesday</td>\n",
              "    </tr>\n",
              "    <tr>\n",
              "      <th>Nov</th>\n",
              "      <td>wednesday</td>\n",
              "    </tr>\n",
              "    <tr>\n",
              "      <th>Oct</th>\n",
              "      <td>wednesday</td>\n",
              "    </tr>\n",
              "    <tr>\n",
              "      <th>Sep</th>\n",
              "      <td>wednesday</td>\n",
              "    </tr>\n",
              "    <tr>\n",
              "      <th rowspan=\"12\" valign=\"top\">asia</th>\n",
              "      <th>Apr</th>\n",
              "      <td>wednesday</td>\n",
              "    </tr>\n",
              "    <tr>\n",
              "      <th>Aug</th>\n",
              "      <td>wednesday</td>\n",
              "    </tr>\n",
              "    <tr>\n",
              "      <th>Dec</th>\n",
              "      <td>wednesday</td>\n",
              "    </tr>\n",
              "    <tr>\n",
              "      <th>Feb</th>\n",
              "      <td>wednesday</td>\n",
              "    </tr>\n",
              "    <tr>\n",
              "      <th>Jan</th>\n",
              "      <td>wednesday</td>\n",
              "    </tr>\n",
              "    <tr>\n",
              "      <th>Jul</th>\n",
              "      <td>wednesday</td>\n",
              "    </tr>\n",
              "    <tr>\n",
              "      <th>Jun</th>\n",
              "      <td>wednesday</td>\n",
              "    </tr>\n",
              "    <tr>\n",
              "      <th>Mar</th>\n",
              "      <td>wednesday</td>\n",
              "    </tr>\n",
              "    <tr>\n",
              "      <th>May</th>\n",
              "      <td>wednesday</td>\n",
              "    </tr>\n",
              "    <tr>\n",
              "      <th>Nov</th>\n",
              "      <td>wednesday</td>\n",
              "    </tr>\n",
              "    <tr>\n",
              "      <th>Oct</th>\n",
              "      <td>wednesday</td>\n",
              "    </tr>\n",
              "    <tr>\n",
              "      <th>Sep</th>\n",
              "      <td>wednesday</td>\n",
              "    </tr>\n",
              "    <tr>\n",
              "      <th rowspan=\"11\" valign=\"top\">euorpe</th>\n",
              "      <th>Apr</th>\n",
              "      <td>wednesday</td>\n",
              "    </tr>\n",
              "    <tr>\n",
              "      <th>Aug</th>\n",
              "      <td>wednesday</td>\n",
              "    </tr>\n",
              "    <tr>\n",
              "      <th>Dec</th>\n",
              "      <td>wednesday</td>\n",
              "    </tr>\n",
              "    <tr>\n",
              "      <th>Feb</th>\n",
              "      <td>tuesday</td>\n",
              "    </tr>\n",
              "    <tr>\n",
              "      <th>Jul</th>\n",
              "      <td>wednesday</td>\n",
              "    </tr>\n",
              "    <tr>\n",
              "      <th>Jun</th>\n",
              "      <td>wednesday</td>\n",
              "    </tr>\n",
              "    <tr>\n",
              "      <th>Mar</th>\n",
              "      <td>wednesday</td>\n",
              "    </tr>\n",
              "    <tr>\n",
              "      <th>May</th>\n",
              "      <td>wednesday</td>\n",
              "    </tr>\n",
              "    <tr>\n",
              "      <th>Nov</th>\n",
              "      <td>wednesday</td>\n",
              "    </tr>\n",
              "    <tr>\n",
              "      <th>Oct</th>\n",
              "      <td>wednesday</td>\n",
              "    </tr>\n",
              "    <tr>\n",
              "      <th>Sep</th>\n",
              "      <td>wednesday</td>\n",
              "    </tr>\n",
              "  </tbody>\n",
              "</table>\n",
              "</div>"
            ]
          },
          "metadata": {},
          "execution_count": 44
        }
      ]
    },
    {
      "cell_type": "code",
      "source": [
        "# impute day\n",
        "df['x30'] = df[['x24','x29','x30']].groupby(by=['x24','x29']).transform(lambda grp: grp.fillna(pd.Series.mode(grp)[0]))"
      ],
      "metadata": {
        "id": "HVQavir8IV9m"
      },
      "execution_count": 45,
      "outputs": []
    },
    {
      "cell_type": "code",
      "source": [
        "X = df.loc[:,df.columns != 'y']\n",
        "y = df['y'].values.flatten()\n",
        "\n",
        "df_num = X.select_dtypes(exclude='object')\n",
        "num_cols = df_num.columns\n",
        "\n",
        "# impute numeric with median\n",
        "for i in num_cols:\n",
        "    df_num[i] = df_num[i].transform(lambda x: x.fillna(pd.Series.mode(x)[0]))\n",
        "df_num.info()\n",
        "\n",
        "df_cat = X.select_dtypes(include='object')\n",
        "cat_cols = df_cat.columns\n",
        "\n",
        "# scale numerical data\n",
        "scaler = StandardScaler()\n",
        "df_num = scaler.fit_transform(df_num)\n",
        "\n",
        "#one hot encode cat data\n",
        "encoder = OneHotEncoder(sparse_output=False)\n",
        "df_cat = encoder.fit_transform(df_cat)"
      ],
      "metadata": {
        "id": "w8Uy9xG3Iern",
        "outputId": "d84af43f-6958-4422-aab7-96035806ff97",
        "colab": {
          "base_uri": "https://localhost:8080/"
        }
      },
      "execution_count": 46,
      "outputs": [
        {
          "output_type": "stream",
          "name": "stdout",
          "text": [
            "<class 'pandas.core.frame.DataFrame'>\n",
            "RangeIndex: 160000 entries, 0 to 159999\n",
            "Data columns (total 47 columns):\n",
            " #   Column  Non-Null Count   Dtype  \n",
            "---  ------  --------------   -----  \n",
            " 0   x0      160000 non-null  float64\n",
            " 1   x1      160000 non-null  float64\n",
            " 2   x2      160000 non-null  float64\n",
            " 3   x3      160000 non-null  float64\n",
            " 4   x4      160000 non-null  float64\n",
            " 5   x5      160000 non-null  float64\n",
            " 6   x6      160000 non-null  float64\n",
            " 7   x7      160000 non-null  float64\n",
            " 8   x8      160000 non-null  float64\n",
            " 9   x9      160000 non-null  float64\n",
            " 10  x10     160000 non-null  float64\n",
            " 11  x11     160000 non-null  float64\n",
            " 12  x12     160000 non-null  float64\n",
            " 13  x13     160000 non-null  float64\n",
            " 14  x14     160000 non-null  float64\n",
            " 15  x15     160000 non-null  float64\n",
            " 16  x16     160000 non-null  float64\n",
            " 17  x17     160000 non-null  float64\n",
            " 18  x18     160000 non-null  float64\n",
            " 19  x19     160000 non-null  float64\n",
            " 20  x20     160000 non-null  float64\n",
            " 21  x21     160000 non-null  float64\n",
            " 22  x22     160000 non-null  float64\n",
            " 23  x23     160000 non-null  float64\n",
            " 24  x25     160000 non-null  float64\n",
            " 25  x26     160000 non-null  float64\n",
            " 26  x27     160000 non-null  float64\n",
            " 27  x28     160000 non-null  float64\n",
            " 28  x31     160000 non-null  float64\n",
            " 29  x32     160000 non-null  float64\n",
            " 30  x33     160000 non-null  float64\n",
            " 31  x34     160000 non-null  float64\n",
            " 32  x35     160000 non-null  float64\n",
            " 33  x36     160000 non-null  float64\n",
            " 34  x37     160000 non-null  float64\n",
            " 35  x38     160000 non-null  float64\n",
            " 36  x39     160000 non-null  float64\n",
            " 37  x40     160000 non-null  float64\n",
            " 38  x41     160000 non-null  float64\n",
            " 39  x42     160000 non-null  float64\n",
            " 40  x43     160000 non-null  float64\n",
            " 41  x44     160000 non-null  float64\n",
            " 42  x45     160000 non-null  float64\n",
            " 43  x46     160000 non-null  float64\n",
            " 44  x47     160000 non-null  float64\n",
            " 45  x48     160000 non-null  float64\n",
            " 46  x49     160000 non-null  float64\n",
            "dtypes: float64(47)\n",
            "memory usage: 57.4 MB\n"
          ]
        }
      ]
    },
    {
      "cell_type": "code",
      "source": [
        "X = np.hstack([df_num,df_cat])"
      ],
      "metadata": {
        "id": "R4oaw8CgIkXV"
      },
      "execution_count": 47,
      "outputs": []
    },
    {
      "cell_type": "code",
      "source": [
        "df['y'].value_counts() # not balanced"
      ],
      "metadata": {
        "id": "xbzdACUdImVy",
        "outputId": "cd6cd8b5-97bd-4a53-a32b-2c794771c7b6",
        "colab": {
          "base_uri": "https://localhost:8080/"
        }
      },
      "execution_count": 48,
      "outputs": [
        {
          "output_type": "execute_result",
          "data": {
            "text/plain": [
              "y\n",
              "0    95803\n",
              "1    64197\n",
              "Name: count, dtype: int64"
            ]
          },
          "metadata": {},
          "execution_count": 48
        }
      ]
    },
    {
      "cell_type": "code",
      "source": [
        "#add y plot"
      ],
      "metadata": {
        "id": "vUXTcWUZIoot"
      },
      "execution_count": 49,
      "outputs": []
    },
    {
      "cell_type": "code",
      "source": [
        "## define cost function\n",
        "def cost(y_pred,y_true):\n",
        "    diff = y_pred - y_true\n",
        "    x = 0\n",
        "    for i in diff:\n",
        "        #false pos (y_pred -y_true == 1)\n",
        "        if i == 1:\n",
        "            x += 100\n",
        "        #false neg (y_pred -y_true ==-1)\n",
        "        elif i == -1:\n",
        "            x += 150\n",
        "    return(x)"
      ],
      "metadata": {
        "id": "HRJz__nu_bxm"
      },
      "execution_count": 50,
      "outputs": []
    },
    {
      "cell_type": "code",
      "source": [
        "skf = StratifiedKFold(n_splits=5,random_state=807,shuffle=True)\n",
        "skf.get_n_splits(X,y)"
      ],
      "metadata": {
        "id": "qIgBnSnHIqjU",
        "outputId": "5428c04f-6150-448e-f273-72b677e3d8c1",
        "colab": {
          "base_uri": "https://localhost:8080/"
        }
      },
      "execution_count": 51,
      "outputs": [
        {
          "output_type": "execute_result",
          "data": {
            "text/plain": [
              "5"
            ]
          },
          "metadata": {},
          "execution_count": 51
        }
      ]
    },
    {
      "cell_type": "code",
      "source": [
        "logR = LogisticRegression(random_state=807,penalty='elasticnet',class_weight='balanced',solver='saga')\n",
        "params = {'C':[0.00001,0.0001,0.001,0.01,0.1,1,2,5,10],'l1_ratio':[0,0.001,0.01,0.1,0.25,0.5,0.75,0.9,0.99,1],'max_iter':[25,50,75]}\n",
        "\n",
        "lr_clf = GridSearchCV(estimator=logR,param_grid=params,n_jobs=-1,cv=skf)\n",
        "lr_clf.fit(X,y)"
      ],
      "metadata": {
        "id": "AcpquSzJO6SF"
      },
      "execution_count": null,
      "outputs": []
    },
    {
      "cell_type": "code",
      "source": [
        "lr_params = lr_clf.best_params_\n",
        "lr_params"
      ],
      "metadata": {
        "id": "Eb5e2xOvO8pr"
      },
      "execution_count": null,
      "outputs": []
    },
    {
      "cell_type": "markdown",
      "source": [
        "{'C': 0.001, 'l1_ratio': 0.5, 'max_iter': 50}"
      ],
      "metadata": {
        "id": "gfllGKF4pUMP"
      }
    },
    {
      "cell_type": "code",
      "source": [
        "model1 = LogisticRegression(random_state=807,penalty='elasticnet',class_weight='balanced',solver='saga')\n",
        "model1.set_params(**lr_params)\n",
        "model1.fit(X,y)\n",
        "\n",
        "preds_m1 = cross_val_predict(model1,X,y,cv=skf)"
      ],
      "metadata": {
        "id": "RHUkzlw2PATu"
      },
      "execution_count": null,
      "outputs": []
    },
    {
      "cell_type": "code",
      "source": [
        "cr_m1 = classification_report(y,preds_m1,output_dict=True)\n",
        "cr_m1\n"
      ],
      "metadata": {
        "id": "3katCHeBPQB-"
      },
      "execution_count": null,
      "outputs": []
    },
    {
      "cell_type": "code",
      "source": [
        "ConfusionMatrixDisplay.from_predictions(y,preds_m1)\n"
      ],
      "metadata": {
        "id": "ent8XHdUPayB"
      },
      "execution_count": null,
      "outputs": []
    },
    {
      "cell_type": "code",
      "source": [
        "cost_m1 = cost(preds_m1,y)\n",
        "cost_m1"
      ],
      "metadata": {
        "id": "zawbBlwk_fbc"
      },
      "execution_count": null,
      "outputs": []
    },
    {
      "cell_type": "code",
      "source": [
        "rf = RandomForestClassifier(random_state=807,criterion='gini',class_weight='balanced')\n",
        "params = {'n_estimators':[200,250,500],'max_features':['sqrt','log2',20]}\n",
        "rf_clf = GridSearchCV(rf,param_grid=params,cv=skf,n_jobs = -1)"
      ],
      "metadata": {
        "id": "4HWotr_VPhhH"
      },
      "execution_count": null,
      "outputs": []
    },
    {
      "cell_type": "code",
      "source": [
        "rf_clf.fit(X,y)"
      ],
      "metadata": {
        "id": "soQp5nQ8PkUl"
      },
      "execution_count": null,
      "outputs": []
    },
    {
      "cell_type": "code",
      "source": [
        "rf_params = rf_clf.best_params_\n",
        "rf_params"
      ],
      "metadata": {
        "id": "Hz6owkMTPlOF"
      },
      "execution_count": null,
      "outputs": []
    },
    {
      "cell_type": "code",
      "source": [
        "model2 = RandomForestClassifier(random_state=807,criterion='gini',class_weight='balanced')\n",
        "model2.set_params(**rf_params)\n",
        "preds_m2 = cross_val_predict(model2,X,y,cv=skf)"
      ],
      "metadata": {
        "id": "hvIbks5bPnfm"
      },
      "execution_count": null,
      "outputs": []
    },
    {
      "cell_type": "code",
      "source": [
        "cr_m2 = classification_report(y,preds_m2,output_dict=True)\n",
        "cr_m2"
      ],
      "metadata": {
        "id": "Aaw8aFI7PpCG"
      },
      "execution_count": null,
      "outputs": []
    },
    {
      "cell_type": "code",
      "source": [
        "ConfusionMatrixDisplay.from_predictions(y,preds_m2)"
      ],
      "metadata": {
        "id": "BK6zSOo4Pq_P"
      },
      "execution_count": null,
      "outputs": []
    },
    {
      "cell_type": "code",
      "source": [
        "cost_m2 = cost(preds_m2,y)\n",
        "cost_m2\n"
      ],
      "metadata": {
        "id": "XqmhfmAx9Ge2"
      },
      "execution_count": null,
      "outputs": []
    },
    {
      "cell_type": "code",
      "source": [
        "x"
      ],
      "metadata": {
        "id": "Fdw5gLOk9oBh"
      },
      "execution_count": null,
      "outputs": []
    },
    {
      "cell_type": "code",
      "source": [
        "svc = NuSVC(random_state=807,class_weight='balanced',cache_size = 8192)\n",
        "params = {'nu':[0.0001,0.01, 0.1, 0.25, 0.5, 0.75, 0.99,1],'kernel':['linear','rbf','sigmoid']}\n",
        "svc_clf = GridSearchCV(svc,param_grid=params,cv=skf,n_jobs=-1)"
      ],
      "metadata": {
        "id": "zYBX6GGsPwEx"
      },
      "execution_count": null,
      "outputs": []
    },
    {
      "cell_type": "code",
      "source": [
        "svc_clf.fit(X,y)"
      ],
      "metadata": {
        "id": "EjZRywoCP6hm"
      },
      "execution_count": null,
      "outputs": []
    },
    {
      "cell_type": "code",
      "source": [
        "svc_params = svc_clf.best_params_\n",
        "svc_params"
      ],
      "metadata": {
        "id": "yYiNL9AlP98A"
      },
      "execution_count": null,
      "outputs": []
    },
    {
      "cell_type": "code",
      "source": [
        "model3 = NuSVC(random_state=807,class_weight='balanced',cache_size = 2048)\n",
        "model3.set_params(**svc_params)\n",
        "preds_m3 = cross_val_predict(model3,X,y,cv=skf)"
      ],
      "metadata": {
        "id": "_58pwDIoQGHe"
      },
      "execution_count": null,
      "outputs": []
    },
    {
      "cell_type": "code",
      "source": [
        "cr_m3 = classification_report(y,preds_m3,output_dict=True)\n",
        "cr_m3"
      ],
      "metadata": {
        "id": "5AVAi2z8QPOc"
      },
      "execution_count": null,
      "outputs": []
    },
    {
      "cell_type": "code",
      "source": [
        "ConfusionMatrixDisplay.from_predictions(y,preds_m3)"
      ],
      "metadata": {
        "id": "j5nGHzRUQUOl"
      },
      "execution_count": null,
      "outputs": []
    },
    {
      "cell_type": "code",
      "source": [
        "cost_m3 = cost(preds_m3,y)\n",
        "cost_m3"
      ],
      "metadata": {
        "id": "sefhH4BT-Rd3",
        "colab": {
          "base_uri": "https://localhost:8080/",
          "height": 185
        },
        "outputId": "8946dca4-81fe-4bfb-be64-a384b53f9eb4"
      },
      "execution_count": 42,
      "outputs": [
        {
          "output_type": "error",
          "ename": "NameError",
          "evalue": "ignored",
          "traceback": [
            "\u001b[0;31m---------------------------------------------------------------------------\u001b[0m",
            "\u001b[0;31mNameError\u001b[0m                                 Traceback (most recent call last)",
            "Cell \u001b[0;32mIn[42], line 1\u001b[0m\n\u001b[0;32m----> 1\u001b[0m cost_m3 \u001b[38;5;241m=\u001b[39m cost(\u001b[43mpreds_m3\u001b[49m,y)\n\u001b[1;32m      2\u001b[0m cost_m3\n",
            "\u001b[0;31mNameError\u001b[0m: name 'preds_m3' is not defined"
          ]
        }
      ]
    },
    {
      "cell_type": "code",
      "source": [
        "es = EarlyStopping(monitor='val_loss', mode='min',patience=10,restore_best_weights=True,start_from_epoch=10)"
      ],
      "metadata": {
        "id": "F7PDvk6faa4X"
      },
      "execution_count": 57,
      "outputs": []
    },
    {
      "cell_type": "code",
      "source": [
        "now = datetime.datetime.now\n"
      ],
      "metadata": {
        "id": "b04x7Mf5dBDd"
      },
      "execution_count": 58,
      "outputs": []
    },
    {
      "cell_type": "code",
      "source": [
        "fold_results = {}\n",
        "t_tot = now()\n",
        "for i, (train_index, test_index) in enumerate(skf.split(X,y)):\n",
        "  # building model within loop to reset weights each time\n",
        "  tf.keras.backend.clear_session()\n",
        "  model4 = tf.keras.Sequential()\n",
        "  model4.add(tf.keras.Input(shape=(X.shape[1],)))\n",
        "  model4.add(tf.keras.layers.Dense(64, activation='relu',name=\"Relu1\"))\n",
        "  model4.add(tf.keras.layers.Dense(64, activation='relu', name=\"Relu2\"))\n",
        "  model4.add(tf.keras.layers.Dropout(0.4))\n",
        "  model4.add(tf.keras.layers.Dense(1, activation='sigmoid', name=\"Activation\"))\n",
        "  model4.compile(optimizer='adam',\n",
        "                loss=tf.keras.losses.BinaryCrossentropy(from_logits=False),\n",
        "                metrics = [tf.keras.metrics.AUC(from_logits=False), 'accuracy'])\n",
        "  t_fold = now()\n",
        "  print('x_train shape:', X[train_index].shape)\n",
        "  model4.fit(X[train_index],y[train_index],epochs=100,batch_size=128,validation_split=0.2,callbacks=[es])\n",
        "  fold_results.update({i:{'predictions':np.round(model4.predict(X[test_index]).flatten(),0),'index':test_index,'y_true':y[test_index]}})\n",
        "  print('fold train/predict time: %s' % (now()-t_fold))\n",
        "print('total train/predict time: %s' % (now()-t_tot))"
      ],
      "metadata": {
        "colab": {
          "base_uri": "https://localhost:8080/"
        },
        "id": "oEjPIqNtVPF1",
        "outputId": "4a98bdb5-27a3-40d2-db96-f664467c9318"
      },
      "execution_count": 59,
      "outputs": [
        {
          "output_type": "stream",
          "name": "stdout",
          "text": [
            "x_train shape: (128000, 67)\n",
            "Epoch 1/100\n",
            "800/800 [==============================] - 4s 3ms/step - loss: 0.4184 - auc: 0.8842 - accuracy: 0.8048 - val_loss: 0.3038 - val_auc: 0.9420 - val_accuracy: 0.8712\n",
            "Epoch 2/100\n",
            "800/800 [==============================] - 3s 3ms/step - loss: 0.2839 - auc: 0.9491 - accuracy: 0.8843 - val_loss: 0.2499 - val_auc: 0.9612 - val_accuracy: 0.9000\n",
            "Epoch 3/100\n",
            "800/800 [==============================] - 2s 3ms/step - loss: 0.2394 - auc: 0.9638 - accuracy: 0.9071 - val_loss: 0.2145 - val_auc: 0.9713 - val_accuracy: 0.9171\n",
            "Epoch 4/100\n",
            "800/800 [==============================] - 3s 3ms/step - loss: 0.2110 - auc: 0.9718 - accuracy: 0.9206 - val_loss: 0.1912 - val_auc: 0.9767 - val_accuracy: 0.9284\n",
            "Epoch 5/100\n",
            "800/800 [==============================] - 2s 3ms/step - loss: 0.1915 - auc: 0.9765 - accuracy: 0.9296 - val_loss: 0.1754 - val_auc: 0.9803 - val_accuracy: 0.9362\n",
            "Epoch 6/100\n",
            "800/800 [==============================] - 3s 3ms/step - loss: 0.1770 - auc: 0.9796 - accuracy: 0.9370 - val_loss: 0.1627 - val_auc: 0.9825 - val_accuracy: 0.9439\n",
            "Epoch 7/100\n",
            "800/800 [==============================] - 3s 3ms/step - loss: 0.1666 - auc: 0.9817 - accuracy: 0.9410 - val_loss: 0.1574 - val_auc: 0.9835 - val_accuracy: 0.9450\n",
            "Epoch 8/100\n",
            "800/800 [==============================] - 3s 4ms/step - loss: 0.1588 - auc: 0.9832 - accuracy: 0.9453 - val_loss: 0.1485 - val_auc: 0.9853 - val_accuracy: 0.9488\n",
            "Epoch 9/100\n",
            "800/800 [==============================] - 3s 3ms/step - loss: 0.1508 - auc: 0.9847 - accuracy: 0.9475 - val_loss: 0.1420 - val_auc: 0.9861 - val_accuracy: 0.9518\n",
            "Epoch 10/100\n",
            "800/800 [==============================] - 3s 3ms/step - loss: 0.1453 - auc: 0.9855 - accuracy: 0.9508 - val_loss: 0.1388 - val_auc: 0.9870 - val_accuracy: 0.9522\n",
            "Epoch 11/100\n",
            "800/800 [==============================] - 3s 3ms/step - loss: 0.1390 - auc: 0.9866 - accuracy: 0.9532 - val_loss: 0.1349 - val_auc: 0.9873 - val_accuracy: 0.9548\n",
            "Epoch 12/100\n",
            "800/800 [==============================] - 3s 3ms/step - loss: 0.1351 - auc: 0.9873 - accuracy: 0.9546 - val_loss: 0.1301 - val_auc: 0.9879 - val_accuracy: 0.9577\n",
            "Epoch 13/100\n",
            "800/800 [==============================] - 3s 3ms/step - loss: 0.1305 - auc: 0.9880 - accuracy: 0.9570 - val_loss: 0.1270 - val_auc: 0.9885 - val_accuracy: 0.9587\n",
            "Epoch 14/100\n",
            "800/800 [==============================] - 2s 3ms/step - loss: 0.1267 - auc: 0.9886 - accuracy: 0.9584 - val_loss: 0.1217 - val_auc: 0.9892 - val_accuracy: 0.9610\n",
            "Epoch 15/100\n",
            "800/800 [==============================] - 3s 3ms/step - loss: 0.1239 - auc: 0.9888 - accuracy: 0.9597 - val_loss: 0.1207 - val_auc: 0.9892 - val_accuracy: 0.9626\n",
            "Epoch 16/100\n",
            "800/800 [==============================] - 3s 4ms/step - loss: 0.1202 - auc: 0.9894 - accuracy: 0.9618 - val_loss: 0.1172 - val_auc: 0.9896 - val_accuracy: 0.9625\n",
            "Epoch 17/100\n",
            "800/800 [==============================] - 3s 3ms/step - loss: 0.1179 - auc: 0.9898 - accuracy: 0.9628 - val_loss: 0.1165 - val_auc: 0.9898 - val_accuracy: 0.9634\n",
            "Epoch 18/100\n",
            "800/800 [==============================] - 3s 3ms/step - loss: 0.1148 - auc: 0.9900 - accuracy: 0.9638 - val_loss: 0.1148 - val_auc: 0.9901 - val_accuracy: 0.9640\n",
            "Epoch 19/100\n",
            "800/800 [==============================] - 3s 3ms/step - loss: 0.1112 - auc: 0.9907 - accuracy: 0.9648 - val_loss: 0.1148 - val_auc: 0.9900 - val_accuracy: 0.9639\n",
            "Epoch 20/100\n",
            "800/800 [==============================] - 3s 3ms/step - loss: 0.1104 - auc: 0.9906 - accuracy: 0.9658 - val_loss: 0.1086 - val_auc: 0.9909 - val_accuracy: 0.9669\n",
            "Epoch 21/100\n",
            "800/800 [==============================] - 3s 3ms/step - loss: 0.1086 - auc: 0.9910 - accuracy: 0.9661 - val_loss: 0.1114 - val_auc: 0.9905 - val_accuracy: 0.9664\n",
            "Epoch 22/100\n",
            "800/800 [==============================] - 3s 3ms/step - loss: 0.1073 - auc: 0.9909 - accuracy: 0.9675 - val_loss: 0.1085 - val_auc: 0.9908 - val_accuracy: 0.9676\n",
            "Epoch 23/100\n",
            "800/800 [==============================] - 3s 3ms/step - loss: 0.1042 - auc: 0.9914 - accuracy: 0.9681 - val_loss: 0.1105 - val_auc: 0.9903 - val_accuracy: 0.9661\n",
            "Epoch 24/100\n",
            "800/800 [==============================] - 2s 3ms/step - loss: 0.1039 - auc: 0.9915 - accuracy: 0.9680 - val_loss: 0.1069 - val_auc: 0.9911 - val_accuracy: 0.9672\n",
            "Epoch 25/100\n",
            "800/800 [==============================] - 2s 3ms/step - loss: 0.1018 - auc: 0.9918 - accuracy: 0.9694 - val_loss: 0.1063 - val_auc: 0.9907 - val_accuracy: 0.9680\n",
            "Epoch 26/100\n",
            "800/800 [==============================] - 3s 4ms/step - loss: 0.0998 - auc: 0.9920 - accuracy: 0.9693 - val_loss: 0.1051 - val_auc: 0.9912 - val_accuracy: 0.9683\n",
            "Epoch 27/100\n",
            "800/800 [==============================] - 4s 5ms/step - loss: 0.0995 - auc: 0.9919 - accuracy: 0.9698 - val_loss: 0.1065 - val_auc: 0.9910 - val_accuracy: 0.9681\n",
            "Epoch 28/100\n",
            "800/800 [==============================] - 3s 4ms/step - loss: 0.0977 - auc: 0.9922 - accuracy: 0.9698 - val_loss: 0.1090 - val_auc: 0.9906 - val_accuracy: 0.9671\n",
            "Epoch 29/100\n",
            "800/800 [==============================] - 4s 4ms/step - loss: 0.0986 - auc: 0.9921 - accuracy: 0.9705 - val_loss: 0.1057 - val_auc: 0.9911 - val_accuracy: 0.9691\n",
            "Epoch 30/100\n",
            "800/800 [==============================] - 4s 5ms/step - loss: 0.0970 - auc: 0.9924 - accuracy: 0.9703 - val_loss: 0.1028 - val_auc: 0.9912 - val_accuracy: 0.9701\n",
            "Epoch 31/100\n",
            "800/800 [==============================] - 4s 5ms/step - loss: 0.0962 - auc: 0.9922 - accuracy: 0.9715 - val_loss: 0.1064 - val_auc: 0.9910 - val_accuracy: 0.9685\n",
            "Epoch 32/100\n",
            "800/800 [==============================] - 4s 4ms/step - loss: 0.0954 - auc: 0.9923 - accuracy: 0.9716 - val_loss: 0.1058 - val_auc: 0.9909 - val_accuracy: 0.9694\n",
            "Epoch 33/100\n",
            "800/800 [==============================] - 4s 4ms/step - loss: 0.0947 - auc: 0.9925 - accuracy: 0.9714 - val_loss: 0.1046 - val_auc: 0.9912 - val_accuracy: 0.9693\n",
            "Epoch 34/100\n",
            "800/800 [==============================] - 3s 4ms/step - loss: 0.0931 - auc: 0.9927 - accuracy: 0.9723 - val_loss: 0.1029 - val_auc: 0.9912 - val_accuracy: 0.9695\n",
            "Epoch 35/100\n",
            "800/800 [==============================] - 3s 4ms/step - loss: 0.0931 - auc: 0.9926 - accuracy: 0.9720 - val_loss: 0.1030 - val_auc: 0.9914 - val_accuracy: 0.9698\n",
            "Epoch 36/100\n",
            "800/800 [==============================] - 3s 4ms/step - loss: 0.0930 - auc: 0.9927 - accuracy: 0.9723 - val_loss: 0.1026 - val_auc: 0.9915 - val_accuracy: 0.9692\n",
            "Epoch 37/100\n",
            "800/800 [==============================] - 3s 3ms/step - loss: 0.0916 - auc: 0.9929 - accuracy: 0.9728 - val_loss: 0.1054 - val_auc: 0.9912 - val_accuracy: 0.9692\n",
            "Epoch 38/100\n",
            "800/800 [==============================] - 3s 3ms/step - loss: 0.0915 - auc: 0.9929 - accuracy: 0.9731 - val_loss: 0.1052 - val_auc: 0.9914 - val_accuracy: 0.9697\n",
            "Epoch 39/100\n",
            "800/800 [==============================] - 3s 3ms/step - loss: 0.0913 - auc: 0.9929 - accuracy: 0.9732 - val_loss: 0.1049 - val_auc: 0.9912 - val_accuracy: 0.9693\n",
            "Epoch 40/100\n",
            "800/800 [==============================] - 3s 4ms/step - loss: 0.0910 - auc: 0.9929 - accuracy: 0.9730 - val_loss: 0.1038 - val_auc: 0.9915 - val_accuracy: 0.9691\n",
            "Epoch 41/100\n",
            "800/800 [==============================] - 3s 4ms/step - loss: 0.0908 - auc: 0.9929 - accuracy: 0.9730 - val_loss: 0.1035 - val_auc: 0.9911 - val_accuracy: 0.9700\n",
            "Epoch 42/100\n",
            "800/800 [==============================] - 3s 3ms/step - loss: 0.0889 - auc: 0.9932 - accuracy: 0.9737 - val_loss: 0.1044 - val_auc: 0.9914 - val_accuracy: 0.9709\n",
            "Epoch 43/100\n",
            "800/800 [==============================] - 3s 3ms/step - loss: 0.0898 - auc: 0.9931 - accuracy: 0.9734 - val_loss: 0.1033 - val_auc: 0.9912 - val_accuracy: 0.9708\n",
            "Epoch 44/100\n",
            "800/800 [==============================] - 3s 3ms/step - loss: 0.0901 - auc: 0.9928 - accuracy: 0.9732 - val_loss: 0.1029 - val_auc: 0.9913 - val_accuracy: 0.9700\n",
            "Epoch 45/100\n",
            "800/800 [==============================] - 3s 3ms/step - loss: 0.0877 - auc: 0.9932 - accuracy: 0.9743 - val_loss: 0.1023 - val_auc: 0.9913 - val_accuracy: 0.9703\n",
            "Epoch 46/100\n",
            "800/800 [==============================] - 3s 3ms/step - loss: 0.0878 - auc: 0.9933 - accuracy: 0.9744 - val_loss: 0.1036 - val_auc: 0.9916 - val_accuracy: 0.9696\n",
            "Epoch 47/100\n",
            "800/800 [==============================] - 3s 3ms/step - loss: 0.0874 - auc: 0.9932 - accuracy: 0.9741 - val_loss: 0.1052 - val_auc: 0.9911 - val_accuracy: 0.9700\n",
            "Epoch 48/100\n",
            "800/800 [==============================] - 3s 3ms/step - loss: 0.0866 - auc: 0.9933 - accuracy: 0.9742 - val_loss: 0.1042 - val_auc: 0.9911 - val_accuracy: 0.9708\n",
            "Epoch 49/100\n",
            "800/800 [==============================] - 3s 3ms/step - loss: 0.0873 - auc: 0.9934 - accuracy: 0.9739 - val_loss: 0.1057 - val_auc: 0.9911 - val_accuracy: 0.9701\n",
            "Epoch 50/100\n",
            "800/800 [==============================] - 3s 3ms/step - loss: 0.0860 - auc: 0.9935 - accuracy: 0.9741 - val_loss: 0.1029 - val_auc: 0.9911 - val_accuracy: 0.9708\n",
            "Epoch 51/100\n",
            "800/800 [==============================] - 3s 3ms/step - loss: 0.0871 - auc: 0.9933 - accuracy: 0.9741 - val_loss: 0.1042 - val_auc: 0.9912 - val_accuracy: 0.9710\n",
            "Epoch 52/100\n",
            "800/800 [==============================] - 3s 4ms/step - loss: 0.0848 - auc: 0.9936 - accuracy: 0.9751 - val_loss: 0.1076 - val_auc: 0.9909 - val_accuracy: 0.9699\n",
            "Epoch 53/100\n",
            "800/800 [==============================] - 3s 3ms/step - loss: 0.0860 - auc: 0.9936 - accuracy: 0.9745 - val_loss: 0.1057 - val_auc: 0.9912 - val_accuracy: 0.9702\n",
            "Epoch 54/100\n",
            "800/800 [==============================] - 3s 3ms/step - loss: 0.0856 - auc: 0.9935 - accuracy: 0.9753 - val_loss: 0.1071 - val_auc: 0.9910 - val_accuracy: 0.9703\n",
            "Epoch 55/100\n",
            "800/800 [==============================] - 4s 4ms/step - loss: 0.0849 - auc: 0.9936 - accuracy: 0.9751 - val_loss: 0.1055 - val_auc: 0.9911 - val_accuracy: 0.9700\n",
            "1000/1000 [==============================] - 2s 2ms/step\n",
            "fold train/predict time: 0:02:39.365897\n",
            "x_train shape: (128000, 67)\n",
            "Epoch 1/100\n",
            "800/800 [==============================] - 6s 5ms/step - loss: 0.4116 - auc: 0.8883 - accuracy: 0.8097 - val_loss: 0.3009 - val_auc: 0.9438 - val_accuracy: 0.8728\n",
            "Epoch 2/100\n",
            "800/800 [==============================] - 4s 5ms/step - loss: 0.2791 - auc: 0.9509 - accuracy: 0.8879 - val_loss: 0.2368 - val_auc: 0.9645 - val_accuracy: 0.9071\n",
            "Epoch 3/100\n",
            "800/800 [==============================] - 4s 5ms/step - loss: 0.2301 - auc: 0.9667 - accuracy: 0.9116 - val_loss: 0.2046 - val_auc: 0.9733 - val_accuracy: 0.9225\n",
            "Epoch 4/100\n",
            "800/800 [==============================] - 4s 5ms/step - loss: 0.2030 - auc: 0.9737 - accuracy: 0.9250 - val_loss: 0.1875 - val_auc: 0.9779 - val_accuracy: 0.9310\n",
            "Epoch 5/100\n",
            "800/800 [==============================] - 4s 5ms/step - loss: 0.1845 - auc: 0.9781 - accuracy: 0.9336 - val_loss: 0.1721 - val_auc: 0.9809 - val_accuracy: 0.9394\n",
            "Epoch 6/100\n",
            "800/800 [==============================] - 3s 3ms/step - loss: 0.1729 - auc: 0.9805 - accuracy: 0.9388 - val_loss: 0.1614 - val_auc: 0.9829 - val_accuracy: 0.9434\n",
            "Epoch 7/100\n",
            "800/800 [==============================] - 3s 4ms/step - loss: 0.1634 - auc: 0.9826 - accuracy: 0.9431 - val_loss: 0.1559 - val_auc: 0.9837 - val_accuracy: 0.9459\n",
            "Epoch 8/100\n",
            "800/800 [==============================] - 3s 4ms/step - loss: 0.1554 - auc: 0.9839 - accuracy: 0.9455 - val_loss: 0.1504 - val_auc: 0.9846 - val_accuracy: 0.9479\n",
            "Epoch 9/100\n",
            "800/800 [==============================] - 3s 3ms/step - loss: 0.1512 - auc: 0.9847 - accuracy: 0.9483 - val_loss: 0.1445 - val_auc: 0.9857 - val_accuracy: 0.9516\n",
            "Epoch 10/100\n",
            "800/800 [==============================] - 3s 3ms/step - loss: 0.1452 - auc: 0.9857 - accuracy: 0.9500 - val_loss: 0.1425 - val_auc: 0.9861 - val_accuracy: 0.9509\n",
            "Epoch 11/100\n",
            "800/800 [==============================] - 3s 3ms/step - loss: 0.1407 - auc: 0.9864 - accuracy: 0.9521 - val_loss: 0.1409 - val_auc: 0.9865 - val_accuracy: 0.9526\n",
            "Epoch 12/100\n",
            "800/800 [==============================] - 3s 3ms/step - loss: 0.1380 - auc: 0.9868 - accuracy: 0.9538 - val_loss: 0.1369 - val_auc: 0.9867 - val_accuracy: 0.9546\n",
            "Epoch 13/100\n",
            "800/800 [==============================] - 3s 4ms/step - loss: 0.1339 - auc: 0.9876 - accuracy: 0.9554 - val_loss: 0.1353 - val_auc: 0.9870 - val_accuracy: 0.9551\n",
            "Epoch 14/100\n",
            "800/800 [==============================] - 3s 4ms/step - loss: 0.1311 - auc: 0.9880 - accuracy: 0.9564 - val_loss: 0.1330 - val_auc: 0.9871 - val_accuracy: 0.9568\n",
            "Epoch 15/100\n",
            "800/800 [==============================] - 3s 4ms/step - loss: 0.1292 - auc: 0.9881 - accuracy: 0.9577 - val_loss: 0.1330 - val_auc: 0.9876 - val_accuracy: 0.9576\n",
            "Epoch 16/100\n",
            "800/800 [==============================] - 3s 4ms/step - loss: 0.1263 - auc: 0.9886 - accuracy: 0.9585 - val_loss: 0.1302 - val_auc: 0.9878 - val_accuracy: 0.9576\n",
            "Epoch 17/100\n",
            "800/800 [==============================] - 3s 3ms/step - loss: 0.1236 - auc: 0.9890 - accuracy: 0.9591 - val_loss: 0.1280 - val_auc: 0.9879 - val_accuracy: 0.9579\n",
            "Epoch 18/100\n",
            "800/800 [==============================] - 3s 3ms/step - loss: 0.1214 - auc: 0.9893 - accuracy: 0.9600 - val_loss: 0.1290 - val_auc: 0.9879 - val_accuracy: 0.9586\n",
            "Epoch 19/100\n",
            "800/800 [==============================] - 3s 3ms/step - loss: 0.1212 - auc: 0.9892 - accuracy: 0.9606 - val_loss: 0.1286 - val_auc: 0.9878 - val_accuracy: 0.9586\n",
            "Epoch 20/100\n",
            "800/800 [==============================] - 3s 4ms/step - loss: 0.1191 - auc: 0.9896 - accuracy: 0.9610 - val_loss: 0.1262 - val_auc: 0.9880 - val_accuracy: 0.9589\n",
            "Epoch 21/100\n",
            "800/800 [==============================] - 4s 4ms/step - loss: 0.1187 - auc: 0.9896 - accuracy: 0.9618 - val_loss: 0.1263 - val_auc: 0.9881 - val_accuracy: 0.9595\n",
            "Epoch 22/100\n",
            "800/800 [==============================] - 3s 4ms/step - loss: 0.1154 - auc: 0.9902 - accuracy: 0.9624 - val_loss: 0.1246 - val_auc: 0.9884 - val_accuracy: 0.9610\n",
            "Epoch 23/100\n",
            "800/800 [==============================] - 4s 5ms/step - loss: 0.1153 - auc: 0.9901 - accuracy: 0.9625 - val_loss: 0.1270 - val_auc: 0.9881 - val_accuracy: 0.9604\n",
            "Epoch 24/100\n",
            "800/800 [==============================] - 4s 4ms/step - loss: 0.1135 - auc: 0.9903 - accuracy: 0.9636 - val_loss: 0.1268 - val_auc: 0.9881 - val_accuracy: 0.9603\n",
            "Epoch 25/100\n",
            "800/800 [==============================] - 4s 4ms/step - loss: 0.1118 - auc: 0.9905 - accuracy: 0.9637 - val_loss: 0.1245 - val_auc: 0.9884 - val_accuracy: 0.9614\n",
            "Epoch 26/100\n",
            "800/800 [==============================] - 4s 4ms/step - loss: 0.1114 - auc: 0.9905 - accuracy: 0.9639 - val_loss: 0.1286 - val_auc: 0.9879 - val_accuracy: 0.9607\n",
            "Epoch 27/100\n",
            "800/800 [==============================] - 4s 4ms/step - loss: 0.1100 - auc: 0.9907 - accuracy: 0.9650 - val_loss: 0.1255 - val_auc: 0.9884 - val_accuracy: 0.9623\n",
            "Epoch 28/100\n",
            "800/800 [==============================] - 4s 5ms/step - loss: 0.1098 - auc: 0.9909 - accuracy: 0.9647 - val_loss: 0.1249 - val_auc: 0.9883 - val_accuracy: 0.9618\n",
            "Epoch 29/100\n",
            "800/800 [==============================] - 3s 4ms/step - loss: 0.1079 - auc: 0.9912 - accuracy: 0.9646 - val_loss: 0.1217 - val_auc: 0.9887 - val_accuracy: 0.9620\n",
            "Epoch 30/100\n",
            "800/800 [==============================] - 3s 3ms/step - loss: 0.1070 - auc: 0.9913 - accuracy: 0.9662 - val_loss: 0.1209 - val_auc: 0.9889 - val_accuracy: 0.9622\n",
            "Epoch 31/100\n",
            "800/800 [==============================] - 3s 3ms/step - loss: 0.1057 - auc: 0.9914 - accuracy: 0.9658 - val_loss: 0.1208 - val_auc: 0.9888 - val_accuracy: 0.9629\n",
            "Epoch 32/100\n",
            "800/800 [==============================] - 3s 3ms/step - loss: 0.1057 - auc: 0.9915 - accuracy: 0.9655 - val_loss: 0.1242 - val_auc: 0.9888 - val_accuracy: 0.9623\n",
            "Epoch 33/100\n",
            "800/800 [==============================] - 3s 4ms/step - loss: 0.1047 - auc: 0.9916 - accuracy: 0.9667 - val_loss: 0.1204 - val_auc: 0.9890 - val_accuracy: 0.9621\n",
            "Epoch 34/100\n",
            "800/800 [==============================] - 3s 3ms/step - loss: 0.1045 - auc: 0.9916 - accuracy: 0.9666 - val_loss: 0.1224 - val_auc: 0.9887 - val_accuracy: 0.9633\n",
            "Epoch 35/100\n",
            "800/800 [==============================] - 3s 3ms/step - loss: 0.1033 - auc: 0.9917 - accuracy: 0.9672 - val_loss: 0.1189 - val_auc: 0.9891 - val_accuracy: 0.9640\n",
            "Epoch 36/100\n",
            "800/800 [==============================] - 3s 3ms/step - loss: 0.1031 - auc: 0.9917 - accuracy: 0.9672 - val_loss: 0.1209 - val_auc: 0.9890 - val_accuracy: 0.9637\n",
            "Epoch 37/100\n",
            "800/800 [==============================] - 3s 3ms/step - loss: 0.1023 - auc: 0.9919 - accuracy: 0.9675 - val_loss: 0.1188 - val_auc: 0.9892 - val_accuracy: 0.9638\n",
            "Epoch 38/100\n",
            "800/800 [==============================] - 3s 3ms/step - loss: 0.1023 - auc: 0.9918 - accuracy: 0.9685 - val_loss: 0.1193 - val_auc: 0.9890 - val_accuracy: 0.9631\n",
            "Epoch 39/100\n",
            "800/800 [==============================] - 3s 3ms/step - loss: 0.1005 - auc: 0.9920 - accuracy: 0.9679 - val_loss: 0.1200 - val_auc: 0.9891 - val_accuracy: 0.9625\n",
            "Epoch 40/100\n",
            "800/800 [==============================] - 3s 3ms/step - loss: 0.1007 - auc: 0.9920 - accuracy: 0.9683 - val_loss: 0.1198 - val_auc: 0.9891 - val_accuracy: 0.9641\n",
            "Epoch 41/100\n",
            "800/800 [==============================] - 3s 3ms/step - loss: 0.0996 - auc: 0.9922 - accuracy: 0.9691 - val_loss: 0.1218 - val_auc: 0.9891 - val_accuracy: 0.9639\n",
            "Epoch 42/100\n",
            "800/800 [==============================] - 3s 3ms/step - loss: 0.0990 - auc: 0.9922 - accuracy: 0.9689 - val_loss: 0.1175 - val_auc: 0.9895 - val_accuracy: 0.9655\n",
            "Epoch 43/100\n",
            "800/800 [==============================] - 3s 3ms/step - loss: 0.0990 - auc: 0.9922 - accuracy: 0.9685 - val_loss: 0.1197 - val_auc: 0.9893 - val_accuracy: 0.9646\n",
            "Epoch 44/100\n",
            "800/800 [==============================] - 3s 4ms/step - loss: 0.0979 - auc: 0.9922 - accuracy: 0.9698 - val_loss: 0.1191 - val_auc: 0.9891 - val_accuracy: 0.9645\n",
            "Epoch 45/100\n",
            "800/800 [==============================] - 3s 4ms/step - loss: 0.0973 - auc: 0.9924 - accuracy: 0.9695 - val_loss: 0.1191 - val_auc: 0.9891 - val_accuracy: 0.9655\n",
            "Epoch 46/100\n",
            "800/800 [==============================] - 4s 5ms/step - loss: 0.0968 - auc: 0.9925 - accuracy: 0.9694 - val_loss: 0.1219 - val_auc: 0.9890 - val_accuracy: 0.9636\n",
            "Epoch 47/100\n",
            "800/800 [==============================] - 3s 4ms/step - loss: 0.0974 - auc: 0.9924 - accuracy: 0.9697 - val_loss: 0.1204 - val_auc: 0.9893 - val_accuracy: 0.9639\n",
            "Epoch 48/100\n",
            "800/800 [==============================] - 3s 4ms/step - loss: 0.0951 - auc: 0.9927 - accuracy: 0.9706 - val_loss: 0.1214 - val_auc: 0.9888 - val_accuracy: 0.9633\n",
            "Epoch 49/100\n",
            "800/800 [==============================] - 3s 4ms/step - loss: 0.0969 - auc: 0.9923 - accuracy: 0.9700 - val_loss: 0.1187 - val_auc: 0.9894 - val_accuracy: 0.9651\n",
            "Epoch 50/100\n",
            "800/800 [==============================] - 4s 4ms/step - loss: 0.0948 - auc: 0.9927 - accuracy: 0.9708 - val_loss: 0.1172 - val_auc: 0.9892 - val_accuracy: 0.9651\n",
            "Epoch 51/100\n",
            "800/800 [==============================] - 4s 5ms/step - loss: 0.0940 - auc: 0.9926 - accuracy: 0.9711 - val_loss: 0.1218 - val_auc: 0.9888 - val_accuracy: 0.9629\n",
            "Epoch 52/100\n",
            "800/800 [==============================] - 3s 4ms/step - loss: 0.0952 - auc: 0.9927 - accuracy: 0.9711 - val_loss: 0.1183 - val_auc: 0.9892 - val_accuracy: 0.9649\n",
            "Epoch 53/100\n",
            "800/800 [==============================] - 5s 6ms/step - loss: 0.0935 - auc: 0.9927 - accuracy: 0.9716 - val_loss: 0.1184 - val_auc: 0.9890 - val_accuracy: 0.9648\n",
            "Epoch 54/100\n",
            "800/800 [==============================] - 3s 4ms/step - loss: 0.0932 - auc: 0.9929 - accuracy: 0.9706 - val_loss: 0.1185 - val_auc: 0.9894 - val_accuracy: 0.9645\n",
            "Epoch 55/100\n",
            "800/800 [==============================] - 3s 4ms/step - loss: 0.0943 - auc: 0.9928 - accuracy: 0.9706 - val_loss: 0.1191 - val_auc: 0.9894 - val_accuracy: 0.9652\n",
            "Epoch 56/100\n",
            "800/800 [==============================] - 3s 4ms/step - loss: 0.0929 - auc: 0.9929 - accuracy: 0.9714 - val_loss: 0.1186 - val_auc: 0.9892 - val_accuracy: 0.9656\n",
            "Epoch 57/100\n",
            "800/800 [==============================] - 3s 3ms/step - loss: 0.0938 - auc: 0.9928 - accuracy: 0.9712 - val_loss: 0.1194 - val_auc: 0.9892 - val_accuracy: 0.9655\n",
            "Epoch 58/100\n",
            "800/800 [==============================] - 3s 3ms/step - loss: 0.0918 - auc: 0.9930 - accuracy: 0.9715 - val_loss: 0.1172 - val_auc: 0.9891 - val_accuracy: 0.9651\n",
            "Epoch 59/100\n",
            "800/800 [==============================] - 3s 3ms/step - loss: 0.0913 - auc: 0.9930 - accuracy: 0.9722 - val_loss: 0.1191 - val_auc: 0.9891 - val_accuracy: 0.9650\n",
            "Epoch 60/100\n",
            "800/800 [==============================] - 3s 3ms/step - loss: 0.0913 - auc: 0.9931 - accuracy: 0.9716 - val_loss: 0.1177 - val_auc: 0.9894 - val_accuracy: 0.9656\n",
            "1000/1000 [==============================] - 1s 1ms/step\n",
            "fold train/predict time: 0:03:10.247254\n",
            "x_train shape: (128000, 67)\n",
            "Epoch 1/100\n",
            "800/800 [==============================] - 4s 4ms/step - loss: 0.4123 - auc: 0.8885 - accuracy: 0.8103 - val_loss: 0.3041 - val_auc: 0.9417 - val_accuracy: 0.8740\n",
            "Epoch 2/100\n",
            "800/800 [==============================] - 3s 4ms/step - loss: 0.2811 - auc: 0.9503 - accuracy: 0.8870 - val_loss: 0.2455 - val_auc: 0.9624 - val_accuracy: 0.9008\n",
            "Epoch 3/100\n",
            "800/800 [==============================] - 3s 3ms/step - loss: 0.2355 - auc: 0.9651 - accuracy: 0.9091 - val_loss: 0.2069 - val_auc: 0.9729 - val_accuracy: 0.9221\n",
            "Epoch 4/100\n",
            "800/800 [==============================] - 3s 3ms/step - loss: 0.2053 - auc: 0.9733 - accuracy: 0.9233 - val_loss: 0.1820 - val_auc: 0.9789 - val_accuracy: 0.9337\n",
            "Epoch 5/100\n",
            "800/800 [==============================] - 3s 3ms/step - loss: 0.1864 - auc: 0.9777 - accuracy: 0.9315 - val_loss: 0.1670 - val_auc: 0.9819 - val_accuracy: 0.9414\n",
            "Epoch 6/100\n",
            "800/800 [==============================] - 3s 4ms/step - loss: 0.1732 - auc: 0.9806 - accuracy: 0.9392 - val_loss: 0.1567 - val_auc: 0.9841 - val_accuracy: 0.9460\n",
            "Epoch 7/100\n",
            "800/800 [==============================] - 3s 3ms/step - loss: 0.1617 - auc: 0.9829 - accuracy: 0.9443 - val_loss: 0.1511 - val_auc: 0.9848 - val_accuracy: 0.9473\n",
            "Epoch 8/100\n",
            "800/800 [==============================] - 3s 3ms/step - loss: 0.1545 - auc: 0.9840 - accuracy: 0.9471 - val_loss: 0.1430 - val_auc: 0.9866 - val_accuracy: 0.9516\n",
            "Epoch 9/100\n",
            "800/800 [==============================] - 3s 3ms/step - loss: 0.1460 - auc: 0.9856 - accuracy: 0.9510 - val_loss: 0.1366 - val_auc: 0.9872 - val_accuracy: 0.9539\n",
            "Epoch 10/100\n",
            "800/800 [==============================] - 3s 4ms/step - loss: 0.1399 - auc: 0.9866 - accuracy: 0.9528 - val_loss: 0.1342 - val_auc: 0.9875 - val_accuracy: 0.9553\n",
            "Epoch 11/100\n",
            "800/800 [==============================] - 4s 5ms/step - loss: 0.1366 - auc: 0.9870 - accuracy: 0.9556 - val_loss: 0.1288 - val_auc: 0.9883 - val_accuracy: 0.9582\n",
            "Epoch 12/100\n",
            "800/800 [==============================] - 4s 5ms/step - loss: 0.1308 - auc: 0.9879 - accuracy: 0.9569 - val_loss: 0.1276 - val_auc: 0.9886 - val_accuracy: 0.9589\n",
            "Epoch 13/100\n",
            "800/800 [==============================] - 4s 6ms/step - loss: 0.1290 - auc: 0.9881 - accuracy: 0.9583 - val_loss: 0.1230 - val_auc: 0.9892 - val_accuracy: 0.9600\n",
            "Epoch 14/100\n",
            "800/800 [==============================] - 4s 5ms/step - loss: 0.1248 - auc: 0.9887 - accuracy: 0.9599 - val_loss: 0.1238 - val_auc: 0.9890 - val_accuracy: 0.9591\n",
            "Epoch 15/100\n",
            "800/800 [==============================] - 4s 5ms/step - loss: 0.1230 - auc: 0.9890 - accuracy: 0.9611 - val_loss: 0.1197 - val_auc: 0.9895 - val_accuracy: 0.9614\n",
            "Epoch 16/100\n",
            "800/800 [==============================] - 4s 4ms/step - loss: 0.1189 - auc: 0.9897 - accuracy: 0.9614 - val_loss: 0.1209 - val_auc: 0.9895 - val_accuracy: 0.9618\n",
            "Epoch 17/100\n",
            "800/800 [==============================] - 4s 4ms/step - loss: 0.1178 - auc: 0.9898 - accuracy: 0.9625 - val_loss: 0.1171 - val_auc: 0.9898 - val_accuracy: 0.9623\n",
            "Epoch 18/100\n",
            "800/800 [==============================] - 3s 4ms/step - loss: 0.1155 - auc: 0.9900 - accuracy: 0.9637 - val_loss: 0.1180 - val_auc: 0.9896 - val_accuracy: 0.9619\n",
            "Epoch 19/100\n",
            "800/800 [==============================] - 3s 3ms/step - loss: 0.1125 - auc: 0.9903 - accuracy: 0.9648 - val_loss: 0.1136 - val_auc: 0.9900 - val_accuracy: 0.9644\n",
            "Epoch 20/100\n",
            "800/800 [==============================] - 3s 3ms/step - loss: 0.1122 - auc: 0.9904 - accuracy: 0.9648 - val_loss: 0.1168 - val_auc: 0.9897 - val_accuracy: 0.9626\n",
            "Epoch 21/100\n",
            "800/800 [==============================] - 3s 4ms/step - loss: 0.1106 - auc: 0.9907 - accuracy: 0.9657 - val_loss: 0.1161 - val_auc: 0.9898 - val_accuracy: 0.9631\n",
            "Epoch 22/100\n",
            "800/800 [==============================] - 3s 4ms/step - loss: 0.1088 - auc: 0.9909 - accuracy: 0.9661 - val_loss: 0.1146 - val_auc: 0.9899 - val_accuracy: 0.9647\n",
            "Epoch 23/100\n",
            "800/800 [==============================] - 3s 3ms/step - loss: 0.1082 - auc: 0.9908 - accuracy: 0.9666 - val_loss: 0.1137 - val_auc: 0.9901 - val_accuracy: 0.9647\n",
            "Epoch 24/100\n",
            "800/800 [==============================] - 3s 3ms/step - loss: 0.1078 - auc: 0.9910 - accuracy: 0.9669 - val_loss: 0.1137 - val_auc: 0.9902 - val_accuracy: 0.9646\n",
            "Epoch 25/100\n",
            "800/800 [==============================] - 3s 3ms/step - loss: 0.1067 - auc: 0.9911 - accuracy: 0.9677 - val_loss: 0.1086 - val_auc: 0.9907 - val_accuracy: 0.9664\n",
            "Epoch 26/100\n",
            "800/800 [==============================] - 3s 3ms/step - loss: 0.1051 - auc: 0.9914 - accuracy: 0.9676 - val_loss: 0.1110 - val_auc: 0.9903 - val_accuracy: 0.9660\n",
            "Epoch 27/100\n",
            "800/800 [==============================] - 3s 3ms/step - loss: 0.1051 - auc: 0.9913 - accuracy: 0.9679 - val_loss: 0.1104 - val_auc: 0.9904 - val_accuracy: 0.9655\n",
            "Epoch 28/100\n",
            "800/800 [==============================] - 3s 3ms/step - loss: 0.1024 - auc: 0.9916 - accuracy: 0.9692 - val_loss: 0.1103 - val_auc: 0.9906 - val_accuracy: 0.9652\n",
            "Epoch 29/100\n",
            "800/800 [==============================] - 3s 3ms/step - loss: 0.1026 - auc: 0.9916 - accuracy: 0.9689 - val_loss: 0.1089 - val_auc: 0.9905 - val_accuracy: 0.9672\n",
            "Epoch 30/100\n",
            "800/800 [==============================] - 3s 3ms/step - loss: 0.1022 - auc: 0.9917 - accuracy: 0.9690 - val_loss: 0.1109 - val_auc: 0.9905 - val_accuracy: 0.9662\n",
            "Epoch 31/100\n",
            "800/800 [==============================] - 3s 4ms/step - loss: 0.0991 - auc: 0.9920 - accuracy: 0.9704 - val_loss: 0.1079 - val_auc: 0.9904 - val_accuracy: 0.9679\n",
            "Epoch 32/100\n",
            "800/800 [==============================] - 4s 5ms/step - loss: 0.0994 - auc: 0.9919 - accuracy: 0.9698 - val_loss: 0.1095 - val_auc: 0.9904 - val_accuracy: 0.9671\n",
            "Epoch 33/100\n",
            "800/800 [==============================] - 4s 5ms/step - loss: 0.0975 - auc: 0.9923 - accuracy: 0.9711 - val_loss: 0.1074 - val_auc: 0.9907 - val_accuracy: 0.9689\n",
            "Epoch 34/100\n",
            "800/800 [==============================] - 3s 4ms/step - loss: 0.0969 - auc: 0.9922 - accuracy: 0.9708 - val_loss: 0.1078 - val_auc: 0.9907 - val_accuracy: 0.9681\n",
            "Epoch 35/100\n",
            "800/800 [==============================] - 3s 4ms/step - loss: 0.0993 - auc: 0.9920 - accuracy: 0.9703 - val_loss: 0.1075 - val_auc: 0.9908 - val_accuracy: 0.9681\n",
            "Epoch 36/100\n",
            "800/800 [==============================] - 4s 6ms/step - loss: 0.0969 - auc: 0.9922 - accuracy: 0.9709 - val_loss: 0.1052 - val_auc: 0.9910 - val_accuracy: 0.9696\n",
            "Epoch 37/100\n",
            "800/800 [==============================] - 4s 5ms/step - loss: 0.0960 - auc: 0.9923 - accuracy: 0.9710 - val_loss: 0.1066 - val_auc: 0.9910 - val_accuracy: 0.9700\n",
            "Epoch 38/100\n",
            "800/800 [==============================] - 3s 4ms/step - loss: 0.0946 - auc: 0.9925 - accuracy: 0.9721 - val_loss: 0.1059 - val_auc: 0.9909 - val_accuracy: 0.9685\n",
            "Epoch 39/100\n",
            "800/800 [==============================] - 3s 4ms/step - loss: 0.0951 - auc: 0.9925 - accuracy: 0.9722 - val_loss: 0.1058 - val_auc: 0.9910 - val_accuracy: 0.9686\n",
            "Epoch 40/100\n",
            "800/800 [==============================] - 3s 3ms/step - loss: 0.0950 - auc: 0.9924 - accuracy: 0.9719 - val_loss: 0.1050 - val_auc: 0.9909 - val_accuracy: 0.9696\n",
            "Epoch 41/100\n",
            "800/800 [==============================] - 3s 4ms/step - loss: 0.0924 - auc: 0.9927 - accuracy: 0.9729 - val_loss: 0.1077 - val_auc: 0.9906 - val_accuracy: 0.9688\n",
            "Epoch 42/100\n",
            "800/800 [==============================] - 3s 3ms/step - loss: 0.0926 - auc: 0.9927 - accuracy: 0.9727 - val_loss: 0.1096 - val_auc: 0.9902 - val_accuracy: 0.9685\n",
            "Epoch 43/100\n",
            "800/800 [==============================] - 3s 3ms/step - loss: 0.0938 - auc: 0.9926 - accuracy: 0.9727 - val_loss: 0.1057 - val_auc: 0.9909 - val_accuracy: 0.9691\n",
            "Epoch 44/100\n",
            "800/800 [==============================] - 3s 3ms/step - loss: 0.0924 - auc: 0.9927 - accuracy: 0.9723 - val_loss: 0.1067 - val_auc: 0.9909 - val_accuracy: 0.9698\n",
            "Epoch 45/100\n",
            "800/800 [==============================] - 3s 3ms/step - loss: 0.0911 - auc: 0.9930 - accuracy: 0.9732 - val_loss: 0.1067 - val_auc: 0.9908 - val_accuracy: 0.9688\n",
            "Epoch 46/100\n",
            "800/800 [==============================] - 3s 3ms/step - loss: 0.0902 - auc: 0.9931 - accuracy: 0.9737 - val_loss: 0.1063 - val_auc: 0.9907 - val_accuracy: 0.9697\n",
            "Epoch 47/100\n",
            "800/800 [==============================] - 3s 3ms/step - loss: 0.0900 - auc: 0.9931 - accuracy: 0.9738 - val_loss: 0.1091 - val_auc: 0.9904 - val_accuracy: 0.9688\n",
            "Epoch 48/100\n",
            "800/800 [==============================] - 3s 3ms/step - loss: 0.0904 - auc: 0.9930 - accuracy: 0.9739 - val_loss: 0.1070 - val_auc: 0.9906 - val_accuracy: 0.9687\n",
            "Epoch 49/100\n",
            "800/800 [==============================] - 3s 3ms/step - loss: 0.0893 - auc: 0.9932 - accuracy: 0.9737 - val_loss: 0.1074 - val_auc: 0.9907 - val_accuracy: 0.9690\n",
            "Epoch 50/100\n",
            "800/800 [==============================] - 3s 3ms/step - loss: 0.0888 - auc: 0.9932 - accuracy: 0.9737 - val_loss: 0.1073 - val_auc: 0.9908 - val_accuracy: 0.9693\n",
            "1000/1000 [==============================] - 2s 2ms/step\n",
            "fold train/predict time: 0:02:35.521755\n",
            "x_train shape: (128000, 67)\n",
            "Epoch 1/100\n",
            "800/800 [==============================] - 5s 4ms/step - loss: 0.4119 - auc: 0.8883 - accuracy: 0.8096 - val_loss: 0.2943 - val_auc: 0.9453 - val_accuracy: 0.8757\n",
            "Epoch 2/100\n",
            "800/800 [==============================] - 4s 4ms/step - loss: 0.2793 - auc: 0.9508 - accuracy: 0.8866 - val_loss: 0.2438 - val_auc: 0.9637 - val_accuracy: 0.9015\n",
            "Epoch 3/100\n",
            "800/800 [==============================] - 4s 5ms/step - loss: 0.2348 - auc: 0.9652 - accuracy: 0.9089 - val_loss: 0.2119 - val_auc: 0.9717 - val_accuracy: 0.9183\n",
            "Epoch 4/100\n",
            "800/800 [==============================] - 4s 5ms/step - loss: 0.2091 - auc: 0.9722 - accuracy: 0.9208 - val_loss: 0.1906 - val_auc: 0.9769 - val_accuracy: 0.9281\n",
            "Epoch 5/100\n",
            "800/800 [==============================] - 3s 4ms/step - loss: 0.1900 - auc: 0.9768 - accuracy: 0.9296 - val_loss: 0.1778 - val_auc: 0.9798 - val_accuracy: 0.9343\n",
            "Epoch 6/100\n",
            "800/800 [==============================] - 4s 5ms/step - loss: 0.1771 - auc: 0.9798 - accuracy: 0.9358 - val_loss: 0.1677 - val_auc: 0.9817 - val_accuracy: 0.9385\n",
            "Epoch 7/100\n",
            "800/800 [==============================] - 4s 5ms/step - loss: 0.1686 - auc: 0.9814 - accuracy: 0.9399 - val_loss: 0.1624 - val_auc: 0.9827 - val_accuracy: 0.9420\n",
            "Epoch 8/100\n",
            "800/800 [==============================] - 5s 6ms/step - loss: 0.1619 - auc: 0.9827 - accuracy: 0.9430 - val_loss: 0.1573 - val_auc: 0.9836 - val_accuracy: 0.9438\n",
            "Epoch 9/100\n",
            "800/800 [==============================] - 3s 4ms/step - loss: 0.1568 - auc: 0.9837 - accuracy: 0.9445 - val_loss: 0.1526 - val_auc: 0.9846 - val_accuracy: 0.9472\n",
            "Epoch 10/100\n",
            "800/800 [==============================] - 3s 3ms/step - loss: 0.1512 - auc: 0.9848 - accuracy: 0.9474 - val_loss: 0.1510 - val_auc: 0.9846 - val_accuracy: 0.9476\n",
            "Epoch 11/100\n",
            "800/800 [==============================] - 3s 3ms/step - loss: 0.1457 - auc: 0.9857 - accuracy: 0.9499 - val_loss: 0.1446 - val_auc: 0.9859 - val_accuracy: 0.9503\n",
            "Epoch 12/100\n",
            "800/800 [==============================] - 3s 3ms/step - loss: 0.1424 - auc: 0.9862 - accuracy: 0.9513 - val_loss: 0.1421 - val_auc: 0.9861 - val_accuracy: 0.9513\n",
            "Epoch 13/100\n",
            "800/800 [==============================] - 3s 3ms/step - loss: 0.1393 - auc: 0.9867 - accuracy: 0.9519 - val_loss: 0.1401 - val_auc: 0.9866 - val_accuracy: 0.9526\n",
            "Epoch 14/100\n",
            "800/800 [==============================] - 3s 3ms/step - loss: 0.1360 - auc: 0.9873 - accuracy: 0.9542 - val_loss: 0.1357 - val_auc: 0.9872 - val_accuracy: 0.9546\n",
            "Epoch 15/100\n",
            "800/800 [==============================] - 3s 3ms/step - loss: 0.1321 - auc: 0.9879 - accuracy: 0.9557 - val_loss: 0.1344 - val_auc: 0.9875 - val_accuracy: 0.9550\n",
            "Epoch 16/100\n",
            "800/800 [==============================] - 3s 3ms/step - loss: 0.1308 - auc: 0.9881 - accuracy: 0.9561 - val_loss: 0.1300 - val_auc: 0.9880 - val_accuracy: 0.9583\n",
            "Epoch 17/100\n",
            "800/800 [==============================] - 3s 3ms/step - loss: 0.1279 - auc: 0.9884 - accuracy: 0.9572 - val_loss: 0.1291 - val_auc: 0.9881 - val_accuracy: 0.9578\n",
            "Epoch 18/100\n",
            "800/800 [==============================] - 3s 4ms/step - loss: 0.1255 - auc: 0.9889 - accuracy: 0.9586 - val_loss: 0.1269 - val_auc: 0.9882 - val_accuracy: 0.9593\n",
            "Epoch 19/100\n",
            "800/800 [==============================] - 3s 4ms/step - loss: 0.1235 - auc: 0.9890 - accuracy: 0.9597 - val_loss: 0.1267 - val_auc: 0.9883 - val_accuracy: 0.9600\n",
            "Epoch 20/100\n",
            "800/800 [==============================] - 4s 5ms/step - loss: 0.1208 - auc: 0.9895 - accuracy: 0.9602 - val_loss: 0.1232 - val_auc: 0.9889 - val_accuracy: 0.9607\n",
            "Epoch 21/100\n",
            "800/800 [==============================] - 3s 4ms/step - loss: 0.1204 - auc: 0.9895 - accuracy: 0.9607 - val_loss: 0.1221 - val_auc: 0.9889 - val_accuracy: 0.9621\n",
            "Epoch 22/100\n",
            "800/800 [==============================] - 4s 5ms/step - loss: 0.1162 - auc: 0.9901 - accuracy: 0.9625 - val_loss: 0.1215 - val_auc: 0.9889 - val_accuracy: 0.9620\n",
            "Epoch 23/100\n",
            "800/800 [==============================] - 3s 4ms/step - loss: 0.1157 - auc: 0.9902 - accuracy: 0.9626 - val_loss: 0.1214 - val_auc: 0.9890 - val_accuracy: 0.9630\n",
            "Epoch 24/100\n",
            "800/800 [==============================] - 3s 4ms/step - loss: 0.1132 - auc: 0.9904 - accuracy: 0.9639 - val_loss: 0.1203 - val_auc: 0.9890 - val_accuracy: 0.9627\n",
            "Epoch 25/100\n",
            "800/800 [==============================] - 3s 4ms/step - loss: 0.1133 - auc: 0.9904 - accuracy: 0.9639 - val_loss: 0.1196 - val_auc: 0.9891 - val_accuracy: 0.9630\n",
            "Epoch 26/100\n",
            "800/800 [==============================] - 4s 5ms/step - loss: 0.1105 - auc: 0.9908 - accuracy: 0.9646 - val_loss: 0.1183 - val_auc: 0.9893 - val_accuracy: 0.9643\n",
            "Epoch 27/100\n",
            "800/800 [==============================] - 3s 4ms/step - loss: 0.1092 - auc: 0.9910 - accuracy: 0.9650 - val_loss: 0.1187 - val_auc: 0.9892 - val_accuracy: 0.9639\n",
            "Epoch 28/100\n",
            "800/800 [==============================] - 3s 4ms/step - loss: 0.1078 - auc: 0.9912 - accuracy: 0.9654 - val_loss: 0.1202 - val_auc: 0.9891 - val_accuracy: 0.9635\n",
            "Epoch 29/100\n",
            "800/800 [==============================] - 3s 4ms/step - loss: 0.1068 - auc: 0.9913 - accuracy: 0.9658 - val_loss: 0.1194 - val_auc: 0.9892 - val_accuracy: 0.9646\n",
            "Epoch 30/100\n",
            "800/800 [==============================] - 3s 4ms/step - loss: 0.1061 - auc: 0.9913 - accuracy: 0.9667 - val_loss: 0.1171 - val_auc: 0.9896 - val_accuracy: 0.9643\n",
            "Epoch 31/100\n",
            "800/800 [==============================] - 3s 3ms/step - loss: 0.1057 - auc: 0.9913 - accuracy: 0.9661 - val_loss: 0.1169 - val_auc: 0.9897 - val_accuracy: 0.9648\n",
            "Epoch 32/100\n",
            "800/800 [==============================] - 3s 3ms/step - loss: 0.1056 - auc: 0.9914 - accuracy: 0.9665 - val_loss: 0.1152 - val_auc: 0.9898 - val_accuracy: 0.9656\n",
            "Epoch 33/100\n",
            "800/800 [==============================] - 3s 3ms/step - loss: 0.1037 - auc: 0.9916 - accuracy: 0.9676 - val_loss: 0.1166 - val_auc: 0.9896 - val_accuracy: 0.9641\n",
            "Epoch 34/100\n",
            "800/800 [==============================] - 3s 3ms/step - loss: 0.1027 - auc: 0.9918 - accuracy: 0.9681 - val_loss: 0.1146 - val_auc: 0.9899 - val_accuracy: 0.9650\n",
            "Epoch 35/100\n",
            "800/800 [==============================] - 3s 3ms/step - loss: 0.1008 - auc: 0.9921 - accuracy: 0.9682 - val_loss: 0.1142 - val_auc: 0.9898 - val_accuracy: 0.9658\n",
            "Epoch 36/100\n",
            "800/800 [==============================] - 3s 3ms/step - loss: 0.1014 - auc: 0.9919 - accuracy: 0.9683 - val_loss: 0.1176 - val_auc: 0.9895 - val_accuracy: 0.9652\n",
            "Epoch 37/100\n",
            "800/800 [==============================] - 3s 3ms/step - loss: 0.1008 - auc: 0.9919 - accuracy: 0.9683 - val_loss: 0.1151 - val_auc: 0.9898 - val_accuracy: 0.9650\n",
            "Epoch 38/100\n",
            "800/800 [==============================] - 3s 4ms/step - loss: 0.1001 - auc: 0.9921 - accuracy: 0.9688 - val_loss: 0.1122 - val_auc: 0.9898 - val_accuracy: 0.9676\n",
            "Epoch 39/100\n",
            "800/800 [==============================] - 4s 5ms/step - loss: 0.1001 - auc: 0.9921 - accuracy: 0.9689 - val_loss: 0.1149 - val_auc: 0.9895 - val_accuracy: 0.9663\n",
            "Epoch 40/100\n",
            "800/800 [==============================] - 3s 4ms/step - loss: 0.0993 - auc: 0.9919 - accuracy: 0.9698 - val_loss: 0.1165 - val_auc: 0.9896 - val_accuracy: 0.9651\n",
            "Epoch 41/100\n",
            "800/800 [==============================] - 4s 4ms/step - loss: 0.0978 - auc: 0.9923 - accuracy: 0.9698 - val_loss: 0.1143 - val_auc: 0.9898 - val_accuracy: 0.9659\n",
            "Epoch 42/100\n",
            "800/800 [==============================] - 4s 5ms/step - loss: 0.0968 - auc: 0.9924 - accuracy: 0.9701 - val_loss: 0.1177 - val_auc: 0.9892 - val_accuracy: 0.9652\n",
            "Epoch 43/100\n",
            "800/800 [==============================] - 3s 4ms/step - loss: 0.0989 - auc: 0.9922 - accuracy: 0.9688 - val_loss: 0.1163 - val_auc: 0.9897 - val_accuracy: 0.9663\n",
            "Epoch 44/100\n",
            "800/800 [==============================] - 3s 4ms/step - loss: 0.0973 - auc: 0.9925 - accuracy: 0.9704 - val_loss: 0.1151 - val_auc: 0.9897 - val_accuracy: 0.9659\n",
            "Epoch 45/100\n",
            "800/800 [==============================] - 3s 4ms/step - loss: 0.0958 - auc: 0.9926 - accuracy: 0.9702 - val_loss: 0.1155 - val_auc: 0.9899 - val_accuracy: 0.9667\n",
            "Epoch 46/100\n",
            "800/800 [==============================] - 3s 4ms/step - loss: 0.0961 - auc: 0.9924 - accuracy: 0.9701 - val_loss: 0.1151 - val_auc: 0.9894 - val_accuracy: 0.9665\n",
            "Epoch 47/100\n",
            "800/800 [==============================] - 3s 4ms/step - loss: 0.0951 - auc: 0.9927 - accuracy: 0.9707 - val_loss: 0.1148 - val_auc: 0.9897 - val_accuracy: 0.9668\n",
            "Epoch 48/100\n",
            "800/800 [==============================] - 3s 4ms/step - loss: 0.0957 - auc: 0.9926 - accuracy: 0.9702 - val_loss: 0.1185 - val_auc: 0.9896 - val_accuracy: 0.9665\n",
            "1000/1000 [==============================] - 1s 1ms/step\n",
            "fold train/predict time: 0:02:36.338100\n",
            "x_train shape: (128000, 67)\n",
            "Epoch 1/100\n",
            "800/800 [==============================] - 4s 4ms/step - loss: 0.4209 - auc: 0.8829 - accuracy: 0.8053 - val_loss: 0.2985 - val_auc: 0.9438 - val_accuracy: 0.8741\n",
            "Epoch 2/100\n",
            "800/800 [==============================] - 3s 3ms/step - loss: 0.2825 - auc: 0.9494 - accuracy: 0.8863 - val_loss: 0.2437 - val_auc: 0.9629 - val_accuracy: 0.9048\n",
            "Epoch 3/100\n",
            "800/800 [==============================] - 3s 3ms/step - loss: 0.2371 - auc: 0.9644 - accuracy: 0.9094 - val_loss: 0.2118 - val_auc: 0.9720 - val_accuracy: 0.9195\n",
            "Epoch 4/100\n",
            "800/800 [==============================] - 3s 3ms/step - loss: 0.2090 - auc: 0.9721 - accuracy: 0.9213 - val_loss: 0.1912 - val_auc: 0.9767 - val_accuracy: 0.9290\n",
            "Epoch 5/100\n",
            "800/800 [==============================] - 3s 3ms/step - loss: 0.1912 - auc: 0.9764 - accuracy: 0.9299 - val_loss: 0.1774 - val_auc: 0.9796 - val_accuracy: 0.9352\n",
            "Epoch 6/100\n",
            "800/800 [==============================] - 3s 4ms/step - loss: 0.1786 - auc: 0.9792 - accuracy: 0.9351 - val_loss: 0.1712 - val_auc: 0.9810 - val_accuracy: 0.9394\n",
            "Epoch 7/100\n",
            "800/800 [==============================] - 3s 3ms/step - loss: 0.1690 - auc: 0.9812 - accuracy: 0.9396 - val_loss: 0.1658 - val_auc: 0.9820 - val_accuracy: 0.9409\n",
            "Epoch 8/100\n",
            "800/800 [==============================] - 4s 5ms/step - loss: 0.1616 - auc: 0.9826 - accuracy: 0.9427 - val_loss: 0.1561 - val_auc: 0.9836 - val_accuracy: 0.9463\n",
            "Epoch 9/100\n",
            "800/800 [==============================] - 4s 5ms/step - loss: 0.1545 - auc: 0.9841 - accuracy: 0.9457 - val_loss: 0.1524 - val_auc: 0.9846 - val_accuracy: 0.9473\n",
            "Epoch 10/100\n",
            "800/800 [==============================] - 4s 5ms/step - loss: 0.1492 - auc: 0.9850 - accuracy: 0.9483 - val_loss: 0.1473 - val_auc: 0.9854 - val_accuracy: 0.9512\n",
            "Epoch 11/100\n",
            "800/800 [==============================] - 4s 5ms/step - loss: 0.1429 - auc: 0.9860 - accuracy: 0.9511 - val_loss: 0.1442 - val_auc: 0.9859 - val_accuracy: 0.9520\n",
            "Epoch 12/100\n",
            "800/800 [==============================] - 4s 5ms/step - loss: 0.1388 - auc: 0.9868 - accuracy: 0.9524 - val_loss: 0.1409 - val_auc: 0.9866 - val_accuracy: 0.9527\n",
            "Epoch 13/100\n",
            "800/800 [==============================] - 4s 5ms/step - loss: 0.1353 - auc: 0.9874 - accuracy: 0.9543 - val_loss: 0.1378 - val_auc: 0.9870 - val_accuracy: 0.9547\n",
            "Epoch 14/100\n",
            "800/800 [==============================] - 3s 4ms/step - loss: 0.1296 - auc: 0.9882 - accuracy: 0.9573 - val_loss: 0.1364 - val_auc: 0.9875 - val_accuracy: 0.9558\n",
            "Epoch 15/100\n",
            "800/800 [==============================] - 3s 3ms/step - loss: 0.1270 - auc: 0.9886 - accuracy: 0.9575 - val_loss: 0.1362 - val_auc: 0.9874 - val_accuracy: 0.9543\n",
            "Epoch 16/100\n",
            "800/800 [==============================] - 3s 4ms/step - loss: 0.1248 - auc: 0.9888 - accuracy: 0.9589 - val_loss: 0.1299 - val_auc: 0.9883 - val_accuracy: 0.9574\n",
            "Epoch 17/100\n",
            "800/800 [==============================] - 3s 3ms/step - loss: 0.1226 - auc: 0.9892 - accuracy: 0.9599 - val_loss: 0.1287 - val_auc: 0.9880 - val_accuracy: 0.9589\n",
            "Epoch 18/100\n",
            "800/800 [==============================] - 3s 3ms/step - loss: 0.1201 - auc: 0.9896 - accuracy: 0.9608 - val_loss: 0.1279 - val_auc: 0.9885 - val_accuracy: 0.9600\n",
            "Epoch 19/100\n",
            "800/800 [==============================] - 3s 3ms/step - loss: 0.1172 - auc: 0.9899 - accuracy: 0.9617 - val_loss: 0.1286 - val_auc: 0.9885 - val_accuracy: 0.9588\n",
            "Epoch 20/100\n",
            "800/800 [==============================] - 3s 3ms/step - loss: 0.1164 - auc: 0.9900 - accuracy: 0.9625 - val_loss: 0.1326 - val_auc: 0.9882 - val_accuracy: 0.9591\n",
            "Epoch 21/100\n",
            "800/800 [==============================] - 3s 3ms/step - loss: 0.1141 - auc: 0.9903 - accuracy: 0.9635 - val_loss: 0.1233 - val_auc: 0.9891 - val_accuracy: 0.9611\n",
            "Epoch 22/100\n",
            "800/800 [==============================] - 3s 3ms/step - loss: 0.1123 - auc: 0.9905 - accuracy: 0.9640 - val_loss: 0.1234 - val_auc: 0.9887 - val_accuracy: 0.9613\n",
            "Epoch 23/100\n",
            "800/800 [==============================] - 3s 3ms/step - loss: 0.1112 - auc: 0.9908 - accuracy: 0.9644 - val_loss: 0.1227 - val_auc: 0.9890 - val_accuracy: 0.9622\n",
            "Epoch 24/100\n",
            "800/800 [==============================] - 3s 4ms/step - loss: 0.1113 - auc: 0.9905 - accuracy: 0.9645 - val_loss: 0.1242 - val_auc: 0.9888 - val_accuracy: 0.9617\n",
            "Epoch 25/100\n",
            "800/800 [==============================] - 3s 4ms/step - loss: 0.1076 - auc: 0.9911 - accuracy: 0.9656 - val_loss: 0.1219 - val_auc: 0.9892 - val_accuracy: 0.9626\n",
            "Epoch 26/100\n",
            "800/800 [==============================] - 3s 4ms/step - loss: 0.1072 - auc: 0.9912 - accuracy: 0.9661 - val_loss: 0.1204 - val_auc: 0.9892 - val_accuracy: 0.9634\n",
            "Epoch 27/100\n",
            "800/800 [==============================] - 5s 6ms/step - loss: 0.1060 - auc: 0.9913 - accuracy: 0.9654 - val_loss: 0.1189 - val_auc: 0.9893 - val_accuracy: 0.9640\n",
            "Epoch 28/100\n",
            "800/800 [==============================] - 4s 5ms/step - loss: 0.1052 - auc: 0.9915 - accuracy: 0.9665 - val_loss: 0.1187 - val_auc: 0.9895 - val_accuracy: 0.9638\n",
            "Epoch 29/100\n",
            "800/800 [==============================] - 4s 5ms/step - loss: 0.1028 - auc: 0.9918 - accuracy: 0.9669 - val_loss: 0.1192 - val_auc: 0.9896 - val_accuracy: 0.9642\n",
            "Epoch 30/100\n",
            "800/800 [==============================] - 4s 5ms/step - loss: 0.1019 - auc: 0.9919 - accuracy: 0.9677 - val_loss: 0.1226 - val_auc: 0.9891 - val_accuracy: 0.9629\n",
            "Epoch 31/100\n",
            "800/800 [==============================] - 4s 4ms/step - loss: 0.1002 - auc: 0.9921 - accuracy: 0.9680 - val_loss: 0.1188 - val_auc: 0.9896 - val_accuracy: 0.9650\n",
            "Epoch 32/100\n",
            "800/800 [==============================] - 4s 5ms/step - loss: 0.1000 - auc: 0.9921 - accuracy: 0.9690 - val_loss: 0.1174 - val_auc: 0.9895 - val_accuracy: 0.9664\n",
            "Epoch 33/100\n",
            "800/800 [==============================] - 3s 3ms/step - loss: 0.0999 - auc: 0.9921 - accuracy: 0.9686 - val_loss: 0.1165 - val_auc: 0.9898 - val_accuracy: 0.9652\n",
            "Epoch 34/100\n",
            "800/800 [==============================] - 3s 4ms/step - loss: 0.0979 - auc: 0.9923 - accuracy: 0.9700 - val_loss: 0.1190 - val_auc: 0.9895 - val_accuracy: 0.9650\n",
            "Epoch 35/100\n",
            "800/800 [==============================] - 3s 4ms/step - loss: 0.0979 - auc: 0.9924 - accuracy: 0.9692 - val_loss: 0.1177 - val_auc: 0.9900 - val_accuracy: 0.9663\n",
            "Epoch 36/100\n",
            "800/800 [==============================] - 3s 4ms/step - loss: 0.0965 - auc: 0.9926 - accuracy: 0.9699 - val_loss: 0.1209 - val_auc: 0.9893 - val_accuracy: 0.9645\n",
            "Epoch 37/100\n",
            "800/800 [==============================] - 3s 3ms/step - loss: 0.0988 - auc: 0.9922 - accuracy: 0.9697 - val_loss: 0.1146 - val_auc: 0.9900 - val_accuracy: 0.9669\n",
            "Epoch 38/100\n",
            "800/800 [==============================] - 3s 3ms/step - loss: 0.0963 - auc: 0.9926 - accuracy: 0.9702 - val_loss: 0.1171 - val_auc: 0.9897 - val_accuracy: 0.9661\n",
            "Epoch 39/100\n",
            "800/800 [==============================] - 3s 4ms/step - loss: 0.0948 - auc: 0.9927 - accuracy: 0.9711 - val_loss: 0.1180 - val_auc: 0.9896 - val_accuracy: 0.9656\n",
            "Epoch 40/100\n",
            "800/800 [==============================] - 3s 4ms/step - loss: 0.0946 - auc: 0.9927 - accuracy: 0.9708 - val_loss: 0.1185 - val_auc: 0.9896 - val_accuracy: 0.9658\n",
            "Epoch 41/100\n",
            "800/800 [==============================] - 4s 5ms/step - loss: 0.0941 - auc: 0.9928 - accuracy: 0.9707 - val_loss: 0.1184 - val_auc: 0.9898 - val_accuracy: 0.9670\n",
            "Epoch 42/100\n",
            "800/800 [==============================] - 3s 4ms/step - loss: 0.0941 - auc: 0.9928 - accuracy: 0.9706 - val_loss: 0.1169 - val_auc: 0.9899 - val_accuracy: 0.9677\n",
            "Epoch 43/100\n",
            "800/800 [==============================] - 4s 5ms/step - loss: 0.0935 - auc: 0.9929 - accuracy: 0.9710 - val_loss: 0.1172 - val_auc: 0.9900 - val_accuracy: 0.9670\n",
            "Epoch 44/100\n",
            "800/800 [==============================] - 4s 5ms/step - loss: 0.0928 - auc: 0.9930 - accuracy: 0.9718 - val_loss: 0.1189 - val_auc: 0.9891 - val_accuracy: 0.9657\n",
            "Epoch 45/100\n",
            "800/800 [==============================] - 5s 6ms/step - loss: 0.0913 - auc: 0.9931 - accuracy: 0.9720 - val_loss: 0.1174 - val_auc: 0.9898 - val_accuracy: 0.9668\n",
            "Epoch 46/100\n",
            "800/800 [==============================] - 4s 5ms/step - loss: 0.0914 - auc: 0.9930 - accuracy: 0.9716 - val_loss: 0.1218 - val_auc: 0.9892 - val_accuracy: 0.9661\n",
            "Epoch 47/100\n",
            "800/800 [==============================] - 4s 5ms/step - loss: 0.0916 - auc: 0.9931 - accuracy: 0.9719 - val_loss: 0.1179 - val_auc: 0.9897 - val_accuracy: 0.9675\n",
            "1000/1000 [==============================] - 2s 1ms/step\n",
            "fold train/predict time: 0:02:38.105049\n",
            "total train/predict time: 0:13:40.049858\n"
          ]
        }
      ]
    },
    {
      "cell_type": "code",
      "source": [
        "preds_m4 = np.zeros(len(y))\n",
        "for i in fold_results.keys():\n",
        "  for j in range(len(fold_results.get(i).get('predictions'))):\n",
        "    idx = fold_results.get(i).get('index')[j]\n",
        "    preds_m4[idx] = np.round(fold_results.get(i).get('predictions')[j],0)\n",
        "\n"
      ],
      "metadata": {
        "id": "WMZkaNGNeKT0"
      },
      "execution_count": 60,
      "outputs": []
    },
    {
      "cell_type": "code",
      "source": [
        "cost(preds_m4,y)\n"
      ],
      "metadata": {
        "colab": {
          "base_uri": "https://localhost:8080/"
        },
        "id": "xkQAh6OMjjJp",
        "outputId": "3093b3a9-1d74-473c-ff55-6e1e1d8b05c4"
      },
      "execution_count": 61,
      "outputs": [
        {
          "output_type": "execute_result",
          "data": {
            "text/plain": [
              "679150"
            ]
          },
          "metadata": {},
          "execution_count": 61
        }
      ]
    },
    {
      "cell_type": "code",
      "source": [
        "model4.summary()\n"
      ],
      "metadata": {
        "colab": {
          "base_uri": "https://localhost:8080/"
        },
        "id": "7jg2oQFvH2QS",
        "outputId": "bffccd04-49d0-44e0-afac-0d1c25f463aa"
      },
      "execution_count": 41,
      "outputs": [
        {
          "output_type": "stream",
          "name": "stdout",
          "text": [
            "Model: \"sequential\"\n",
            "_________________________________________________________________\n",
            " Layer (type)                Output Shape              Param #   \n",
            "=================================================================\n",
            " Relu1 (Dense)               (None, 64)                4352      \n",
            "                                                                 \n",
            " Relu2 (Dense)               (None, 64)                4160      \n",
            "                                                                 \n",
            " dropout (Dropout)           (None, 64)                0         \n",
            "                                                                 \n",
            " Activation (Dense)          (None, 1)                 65        \n",
            "                                                                 \n",
            "=================================================================\n",
            "Total params: 8,577\n",
            "Trainable params: 8,577\n",
            "Non-trainable params: 0\n",
            "_________________________________________________________________\n"
          ]
        }
      ]
    },
    {
      "cell_type": "code",
      "source": [
        "pd.Series(preds_m4-y).value_counts()"
      ],
      "metadata": {
        "colab": {
          "base_uri": "https://localhost:8080/"
        },
        "id": "DVNOkJr3oYGb",
        "outputId": "397b6208-91a5-4876-82ba-0a45b43fa562"
      },
      "execution_count": 50,
      "outputs": [
        {
          "output_type": "execute_result",
          "data": {
            "text/plain": [
              " 0.0    152999\n",
              "-1.0      3795\n",
              " 1.0      3206\n",
              "Name: count, dtype: int64"
            ]
          },
          "metadata": {},
          "execution_count": 50
        }
      ]
    }
  ]
}