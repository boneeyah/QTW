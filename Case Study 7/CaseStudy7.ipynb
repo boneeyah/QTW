{
  "nbformat": 4,
  "nbformat_minor": 0,
  "metadata": {
    "colab": {
      "provenance": [],
      "machine_shape": "hm",
      "gpuType": "V100",
      "mount_file_id": "https://github.com/KendallScott/QTW/blob/main/Case%20Study%207/CaseStudy7.ipynb",
      "authorship_tag": "ABX9TyNAYzQ+xkGSr4djadHAogXF",
      "include_colab_link": true
    },
    "kernelspec": {
      "name": "python3",
      "display_name": "Python 3"
    },
    "language_info": {
      "name": "python"
    }
  },
  "cells": [
    {
      "cell_type": "markdown",
      "metadata": {
        "id": "view-in-github",
        "colab_type": "text"
      },
      "source": [
        "<a href=\"https://colab.research.google.com/github/boneeyah/QTW/blob/main/Case%20Study%207/CaseStudy7.ipynb\" target=\"_parent\"><img src=\"https://colab.research.google.com/assets/colab-badge.svg\" alt=\"Open In Colab\"/></a>"
      ]
    },
    {
      "cell_type": "code",
      "execution_count": 1,
      "metadata": {
        "id": "OZryWKHR3JAd"
      },
      "outputs": [],
      "source": [
        "#!pip install scikit-learn-intelex\n"
      ]
    },
    {
      "cell_type": "code",
      "source": [
        "import pandas as pd\n",
        "import numpy as np\n",
        "import matplotlib.pyplot as plt\n",
        "import seaborn as sns\n",
        "import tensorflow as tf\n",
        "from tensorflow.keras.models import Sequential\n",
        "from tensorflow.keras.layers import Dense, Activation, Dropout\n",
        "from tensorflow.keras.callbacks import EarlyStopping\n",
        "import tensorflow.keras.backend as K\n",
        "from sklearnex import patch_sklearn\n",
        "patch_sklearn()\n",
        "from sklearn.linear_model import LogisticRegression\n",
        "from sklearn.ensemble import RandomForestClassifier\n",
        "from sklearn.svm import NuSVC\n",
        "from sklearn.metrics import classification_report, confusion_matrix, ConfusionMatrixDisplay\n",
        "from sklearn.preprocessing import StandardScaler, OneHotEncoder\n",
        "from sklearn.model_selection import StratifiedKFold, GridSearchCV, cross_val_predict\n",
        "import datetime"
      ],
      "metadata": {
        "id": "HrVUsV_b8Ezp",
        "colab": {
          "base_uri": "https://localhost:8080/"
        },
        "outputId": "c7e98688-e682-4338-cf16-f9203983f90b"
      },
      "execution_count": 2,
      "outputs": [
        {
          "output_type": "stream",
          "name": "stderr",
          "text": [
            "2023-07-30 01:46:24.919997: I tensorflow/core/platform/cpu_feature_guard.cc:182] This TensorFlow binary is optimized to use available CPU instructions in performance-critical operations.\n",
            "To enable the following instructions: AVX2 FMA, in other operations, rebuild TensorFlow with the appropriate compiler flags.\n",
            "2023-07-30 01:46:25.623907: W tensorflow/compiler/tf2tensorrt/utils/py_utils.cc:38] TF-TRT Warning: Could not find TensorRT\n",
            "Intel(R) Extension for Scikit-learn* enabled (https://github.com/intel/scikit-learn-intelex)\n"
          ]
        }
      ]
    },
    {
      "cell_type": "code",
      "source": [
        "#from google.colab import drive\n",
        "#drive.mount('drive')"
      ],
      "metadata": {
        "id": "T6H6L4bc8YlZ"
      },
      "execution_count": 3,
      "outputs": []
    },
    {
      "cell_type": "code",
      "source": [
        "#df = pd.read_csv(\"drive/My Drive/final_project(5).csv\")\n",
        "df = pd.read_csv(\"/home/migue/Downloads/final_project(5).csv\")"
      ],
      "metadata": {
        "id": "hngzaeNL-EXs"
      },
      "execution_count": 4,
      "outputs": []
    },
    {
      "cell_type": "code",
      "source": [
        "df.info()\n",
        "#there are NAs will need handling"
      ],
      "metadata": {
        "id": "kjzOue9y_SuK",
        "outputId": "ba1b23f4-43ae-46f8-ceaf-ae5113f003db",
        "colab": {
          "base_uri": "https://localhost:8080/"
        }
      },
      "execution_count": 5,
      "outputs": [
        {
          "output_type": "stream",
          "name": "stdout",
          "text": [
            "<class 'pandas.core.frame.DataFrame'>\n",
            "RangeIndex: 160000 entries, 0 to 159999\n",
            "Data columns (total 51 columns):\n",
            " #   Column  Non-Null Count   Dtype  \n",
            "---  ------  --------------   -----  \n",
            " 0   x0      159974 non-null  float64\n",
            " 1   x1      159975 non-null  float64\n",
            " 2   x2      159962 non-null  float64\n",
            " 3   x3      159963 non-null  float64\n",
            " 4   x4      159974 non-null  float64\n",
            " 5   x5      159963 non-null  float64\n",
            " 6   x6      159974 non-null  float64\n",
            " 7   x7      159973 non-null  float64\n",
            " 8   x8      159979 non-null  float64\n",
            " 9   x9      159970 non-null  float64\n",
            " 10  x10     159957 non-null  float64\n",
            " 11  x11     159970 non-null  float64\n",
            " 12  x12     159964 non-null  float64\n",
            " 13  x13     159969 non-null  float64\n",
            " 14  x14     159966 non-null  float64\n",
            " 15  x15     159965 non-null  float64\n",
            " 16  x16     159974 non-null  float64\n",
            " 17  x17     159973 non-null  float64\n",
            " 18  x18     159960 non-null  float64\n",
            " 19  x19     159965 non-null  float64\n",
            " 20  x20     159962 non-null  float64\n",
            " 21  x21     159971 non-null  float64\n",
            " 22  x22     159973 non-null  float64\n",
            " 23  x23     159953 non-null  float64\n",
            " 24  x24     159972 non-null  object \n",
            " 25  x25     159978 non-null  float64\n",
            " 26  x26     159964 non-null  float64\n",
            " 27  x27     159970 non-null  float64\n",
            " 28  x28     159965 non-null  float64\n",
            " 29  x29     159970 non-null  object \n",
            " 30  x30     159970 non-null  object \n",
            " 31  x31     159961 non-null  float64\n",
            " 32  x32     159969 non-null  object \n",
            " 33  x33     159959 non-null  float64\n",
            " 34  x34     159959 non-null  float64\n",
            " 35  x35     159970 non-null  float64\n",
            " 36  x36     159973 non-null  float64\n",
            " 37  x37     159977 non-null  object \n",
            " 38  x38     159969 non-null  float64\n",
            " 39  x39     159977 non-null  float64\n",
            " 40  x40     159964 non-null  float64\n",
            " 41  x41     159960 non-null  float64\n",
            " 42  x42     159974 non-null  float64\n",
            " 43  x43     159963 non-null  float64\n",
            " 44  x44     159960 non-null  float64\n",
            " 45  x45     159971 non-null  float64\n",
            " 46  x46     159969 non-null  float64\n",
            " 47  x47     159963 non-null  float64\n",
            " 48  x48     159968 non-null  float64\n",
            " 49  x49     159968 non-null  float64\n",
            " 50  y       160000 non-null  int64  \n",
            "dtypes: float64(45), int64(1), object(5)\n",
            "memory usage: 62.3+ MB\n"
          ]
        }
      ]
    },
    {
      "cell_type": "code",
      "source": [
        "for i in df.columns:\n",
        "    if df[i].isna().sum() > 0:\n",
        "        print('{} has {}% NAs'.format(i,(df[i].isna().sum() / len(df))*100))"
      ],
      "metadata": {
        "id": "CC3yFJ6BzzOw",
        "outputId": "643d93df-1a5c-47cc-90f3-8d3a1fb71e80",
        "colab": {
          "base_uri": "https://localhost:8080/"
        }
      },
      "execution_count": 6,
      "outputs": [
        {
          "output_type": "stream",
          "name": "stdout",
          "text": [
            "x0 has 0.01625% NAs\n",
            "x1 has 0.015625% NAs\n",
            "x2 has 0.02375% NAs\n",
            "x3 has 0.023125% NAs\n",
            "x4 has 0.01625% NAs\n",
            "x5 has 0.023125% NAs\n",
            "x6 has 0.01625% NAs\n",
            "x7 has 0.016875% NAs\n",
            "x8 has 0.013125% NAs\n",
            "x9 has 0.01875% NAs\n",
            "x10 has 0.026875% NAs\n",
            "x11 has 0.01875% NAs\n",
            "x12 has 0.0225% NAs\n",
            "x13 has 0.019375% NAs\n",
            "x14 has 0.021249999999999998% NAs\n",
            "x15 has 0.021875000000000002% NAs\n",
            "x16 has 0.01625% NAs\n",
            "x17 has 0.016875% NAs\n",
            "x18 has 0.025% NAs\n",
            "x19 has 0.021875000000000002% NAs\n",
            "x20 has 0.02375% NAs\n",
            "x21 has 0.018125% NAs\n",
            "x22 has 0.016875% NAs\n",
            "x23 has 0.029375000000000002% NAs\n",
            "x24 has 0.017499999999999998% NAs\n",
            "x25 has 0.01375% NAs\n",
            "x26 has 0.0225% NAs\n",
            "x27 has 0.01875% NAs\n",
            "x28 has 0.021875000000000002% NAs\n",
            "x29 has 0.01875% NAs\n",
            "x30 has 0.01875% NAs\n",
            "x31 has 0.024374999999999997% NAs\n",
            "x32 has 0.019375% NAs\n",
            "x33 has 0.025625000000000002% NAs\n",
            "x34 has 0.025625000000000002% NAs\n",
            "x35 has 0.01875% NAs\n",
            "x36 has 0.016875% NAs\n",
            "x37 has 0.014374999999999999% NAs\n",
            "x38 has 0.019375% NAs\n",
            "x39 has 0.014374999999999999% NAs\n",
            "x40 has 0.0225% NAs\n",
            "x41 has 0.025% NAs\n",
            "x42 has 0.01625% NAs\n",
            "x43 has 0.023125% NAs\n",
            "x44 has 0.025% NAs\n",
            "x45 has 0.018125% NAs\n",
            "x46 has 0.019375% NAs\n",
            "x47 has 0.023125% NAs\n",
            "x48 has 0.02% NAs\n",
            "x49 has 0.02% NAs\n"
          ]
        }
      ]
    },
    {
      "cell_type": "code",
      "source": [
        "df['x24'].value_counts()"
      ],
      "metadata": {
        "id": "TybuIbMLz6Ng",
        "outputId": "11cded34-cecb-4275-9164-adf752903672",
        "colab": {
          "base_uri": "https://localhost:8080/"
        }
      },
      "execution_count": 7,
      "outputs": [
        {
          "output_type": "execute_result",
          "data": {
            "text/plain": [
              "x24\n",
              "asia       138965\n",
              "euorpe      16538\n",
              "america      4469\n",
              "Name: count, dtype: int64"
            ]
          },
          "metadata": {},
          "execution_count": 7
        }
      ]
    },
    {
      "cell_type": "code",
      "source": [
        "plt.bar(x=df['x24'].value_counts().index,height=df['x24'].value_counts().values)"
      ],
      "metadata": {
        "id": "ME56MKaIz7sN",
        "outputId": "db067d3a-86c5-4b4c-e3fe-b9bf56d7de2d",
        "colab": {
          "base_uri": "https://localhost:8080/",
          "height": 447
        }
      },
      "execution_count": 8,
      "outputs": [
        {
          "output_type": "execute_result",
          "data": {
            "text/plain": [
              "<BarContainer object of 3 artists>"
            ]
          },
          "metadata": {},
          "execution_count": 8
        },
        {
          "output_type": "display_data",
          "data": {
            "text/plain": [
              "<Figure size 640x480 with 1 Axes>"
            ],
            "image/png": "[encoded data removed]"
          },
          "metadata": {}
        }
      ]
    },
    {
      "cell_type": "code",
      "source": [
        "df['x29'].value_counts()"
      ],
      "metadata": {
        "id": "P7rMlCalz9WH",
        "outputId": "c920a8a3-07e4-4605-9ebd-2b062a102d1d",
        "colab": {
          "base_uri": "https://localhost:8080/"
        }
      },
      "execution_count": 9,
      "outputs": [
        {
          "output_type": "execute_result",
          "data": {
            "text/plain": [
              "x29\n",
              "July       45569\n",
              "Jun        41329\n",
              "Aug        29406\n",
              "May        21939\n",
              "sept.      10819\n",
              "Apr         6761\n",
              "Oct         2407\n",
              "Mar         1231\n",
              "Nov          337\n",
              "Feb          140\n",
              "Dev           23\n",
              "January        9\n",
              "Name: count, dtype: int64"
            ]
          },
          "metadata": {},
          "execution_count": 9
        }
      ]
    },
    {
      "cell_type": "code",
      "source": [
        "#clean up month formatting to standard 3 letters\n",
        "df['x29'].replace(to_replace=['July','sept.','Dev','January'],value=['Jul','Sep','Dec','Jan'],inplace=True)"
      ],
      "metadata": {
        "id": "gB-gkjC2z_fK"
      },
      "execution_count": 10,
      "outputs": []
    },
    {
      "cell_type": "code",
      "source": [
        "mo = ['Jan','Feb','Mar','Apr','May','Jun','Jul','Aug','Sep','Oct','Nov','Dec']\n",
        "heights = []\n",
        "for i in mo:\n",
        "    x = df['x29'].to_list().count(i)\n",
        "    heights.append(x)\n",
        "plt.bar(x=mo,height=heights)"
      ],
      "metadata": {
        "id": "eZTNOL9P0CM3",
        "outputId": "e12529da-71c4-4f59-e619-f9df52afa81c",
        "colab": {
          "base_uri": "https://localhost:8080/",
          "height": 447
        }
      },
      "execution_count": 11,
      "outputs": [
        {
          "output_type": "execute_result",
          "data": {
            "text/plain": [
              "<BarContainer object of 12 artists>"
            ]
          },
          "metadata": {},
          "execution_count": 11
        },
        {
          "output_type": "display_data",
          "data": {
            "text/plain": [
              "<Figure size 640x480 with 1 Axes>"
            ],
            "image/png": "[encoded data removed]"
          },
          "metadata": {}
        }
      ]
    },
    {
      "cell_type": "code",
      "source": [
        "df['x30'].value_counts()"
      ],
      "metadata": {
        "id": "_1LSKgy80ENF",
        "outputId": "0bf2b8c9-f3a8-4c49-a341-b8cc3a2e8ebd",
        "colab": {
          "base_uri": "https://localhost:8080/"
        }
      },
      "execution_count": 12,
      "outputs": [
        {
          "output_type": "execute_result",
          "data": {
            "text/plain": [
              "x30\n",
              "wednesday    101535\n",
              "thurday       29429\n",
              "tuesday       27954\n",
              "friday          564\n",
              "monday          488\n",
              "Name: count, dtype: int64"
            ]
          },
          "metadata": {},
          "execution_count": 12
        }
      ]
    },
    {
      "cell_type": "code",
      "source": [
        "# thursday is incorrect\n",
        "df['x30'].replace(to_replace = 'thurday',value='thursday')\n",
        "days = ['monday','tuesday','wednesday','thursday','friday']\n",
        "d_heights = []\n",
        "for i in days:\n",
        "    x = df['x30'].to_list().count(i)\n",
        "    d_heights.append(x)\n",
        "plt.bar(x=days,height = d_heights)"
      ],
      "metadata": {
        "id": "3hFwgArL0GAB",
        "outputId": "a9ab0788-b63a-42dc-c571-83fea3209581",
        "colab": {
          "base_uri": "https://localhost:8080/",
          "height": 447
        }
      },
      "execution_count": 13,
      "outputs": [
        {
          "output_type": "execute_result",
          "data": {
            "text/plain": [
              "<BarContainer object of 5 artists>"
            ]
          },
          "metadata": {},
          "execution_count": 13
        },
        {
          "output_type": "display_data",
          "data": {
            "text/plain": [
              "<Figure size 640x480 with 1 Axes>"
            ],
            "image/png": "[encoded data removed]"
          },
          "metadata": {}
        }
      ]
    },
    {
      "cell_type": "code",
      "source": [
        "df['x32'].value_counts()"
      ],
      "metadata": {
        "id": "WErTHaJ70Ia2",
        "outputId": "4fbbba0d-0c00-44b4-fd22-f6a3924628a0",
        "colab": {
          "base_uri": "https://localhost:8080/"
        }
      },
      "execution_count": 14,
      "outputs": [
        {
          "output_type": "execute_result",
          "data": {
            "text/plain": [
              "x32\n",
              "0.01%     40767\n",
              "-0.01%    34094\n",
              "0.0%      33923\n",
              "-0.0%     30492\n",
              "-0.02%     9924\n",
              "0.02%      7987\n",
              "-0.03%     1727\n",
              "0.03%       855\n",
              "-0.04%      138\n",
              "0.04%        55\n",
              "-0.05%        6\n",
              "0.05%         1\n",
              "Name: count, dtype: int64"
            ]
          },
          "metadata": {},
          "execution_count": 14
        }
      ]
    },
    {
      "cell_type": "code",
      "source": [
        "df['x37'].value_counts()\n"
      ],
      "metadata": {
        "id": "r98Zehw50LS1",
        "outputId": "348e7378-3e83-4908-d8db-d1b898aaefdf",
        "colab": {
          "base_uri": "https://localhost:8080/"
        }
      },
      "execution_count": 15,
      "outputs": [
        {
          "output_type": "execute_result",
          "data": {
            "text/plain": [
              "x37\n",
              "$-311.26     6\n",
              "$-336.77     6\n",
              "$237.4       6\n",
              "$72.42       6\n",
              "$341.26      6\n",
              "            ..\n",
              "$-505.21     1\n",
              "$770.07      1\n",
              "$74.62       1\n",
              "$-1082.96    1\n",
              "$-1229.34    1\n",
              "Name: count, Length: 129198, dtype: int64"
            ]
          },
          "metadata": {},
          "execution_count": 15
        }
      ]
    },
    {
      "cell_type": "code",
      "source": [
        "### x32 and x37 are actually numeric with string format (even though x32 has few \"levels\" or possible values)\n",
        "### x32 is in percentage, but don't think it needs to be transformed to proportion since data will be scaled later (will double check, but should make no difference)\n",
        "\n",
        "df['x32'] = df['x32'].transform(lambda x: float(str(x).replace('%','')))\n",
        "df['x37'] = df['x37'].transform(lambda x: float(str(x).replace('$','')))"
      ],
      "metadata": {
        "id": "-8HSIli70VDX"
      },
      "execution_count": 16,
      "outputs": []
    },
    {
      "cell_type": "code",
      "source": [
        "#all significanlty less than 5%, should be no issue imputing,\n",
        "#imputing categorical features with modes\n",
        "# imputing continent with mode, then dates by mode grouped by continent\n",
        "\n",
        "print('imputing continent with mode: {}'.format(df['x24'].aggregate(pd.Series.mode)))\n",
        "df['x24'] = df['x24'].transform(lambda x: x.fillna(pd.Series.mode(x)[0]))\n",
        "\n",
        "print('imputing month with mode by cont: {}'.format(df[['x24','x29']].groupby(by='x24').aggregate(pd.Series.mode)))\n",
        "idx_29 = df.loc[df['x29'].isna(),:].index #saving NAs indices to quick check what they've been imputed with\n",
        "df['x29'] = df[['x24','x29']].groupby(by='x24').transform(lambda grp: grp.fillna(pd.Series.mode(grp)[0]))\n",
        "\n",
        "# will fix index showing on print later\n"
      ],
      "metadata": {
        "id": "qyAc5R1u209T",
        "outputId": "ebe49a36-17e9-4f1d-ceed-6265be5eb697",
        "colab": {
          "base_uri": "https://localhost:8080/"
        }
      },
      "execution_count": 17,
      "outputs": [
        {
          "output_type": "stream",
          "name": "stdout",
          "text": [
            "imputing continent with mode: 0    asia\n",
            "Name: x24, dtype: object\n",
            "imputing month with mode by cont:          x29\n",
            "x24         \n",
            "america  Jul\n",
            "asia     Jul\n",
            "euorpe   Jul\n"
          ]
        }
      ]
    },
    {
      "cell_type": "code",
      "source": [
        "df[['x24','x29','x30']].groupby(by=['x24','x29']).aggregate(pd.Series.mode)\n",
        "# could just impute with wednesday since Wed is mode per month, but adding continent gives more context and different days for some months"
      ],
      "metadata": {
        "id": "2iV02zDI3Emu",
        "outputId": "a05d07af-7a15-4924-88af-f8ea72c0410f",
        "colab": {
          "base_uri": "https://localhost:8080/",
          "height": 1000
        }
      },
      "execution_count": 18,
      "outputs": [
        {
          "output_type": "execute_result",
          "data": {
            "text/plain": [
              "                   x30\n",
              "x24     x29           \n",
              "america Apr  wednesday\n",
              "        Aug  wednesday\n",
              "        Feb    tuesday\n",
              "        Jul  wednesday\n",
              "        Jun  wednesday\n",
              "        Mar  wednesday\n",
              "        May  wednesday\n",
              "        Nov  wednesday\n",
              "        Oct  wednesday\n",
              "        Sep  wednesday\n",
              "asia    Apr  wednesday\n",
              "        Aug  wednesday\n",
              "        Dec  wednesday\n",
              "        Feb  wednesday\n",
              "        Jan  wednesday\n",
              "        Jul  wednesday\n",
              "        Jun  wednesday\n",
              "        Mar  wednesday\n",
              "        May  wednesday\n",
              "        Nov  wednesday\n",
              "        Oct  wednesday\n",
              "        Sep  wednesday\n",
              "euorpe  Apr  wednesday\n",
              "        Aug  wednesday\n",
              "        Dec  wednesday\n",
              "        Feb    tuesday\n",
              "        Jul  wednesday\n",
              "        Jun  wednesday\n",
              "        Mar  wednesday\n",
              "        May  wednesday\n",
              "        Nov  wednesday\n",
              "        Oct  wednesday\n",
              "        Sep  wednesday"
            ],
            "text/html": [
              "<div>\n",
              "<style scoped>\n",
              "    .dataframe tbody tr th:only-of-type {\n",
              "        vertical-align: middle;\n",
              "    }\n",
              "\n",
              "    .dataframe tbody tr th {\n",
              "        vertical-align: top;\n",
              "    }\n",
              "\n",
              "    .dataframe thead th {\n",
              "        text-align: right;\n",
              "    }\n",
              "</style>\n",
              "<table border=\"1\" class=\"dataframe\">\n",
              "  <thead>\n",
              "    <tr style=\"text-align: right;\">\n",
              "      <th></th>\n",
              "      <th></th>\n",
              "      <th>x30</th>\n",
              "    </tr>\n",
              "    <tr>\n",
              "      <th>x24</th>\n",
              "      <th>x29</th>\n",
              "      <th></th>\n",
              "    </tr>\n",
              "  </thead>\n",
              "  <tbody>\n",
              "    <tr>\n",
              "      <th rowspan=\"10\" valign=\"top\">america</th>\n",
              "      <th>Apr</th>\n",
              "      <td>wednesday</td>\n",
              "    </tr>\n",
              "    <tr>\n",
              "      <th>Aug</th>\n",
              "      <td>wednesday</td>\n",
              "    </tr>\n",
              "    <tr>\n",
              "      <th>Feb</th>\n",
              "      <td>tuesday</td>\n",
              "    </tr>\n",
              "    <tr>\n",
              "      <th>Jul</th>\n",
              "      <td>wednesday</td>\n",
              "    </tr>\n",
              "    <tr>\n",
              "      <th>Jun</th>\n",
              "      <td>wednesday</td>\n",
              "    </tr>\n",
              "    <tr>\n",
              "      <th>Mar</th>\n",
              "      <td>wednesday</td>\n",
              "    </tr>\n",
              "    <tr>\n",
              "      <th>May</th>\n",
              "      <td>wednesday</td>\n",
              "    </tr>\n",
              "    <tr>\n",
              "      <th>Nov</th>\n",
              "      <td>wednesday</td>\n",
              "    </tr>\n",
              "    <tr>\n",
              "      <th>Oct</th>\n",
              "      <td>wednesday</td>\n",
              "    </tr>\n",
              "    <tr>\n",
              "      <th>Sep</th>\n",
              "      <td>wednesday</td>\n",
              "    </tr>\n",
              "    <tr>\n",
              "      <th rowspan=\"12\" valign=\"top\">asia</th>\n",
              "      <th>Apr</th>\n",
              "      <td>wednesday</td>\n",
              "    </tr>\n",
              "    <tr>\n",
              "      <th>Aug</th>\n",
              "      <td>wednesday</td>\n",
              "    </tr>\n",
              "    <tr>\n",
              "      <th>Dec</th>\n",
              "      <td>wednesday</td>\n",
              "    </tr>\n",
              "    <tr>\n",
              "      <th>Feb</th>\n",
              "      <td>wednesday</td>\n",
              "    </tr>\n",
              "    <tr>\n",
              "      <th>Jan</th>\n",
              "      <td>wednesday</td>\n",
              "    </tr>\n",
              "    <tr>\n",
              "      <th>Jul</th>\n",
              "      <td>wednesday</td>\n",
              "    </tr>\n",
              "    <tr>\n",
              "      <th>Jun</th>\n",
              "      <td>wednesday</td>\n",
              "    </tr>\n",
              "    <tr>\n",
              "      <th>Mar</th>\n",
              "      <td>wednesday</td>\n",
              "    </tr>\n",
              "    <tr>\n",
              "      <th>May</th>\n",
              "      <td>wednesday</td>\n",
              "    </tr>\n",
              "    <tr>\n",
              "      <th>Nov</th>\n",
              "      <td>wednesday</td>\n",
              "    </tr>\n",
              "    <tr>\n",
              "      <th>Oct</th>\n",
              "      <td>wednesday</td>\n",
              "    </tr>\n",
              "    <tr>\n",
              "      <th>Sep</th>\n",
              "      <td>wednesday</td>\n",
              "    </tr>\n",
              "    <tr>\n",
              "      <th rowspan=\"11\" valign=\"top\">euorpe</th>\n",
              "      <th>Apr</th>\n",
              "      <td>wednesday</td>\n",
              "    </tr>\n",
              "    <tr>\n",
              "      <th>Aug</th>\n",
              "      <td>wednesday</td>\n",
              "    </tr>\n",
              "    <tr>\n",
              "      <th>Dec</th>\n",
              "      <td>wednesday</td>\n",
              "    </tr>\n",
              "    <tr>\n",
              "      <th>Feb</th>\n",
              "      <td>tuesday</td>\n",
              "    </tr>\n",
              "    <tr>\n",
              "      <th>Jul</th>\n",
              "      <td>wednesday</td>\n",
              "    </tr>\n",
              "    <tr>\n",
              "      <th>Jun</th>\n",
              "      <td>wednesday</td>\n",
              "    </tr>\n",
              "    <tr>\n",
              "      <th>Mar</th>\n",
              "      <td>wednesday</td>\n",
              "    </tr>\n",
              "    <tr>\n",
              "      <th>May</th>\n",
              "      <td>wednesday</td>\n",
              "    </tr>\n",
              "    <tr>\n",
              "      <th>Nov</th>\n",
              "      <td>wednesday</td>\n",
              "    </tr>\n",
              "    <tr>\n",
              "      <th>Oct</th>\n",
              "      <td>wednesday</td>\n",
              "    </tr>\n",
              "    <tr>\n",
              "      <th>Sep</th>\n",
              "      <td>wednesday</td>\n",
              "    </tr>\n",
              "  </tbody>\n",
              "</table>\n",
              "</div>"
            ]
          },
          "metadata": {},
          "execution_count": 18
        }
      ]
    },
    {
      "cell_type": "code",
      "source": [
        "# impute day\n",
        "df['x30'] = df[['x24','x29','x30']].groupby(by=['x24','x29']).transform(lambda grp: grp.fillna(pd.Series.mode(grp)[0]))"
      ],
      "metadata": {
        "id": "HVQavir8IV9m"
      },
      "execution_count": 19,
      "outputs": []
    },
    {
      "cell_type": "code",
      "source": [
        "X = df.loc[:,df.columns != 'y']\n",
        "y = df['y'].values.flatten()\n",
        "\n",
        "df_num = X.select_dtypes(exclude='object')\n",
        "num_cols = df_num.columns\n",
        "\n",
        "# impute numeric with median\n",
        "for i in num_cols:\n",
        "    df_num[i] = df_num[i].transform(lambda x: x.fillna(pd.Series.mode(x)[0]))\n",
        "df_num.info()\n",
        "\n",
        "df_cat = X.select_dtypes(include='object')\n",
        "cat_cols = df_cat.columns\n",
        "\n",
        "# scale numerical data\n",
        "scaler = StandardScaler()\n",
        "df_num = scaler.fit_transform(df_num)\n",
        "\n",
        "#one hot encode cat data\n",
        "encoder = OneHotEncoder(sparse_output=False)\n",
        "df_cat = encoder.fit_transform(df_cat)"
      ],
      "metadata": {
        "id": "w8Uy9xG3Iern",
        "outputId": "684dc7d8-eec9-4442-972a-4e7bd0ecd7d3",
        "colab": {
          "base_uri": "https://localhost:8080/"
        }
      },
      "execution_count": 20,
      "outputs": [
        {
          "output_type": "stream",
          "name": "stdout",
          "text": [
            "<class 'pandas.core.frame.DataFrame'>\n",
            "RangeIndex: 160000 entries, 0 to 159999\n",
            "Data columns (total 47 columns):\n",
            " #   Column  Non-Null Count   Dtype  \n",
            "---  ------  --------------   -----  \n",
            " 0   x0      160000 non-null  float64\n",
            " 1   x1      160000 non-null  float64\n",
            " 2   x2      160000 non-null  float64\n",
            " 3   x3      160000 non-null  float64\n",
            " 4   x4      160000 non-null  float64\n",
            " 5   x5      160000 non-null  float64\n",
            " 6   x6      160000 non-null  float64\n",
            " 7   x7      160000 non-null  float64\n",
            " 8   x8      160000 non-null  float64\n",
            " 9   x9      160000 non-null  float64\n",
            " 10  x10     160000 non-null  float64\n",
            " 11  x11     160000 non-null  float64\n",
            " 12  x12     160000 non-null  float64\n",
            " 13  x13     160000 non-null  float64\n",
            " 14  x14     160000 non-null  float64\n",
            " 15  x15     160000 non-null  float64\n",
            " 16  x16     160000 non-null  float64\n",
            " 17  x17     160000 non-null  float64\n",
            " 18  x18     160000 non-null  float64\n",
            " 19  x19     160000 non-null  float64\n",
            " 20  x20     160000 non-null  float64\n",
            " 21  x21     160000 non-null  float64\n",
            " 22  x22     160000 non-null  float64\n",
            " 23  x23     160000 non-null  float64\n",
            " 24  x25     160000 non-null  float64\n",
            " 25  x26     160000 non-null  float64\n",
            " 26  x27     160000 non-null  float64\n",
            " 27  x28     160000 non-null  float64\n",
            " 28  x31     160000 non-null  float64\n",
            " 29  x32     160000 non-null  float64\n",
            " 30  x33     160000 non-null  float64\n",
            " 31  x34     160000 non-null  float64\n",
            " 32  x35     160000 non-null  float64\n",
            " 33  x36     160000 non-null  float64\n",
            " 34  x37     160000 non-null  float64\n",
            " 35  x38     160000 non-null  float64\n",
            " 36  x39     160000 non-null  float64\n",
            " 37  x40     160000 non-null  float64\n",
            " 38  x41     160000 non-null  float64\n",
            " 39  x42     160000 non-null  float64\n",
            " 40  x43     160000 non-null  float64\n",
            " 41  x44     160000 non-null  float64\n",
            " 42  x45     160000 non-null  float64\n",
            " 43  x46     160000 non-null  float64\n",
            " 44  x47     160000 non-null  float64\n",
            " 45  x48     160000 non-null  float64\n",
            " 46  x49     160000 non-null  float64\n",
            "dtypes: float64(47)\n",
            "memory usage: 57.4 MB\n"
          ]
        }
      ]
    },
    {
      "cell_type": "code",
      "source": [
        "X = np.hstack([df_num,df_cat])"
      ],
      "metadata": {
        "id": "R4oaw8CgIkXV"
      },
      "execution_count": 21,
      "outputs": []
    },
    {
      "cell_type": "code",
      "source": [
        "df['y'].value_counts() # not balanced"
      ],
      "metadata": {
        "id": "xbzdACUdImVy",
        "outputId": "e215c90f-c1c0-47cc-d063-710e49c7db61",
        "colab": {
          "base_uri": "https://localhost:8080/"
        }
      },
      "execution_count": 22,
      "outputs": [
        {
          "output_type": "execute_result",
          "data": {
            "text/plain": [
              "y\n",
              "0    95803\n",
              "1    64197\n",
              "Name: count, dtype: int64"
            ]
          },
          "metadata": {},
          "execution_count": 22
        }
      ]
    },
    {
      "cell_type": "code",
      "source": [
        "#add y plot"
      ],
      "metadata": {
        "id": "vUXTcWUZIoot"
      },
      "execution_count": 23,
      "outputs": []
    },
    {
      "cell_type": "code",
      "source": [
        "## define cost function\n",
        "def cost_func(y_true,y_pred):\n",
        "    diff = y_pred - y_true\n",
        "    x = 0\n",
        "    for i in diff:\n",
        "        #false pos (y_pred -y_true == 1)\n",
        "        if i == 1:\n",
        "            x += 100\n",
        "        #false neg (y_pred -y_true ==-1)\n",
        "        elif i == -1:\n",
        "            x += 150\n",
        "    return(x)"
      ],
      "metadata": {
        "id": "HRJz__nu_bxm"
      },
      "execution_count": 24,
      "outputs": []
    },
    {
      "cell_type": "code",
      "source": [
        "skf = StratifiedKFold(n_splits=5,random_state=807,shuffle=True)\n",
        "skf.get_n_splits(X,y)"
      ],
      "metadata": {
        "id": "qIgBnSnHIqjU",
        "outputId": "9eea42a8-d400-4ebd-c4a6-b063457b1980",
        "colab": {
          "base_uri": "https://localhost:8080/"
        }
      },
      "execution_count": 23,
      "outputs": [
        {
          "output_type": "execute_result",
          "data": {
            "text/plain": [
              "5"
            ]
          },
          "metadata": {},
          "execution_count": 23
        }
      ]
    },
    {
      "cell_type": "code",
      "source": [
        "logR = LogisticRegression(random_state=807,penalty='elasticnet',class_weight='balanced',solver='saga')\n",
        "params = {'C':[0.00001,0.0001,0.001,0.01,0.1,1,2,5,10],'l1_ratio':[0,0.001,0.01,0.1,0.25,0.5,0.75,0.9,0.99,1],'max_iter':[25,50,75]}\n",
        "\n",
        "lr_clf = GridSearchCV(estimator=logR,param_grid=params,n_jobs=-1,cv=skf)\n",
        "lr_clf.fit(X,y)"
      ],
      "metadata": {
        "id": "AcpquSzJO6SF"
      },
      "execution_count": null,
      "outputs": []
    },
    {
      "cell_type": "code",
      "source": [
        "lr_params = lr_clf.best_params_\n",
        "lr_params"
      ],
      "metadata": {
        "id": "Eb5e2xOvO8pr"
      },
      "execution_count": null,
      "outputs": []
    },
    {
      "cell_type": "markdown",
      "source": [
        "{'C': 0.001, 'l1_ratio': 0.5, 'max_iter': 50}"
      ],
      "metadata": {
        "id": "gfllGKF4pUMP"
      }
    },
    {
      "cell_type": "code",
      "source": [
        "model1 = LogisticRegression(random_state=807,penalty='elasticnet',class_weight='balanced',solver='saga')\n",
        "model1.set_params(**lr_params)\n",
        "model1.fit(X,y)\n",
        "\n",
        "preds_m1 = cross_val_predict(model1,X,y,cv=skf)"
      ],
      "metadata": {
        "id": "RHUkzlw2PATu"
      },
      "execution_count": null,
      "outputs": []
    },
    {
      "cell_type": "code",
      "source": [
        "cr_m1 = classification_report(y,preds_m1,output_dict=True)\n",
        "cr_m1\n"
      ],
      "metadata": {
        "id": "3katCHeBPQB-"
      },
      "execution_count": null,
      "outputs": []
    },
    {
      "cell_type": "code",
      "source": [
        "ConfusionMatrixDisplay.from_predictions(y,preds_m1)\n"
      ],
      "metadata": {
        "id": "ent8XHdUPayB"
      },
      "execution_count": null,
      "outputs": []
    },
    {
      "cell_type": "code",
      "source": [
        "cost_m1 = cost_func(preds_m1,y)\n",
        "cost_m1"
      ],
      "metadata": {
        "id": "zawbBlwk_fbc"
      },
      "execution_count": null,
      "outputs": []
    },
    {
      "cell_type": "code",
      "source": [
        "rf = RandomForestClassifier(random_state=807,criterion='gini',class_weight='balanced')\n",
        "params = {'n_estimators':[200,250,500],'max_features':['sqrt','log2',20]}\n",
        "rf_clf = GridSearchCV(rf,param_grid=params,cv=skf,n_jobs = -1)"
      ],
      "metadata": {
        "id": "4HWotr_VPhhH"
      },
      "execution_count": null,
      "outputs": []
    },
    {
      "cell_type": "code",
      "source": [
        "rf_clf.fit(X,y)"
      ],
      "metadata": {
        "id": "soQp5nQ8PkUl"
      },
      "execution_count": null,
      "outputs": []
    },
    {
      "cell_type": "code",
      "source": [
        "rf_params = rf_clf.best_params_\n",
        "rf_params"
      ],
      "metadata": {
        "id": "Hz6owkMTPlOF"
      },
      "execution_count": null,
      "outputs": []
    },
    {
      "cell_type": "code",
      "source": [
        "model2 = RandomForestClassifier(random_state=807,criterion='gini',class_weight='balanced')\n",
        "model2.set_params(**rf_params)\n",
        "preds_m2 = cross_val_predict(model2,X,y,cv=skf)"
      ],
      "metadata": {
        "id": "hvIbks5bPnfm"
      },
      "execution_count": null,
      "outputs": []
    },
    {
      "cell_type": "code",
      "source": [
        "cr_m2 = classification_report(y,preds_m2,output_dict=True)\n",
        "cr_m2"
      ],
      "metadata": {
        "id": "Aaw8aFI7PpCG"
      },
      "execution_count": null,
      "outputs": []
    },
    {
      "cell_type": "code",
      "source": [
        "ConfusionMatrixDisplay.from_predictions(y,preds_m2)"
      ],
      "metadata": {
        "id": "BK6zSOo4Pq_P"
      },
      "execution_count": null,
      "outputs": []
    },
    {
      "cell_type": "code",
      "source": [
        "cost_m2 = cost_func(preds_m2,y)\n",
        "cost_m2\n"
      ],
      "metadata": {
        "id": "XqmhfmAx9Ge2"
      },
      "execution_count": null,
      "outputs": []
    },
    {
      "cell_type": "code",
      "source": [
        "svc = NuSVC(random_state=807,class_weight='balanced',cache_size = 8192)\n",
        "params = {'nu':[0.0001,0.01, 0.1, 0.25, 0.5, 0.75, 0.99,1],'kernel':['linear','rbf','sigmoid']}\n",
        "svc_clf = GridSearchCV(svc,param_grid=params,cv=skf,n_jobs=-1)"
      ],
      "metadata": {
        "id": "zYBX6GGsPwEx"
      },
      "execution_count": null,
      "outputs": []
    },
    {
      "cell_type": "code",
      "source": [
        "svc_clf.fit(X,y)"
      ],
      "metadata": {
        "id": "EjZRywoCP6hm"
      },
      "execution_count": null,
      "outputs": []
    },
    {
      "cell_type": "code",
      "source": [
        "svc_params = svc_clf.best_params_\n",
        "svc_params"
      ],
      "metadata": {
        "id": "yYiNL9AlP98A"
      },
      "execution_count": null,
      "outputs": []
    },
    {
      "cell_type": "code",
      "source": [
        "model3 = NuSVC(random_state=807,class_weight='balanced',cache_size = 2048)\n",
        "model3.set_params(**svc_params)\n",
        "preds_m3 = cross_val_predict(model3,X,y,cv=skf)"
      ],
      "metadata": {
        "id": "_58pwDIoQGHe"
      },
      "execution_count": null,
      "outputs": []
    },
    {
      "cell_type": "code",
      "source": [
        "cr_m3 = classification_report(y,preds_m3,output_dict=True)\n",
        "cr_m3"
      ],
      "metadata": {
        "id": "5AVAi2z8QPOc"
      },
      "execution_count": null,
      "outputs": []
    },
    {
      "cell_type": "code",
      "source": [
        "ConfusionMatrixDisplay.from_predictions(y,preds_m3)"
      ],
      "metadata": {
        "id": "j5nGHzRUQUOl"
      },
      "execution_count": null,
      "outputs": []
    },
    {
      "cell_type": "code",
      "source": [
        "cost_m3 = cost_func(preds_m3,y)\n",
        "cost_m3"
      ],
      "metadata": {
        "id": "sefhH4BT-Rd3",
        "colab": {
          "base_uri": "https://localhost:8080/",
          "height": 185
        },
        "outputId": "8946dca4-81fe-4bfb-be64-a384b53f9eb4"
      },
      "execution_count": null,
      "outputs": [
        {
          "output_type": "error",
          "ename": "NameError",
          "evalue": "ignored",
          "traceback": [
            "\u001b[0;31m---------------------------------------------------------------------------\u001b[0m",
            "\u001b[0;31mNameError\u001b[0m                                 Traceback (most recent call last)",
            "Cell \u001b[0;32mIn[42], line 1\u001b[0m\n\u001b[0;32m----> 1\u001b[0m cost_m3 \u001b[38;5;241m=\u001b[39m cost(\u001b[43mpreds_m3\u001b[49m,y)\n\u001b[1;32m      2\u001b[0m cost_m3\n",
            "\u001b[0;31mNameError\u001b[0m: name 'preds_m3' is not defined"
          ]
        }
      ]
    },
    {
      "cell_type": "code",
      "source": [
        "now = datetime.datetime.now\n",
        "import tensorflow.keras.backend as K\n"
      ],
      "metadata": {
        "id": "b04x7Mf5dBDd"
      },
      "execution_count": 24,
      "outputs": []
    },
    {
      "cell_type": "code",
      "source": [
        "### doesn't work fully because predictions aren't binary\n",
        "def cost(y_true,y_pred):\n",
        "  diff = y_pred-y_true\n",
        "\n",
        "  error = K.switch(\n",
        "      K.equal(diff,1),K.constant(100,shape=y_pred.shape),\n",
        "      K.switch(\n",
        "          K.equal(diff,-1),K.constant(150,shape=y_pred.shape),\n",
        "          K.constant(0,shape=y_pred.shape)\n",
        "      )\n",
        "  )\n",
        "  return(K.sum(error))"
      ],
      "metadata": {
        "id": "h_kr7PGjLb42"
      },
      "execution_count": 56,
      "outputs": []
    },
    {
      "cell_type": "code",
      "source": [
        "#sets binary values for predictions\n",
        "def cost(y_true,y_pred):\n",
        "\n",
        "  bin_p = K.switch(K.greater_equal(y_pred,0.5),K.constant(1,shape=y_pred.shape),\n",
        "                   K.constant(0,shape=y_pred.shape))\n",
        "  diff = bin_p-y_true\n",
        "\n",
        "  error = K.switch(\n",
        "      K.equal(diff,1),K.constant(100,shape=y_pred.shape),\n",
        "      K.switch(\n",
        "          K.equal(diff,-1),K.constant(150,shape=y_pred.shape),\n",
        "          K.constant(0,shape=y_pred.shape)\n",
        "      )\n",
        "  )\n",
        "  return(K.sum(error))"
      ],
      "metadata": {
        "id": "4R5oVbvcO0V1"
      },
      "execution_count": 52,
      "outputs": []
    },
    {
      "cell_type": "code",
      "source": [
        "es = EarlyStopping(monitor='val_cost', mode='min',patience=10,restore_best_weights=True,start_from_epoch=40)\n",
        "fold_results = {}\n",
        "t_tot = now()\n",
        "for i, (train_index, test_index) in enumerate(skf.split(X,y)):\n",
        "  # building model within loop to reset weights each time\n",
        "  tf.keras.backend.clear_session()\n",
        "  tf.keras.utils.set_random_seed(807)\n",
        "  model4 = tf.keras.Sequential()\n",
        "  model4.add(tf.keras.Input(shape=(X.shape[1],)))\n",
        "  model4.add(tf.keras.layers.Dense(64, activation='relu',name=\"Relu1\"))\n",
        "  model4.add(tf.keras.layers.Dense(64, activation='relu', name=\"Relu2\"))\n",
        "  model4.add(tf.keras.layers.Dropout(0.4))\n",
        "  model4.add(tf.keras.layers.Dense(1, activation='sigmoid', name=\"Activation\"))\n",
        "  model4.compile(optimizer='adam',\n",
        "                loss=tf.keras.losses.BinaryCrossentropy(from_logits=False),\n",
        "                metrics = [tf.keras.metrics.AUC(from_logits=False), 'accuracy',cost])\n",
        "  t_fold = now()\n",
        "  print('x_train shape:', X[train_index].shape)\n",
        "  model4.fit(X[train_index],y[train_index],epochs=100,batch_size=64,validation_split=0.2,callbacks=[es])\n",
        "  fold_results.update({i:{'predictions':model4.predict(X[test_index]).flatten(),'index':test_index,'y_true':y[test_index]}})\n",
        "  print('fold train/predict time: %s' % (now()-t_fold))\n",
        "print('total train/predict time: %s' % (now()-t_tot))"
      ],
      "metadata": {
        "colab": {
          "base_uri": "https://localhost:8080/"
        },
        "id": "oEjPIqNtVPF1",
        "outputId": "cf9e24b6-085b-4a4b-c452-4d5223e105fb"
      },
      "execution_count": 55,
      "outputs": [
        {
          "output_type": "stream",
          "name": "stdout",
          "text": [
            "x_train shape: (128000, 67)\n",
            "Epoch 1/100\n",
            "1600/1600 [==============================] - 6s 3ms/step - loss: 0.3797 - auc: 0.9067 - accuracy: 0.8289 - cost: 1409.5000 - val_loss: 0.2840 - val_auc: 0.9493 - val_accuracy: 0.8816 - val_cost: 975.0000\n",
            "Epoch 2/100\n",
            "1600/1600 [==============================] - 5s 3ms/step - loss: 0.2641 - auc: 0.9560 - accuracy: 0.8947 - cost: 853.0000 - val_loss: 0.2302 - val_auc: 0.9666 - val_accuracy: 0.9101 - val_cost: 718.2500\n",
            "Epoch 3/100\n",
            "1600/1600 [==============================] - 5s 3ms/step - loss: 0.2246 - auc: 0.9681 - accuracy: 0.9130 - cost: 705.7812 - val_loss: 0.1983 - val_auc: 0.9750 - val_accuracy: 0.9253 - val_cost: 602.5000\n",
            "Epoch 4/100\n",
            "1600/1600 [==============================] - 5s 3ms/step - loss: 0.1993 - auc: 0.9747 - accuracy: 0.9264 - cost: 597.6562 - val_loss: 0.1778 - val_auc: 0.9799 - val_accuracy: 0.9355 - val_cost: 519.3750\n",
            "Epoch 5/100\n",
            "1600/1600 [==============================] - 5s 3ms/step - loss: 0.1824 - auc: 0.9785 - accuracy: 0.9345 - cost: 533.4688 - val_loss: 0.1682 - val_auc: 0.9815 - val_accuracy: 0.9398 - val_cost: 482.5000\n",
            "Epoch 6/100\n",
            "1600/1600 [==============================] - 5s 3ms/step - loss: 0.1710 - auc: 0.9810 - accuracy: 0.9388 - cost: 498.8750 - val_loss: 0.1587 - val_auc: 0.9833 - val_accuracy: 0.9455 - val_cost: 440.5000\n",
            "Epoch 7/100\n",
            "1600/1600 [==============================] - 5s 3ms/step - loss: 0.1629 - auc: 0.9826 - accuracy: 0.9422 - cost: 471.0000 - val_loss: 0.1553 - val_auc: 0.9840 - val_accuracy: 0.9443 - val_cost: 458.3750\n",
            "Epoch 8/100\n",
            "1600/1600 [==============================] - 5s 3ms/step - loss: 0.1574 - auc: 0.9836 - accuracy: 0.9441 - cost: 454.9375 - val_loss: 0.1498 - val_auc: 0.9850 - val_accuracy: 0.9476 - val_cost: 435.3750\n",
            "Epoch 9/100\n",
            "1600/1600 [==============================] - 5s 3ms/step - loss: 0.1517 - auc: 0.9847 - accuracy: 0.9481 - cost: 423.5938 - val_loss: 0.1466 - val_auc: 0.9855 - val_accuracy: 0.9500 - val_cost: 395.5000\n",
            "Epoch 10/100\n",
            "1600/1600 [==============================] - 5s 3ms/step - loss: 0.1464 - auc: 0.9856 - accuracy: 0.9504 - cost: 403.6562 - val_loss: 0.1447 - val_auc: 0.9860 - val_accuracy: 0.9514 - val_cost: 394.6250\n",
            "Epoch 11/100\n",
            "1600/1600 [==============================] - 5s 3ms/step - loss: 0.1436 - auc: 0.9860 - accuracy: 0.9506 - cost: 404.0312 - val_loss: 0.1395 - val_auc: 0.9865 - val_accuracy: 0.9534 - val_cost: 383.1250\n",
            "Epoch 12/100\n",
            "1600/1600 [==============================] - 5s 3ms/step - loss: 0.1397 - auc: 0.9867 - accuracy: 0.9531 - cost: 382.3750 - val_loss: 0.1367 - val_auc: 0.9872 - val_accuracy: 0.9555 - val_cost: 370.3750\n",
            "Epoch 13/100\n",
            "1600/1600 [==============================] - 5s 3ms/step - loss: 0.1368 - auc: 0.9873 - accuracy: 0.9543 - cost: 374.2500 - val_loss: 0.1384 - val_auc: 0.9868 - val_accuracy: 0.9546 - val_cost: 367.5000\n",
            "Epoch 14/100\n",
            "1600/1600 [==============================] - 5s 3ms/step - loss: 0.1327 - auc: 0.9878 - accuracy: 0.9558 - cost: 362.8750 - val_loss: 0.1320 - val_auc: 0.9878 - val_accuracy: 0.9570 - val_cost: 346.1250\n",
            "Epoch 15/100\n",
            "1600/1600 [==============================] - 5s 3ms/step - loss: 0.1307 - auc: 0.9881 - accuracy: 0.9564 - cost: 357.2812 - val_loss: 0.1330 - val_auc: 0.9879 - val_accuracy: 0.9581 - val_cost: 329.2500\n",
            "Epoch 16/100\n",
            "1600/1600 [==============================] - 5s 3ms/step - loss: 0.1267 - auc: 0.9887 - accuracy: 0.9580 - cost: 344.0312 - val_loss: 0.1275 - val_auc: 0.9884 - val_accuracy: 0.9598 - val_cost: 326.8750\n",
            "Epoch 17/100\n",
            "1600/1600 [==============================] - 5s 3ms/step - loss: 0.1250 - auc: 0.9889 - accuracy: 0.9585 - cost: 340.6250 - val_loss: 0.1286 - val_auc: 0.9885 - val_accuracy: 0.9582 - val_cost: 346.3750\n",
            "Epoch 18/100\n",
            "1600/1600 [==============================] - 5s 3ms/step - loss: 0.1242 - auc: 0.9890 - accuracy: 0.9597 - cost: 330.8125 - val_loss: 0.1294 - val_auc: 0.9882 - val_accuracy: 0.9584 - val_cost: 329.3750\n",
            "Epoch 19/100\n",
            "1600/1600 [==============================] - 5s 3ms/step - loss: 0.1216 - auc: 0.9892 - accuracy: 0.9603 - cost: 325.7188 - val_loss: 0.1241 - val_auc: 0.9888 - val_accuracy: 0.9616 - val_cost: 312.3750\n",
            "Epoch 20/100\n",
            "1600/1600 [==============================] - 5s 3ms/step - loss: 0.1181 - auc: 0.9898 - accuracy: 0.9610 - cost: 320.4688 - val_loss: 0.1230 - val_auc: 0.9888 - val_accuracy: 0.9618 - val_cost: 303.8750\n",
            "Epoch 21/100\n",
            "1600/1600 [==============================] - 5s 3ms/step - loss: 0.1191 - auc: 0.9896 - accuracy: 0.9622 - cost: 310.5312 - val_loss: 0.1241 - val_auc: 0.9889 - val_accuracy: 0.9617 - val_cost: 306.3750\n",
            "Epoch 22/100\n",
            "1600/1600 [==============================] - 5s 3ms/step - loss: 0.1154 - auc: 0.9903 - accuracy: 0.9626 - cost: 308.4062 - val_loss: 0.1234 - val_auc: 0.9889 - val_accuracy: 0.9615 - val_cost: 306.3750\n",
            "Epoch 23/100\n",
            "1600/1600 [==============================] - 5s 3ms/step - loss: 0.1137 - auc: 0.9904 - accuracy: 0.9633 - cost: 301.8125 - val_loss: 0.1221 - val_auc: 0.9893 - val_accuracy: 0.9624 - val_cost: 299.8750\n",
            "Epoch 24/100\n",
            "1600/1600 [==============================] - 5s 3ms/step - loss: 0.1122 - auc: 0.9906 - accuracy: 0.9642 - cost: 294.0000 - val_loss: 0.1198 - val_auc: 0.9895 - val_accuracy: 0.9631 - val_cost: 301.0000\n",
            "Epoch 25/100\n",
            "1600/1600 [==============================] - 5s 3ms/step - loss: 0.1113 - auc: 0.9907 - accuracy: 0.9648 - cost: 290.6562 - val_loss: 0.1190 - val_auc: 0.9893 - val_accuracy: 0.9628 - val_cost: 302.0000\n",
            "Epoch 26/100\n",
            "1600/1600 [==============================] - 5s 3ms/step - loss: 0.1106 - auc: 0.9909 - accuracy: 0.9648 - cost: 289.5938 - val_loss: 0.1193 - val_auc: 0.9895 - val_accuracy: 0.9639 - val_cost: 291.2500\n",
            "Epoch 27/100\n",
            "1600/1600 [==============================] - 5s 3ms/step - loss: 0.1092 - auc: 0.9909 - accuracy: 0.9648 - cost: 289.7500 - val_loss: 0.1177 - val_auc: 0.9896 - val_accuracy: 0.9641 - val_cost: 296.0000\n",
            "Epoch 28/100\n",
            "1600/1600 [==============================] - 5s 3ms/step - loss: 0.1093 - auc: 0.9910 - accuracy: 0.9651 - cost: 288.0000 - val_loss: 0.1170 - val_auc: 0.9899 - val_accuracy: 0.9660 - val_cost: 274.7500\n",
            "Epoch 29/100\n",
            "1600/1600 [==============================] - 5s 3ms/step - loss: 0.1073 - auc: 0.9912 - accuracy: 0.9661 - cost: 279.7812 - val_loss: 0.1169 - val_auc: 0.9898 - val_accuracy: 0.9649 - val_cost: 278.2500\n",
            "Epoch 30/100\n",
            "1600/1600 [==============================] - 5s 3ms/step - loss: 0.1062 - auc: 0.9913 - accuracy: 0.9666 - cost: 275.6562 - val_loss: 0.1184 - val_auc: 0.9894 - val_accuracy: 0.9645 - val_cost: 294.1250\n",
            "Epoch 31/100\n",
            "1600/1600 [==============================] - 5s 3ms/step - loss: 0.1048 - auc: 0.9915 - accuracy: 0.9666 - cost: 275.8438 - val_loss: 0.1190 - val_auc: 0.9892 - val_accuracy: 0.9652 - val_cost: 289.1250\n",
            "Epoch 32/100\n",
            "1600/1600 [==============================] - 5s 3ms/step - loss: 0.1041 - auc: 0.9916 - accuracy: 0.9677 - cost: 265.9688 - val_loss: 0.1187 - val_auc: 0.9895 - val_accuracy: 0.9642 - val_cost: 303.8750\n",
            "Epoch 33/100\n",
            "1600/1600 [==============================] - 5s 3ms/step - loss: 0.1032 - auc: 0.9917 - accuracy: 0.9676 - cost: 267.6562 - val_loss: 0.1184 - val_auc: 0.9893 - val_accuracy: 0.9648 - val_cost: 278.7500\n",
            "Epoch 34/100\n",
            "1600/1600 [==============================] - 5s 3ms/step - loss: 0.1029 - auc: 0.9916 - accuracy: 0.9680 - cost: 263.7812 - val_loss: 0.1203 - val_auc: 0.9893 - val_accuracy: 0.9642 - val_cost: 284.8750\n",
            "Epoch 35/100\n",
            "1600/1600 [==============================] - 5s 3ms/step - loss: 0.1016 - auc: 0.9919 - accuracy: 0.9678 - cost: 266.4375 - val_loss: 0.1190 - val_auc: 0.9890 - val_accuracy: 0.9654 - val_cost: 280.3750\n",
            "Epoch 36/100\n",
            "1600/1600 [==============================] - 5s 3ms/step - loss: 0.1016 - auc: 0.9919 - accuracy: 0.9682 - cost: 262.5312 - val_loss: 0.1174 - val_auc: 0.9896 - val_accuracy: 0.9655 - val_cost: 279.6250\n",
            "Epoch 37/100\n",
            "1600/1600 [==============================] - 5s 3ms/step - loss: 0.1004 - auc: 0.9921 - accuracy: 0.9684 - cost: 261.6562 - val_loss: 0.1141 - val_auc: 0.9899 - val_accuracy: 0.9661 - val_cost: 279.1250\n",
            "Epoch 38/100\n",
            "1600/1600 [==============================] - 5s 3ms/step - loss: 0.1002 - auc: 0.9920 - accuracy: 0.9692 - cost: 255.0312 - val_loss: 0.1152 - val_auc: 0.9900 - val_accuracy: 0.9664 - val_cost: 270.2500\n",
            "Epoch 39/100\n",
            "1600/1600 [==============================] - 5s 3ms/step - loss: 0.0986 - auc: 0.9922 - accuracy: 0.9696 - cost: 251.5312 - val_loss: 0.1161 - val_auc: 0.9895 - val_accuracy: 0.9666 - val_cost: 272.1250\n",
            "Epoch 40/100\n",
            "1600/1600 [==============================] - 5s 3ms/step - loss: 0.0985 - auc: 0.9922 - accuracy: 0.9696 - cost: 251.1250 - val_loss: 0.1175 - val_auc: 0.9897 - val_accuracy: 0.9664 - val_cost: 266.7500\n",
            "Epoch 41/100\n",
            "1600/1600 [==============================] - 5s 3ms/step - loss: 0.0989 - auc: 0.9921 - accuracy: 0.9697 - cost: 250.8438 - val_loss: 0.1159 - val_auc: 0.9898 - val_accuracy: 0.9661 - val_cost: 275.6250\n",
            "Epoch 42/100\n",
            "1600/1600 [==============================] - 5s 3ms/step - loss: 0.0978 - auc: 0.9923 - accuracy: 0.9694 - cost: 252.6875 - val_loss: 0.1143 - val_auc: 0.9902 - val_accuracy: 0.9659 - val_cost: 272.8750\n",
            "Epoch 43/100\n",
            "1600/1600 [==============================] - 5s 3ms/step - loss: 0.0965 - auc: 0.9924 - accuracy: 0.9709 - cost: 240.2812 - val_loss: 0.1170 - val_auc: 0.9898 - val_accuracy: 0.9664 - val_cost: 274.3750\n",
            "Epoch 44/100\n",
            "1600/1600 [==============================] - 5s 3ms/step - loss: 0.0957 - auc: 0.9925 - accuracy: 0.9702 - cost: 246.5000 - val_loss: 0.1123 - val_auc: 0.9902 - val_accuracy: 0.9670 - val_cost: 270.7500\n",
            "Epoch 45/100\n",
            "1600/1600 [==============================] - 5s 3ms/step - loss: 0.0964 - auc: 0.9925 - accuracy: 0.9702 - cost: 246.2500 - val_loss: 0.1128 - val_auc: 0.9903 - val_accuracy: 0.9673 - val_cost: 263.7500\n",
            "Epoch 46/100\n",
            "1600/1600 [==============================] - 5s 3ms/step - loss: 0.0956 - auc: 0.9926 - accuracy: 0.9709 - cost: 239.6250 - val_loss: 0.1139 - val_auc: 0.9901 - val_accuracy: 0.9671 - val_cost: 272.3750\n",
            "Epoch 47/100\n",
            "1600/1600 [==============================] - 5s 3ms/step - loss: 0.0950 - auc: 0.9926 - accuracy: 0.9708 - cost: 241.8438 - val_loss: 0.1146 - val_auc: 0.9899 - val_accuracy: 0.9679 - val_cost: 261.2500\n",
            "Epoch 48/100\n",
            "1600/1600 [==============================] - 5s 3ms/step - loss: 0.0950 - auc: 0.9926 - accuracy: 0.9713 - cost: 238.0000 - val_loss: 0.1150 - val_auc: 0.9901 - val_accuracy: 0.9672 - val_cost: 261.0000\n",
            "Epoch 49/100\n",
            "1600/1600 [==============================] - 5s 3ms/step - loss: 0.0941 - auc: 0.9927 - accuracy: 0.9710 - cost: 239.7188 - val_loss: 0.1132 - val_auc: 0.9901 - val_accuracy: 0.9668 - val_cost: 273.3750\n",
            "Epoch 50/100\n",
            "1600/1600 [==============================] - 5s 3ms/step - loss: 0.0945 - auc: 0.9927 - accuracy: 0.9713 - cost: 237.5625 - val_loss: 0.1153 - val_auc: 0.9901 - val_accuracy: 0.9663 - val_cost: 269.5000\n",
            "Epoch 51/100\n",
            "1600/1600 [==============================] - 5s 3ms/step - loss: 0.0915 - auc: 0.9930 - accuracy: 0.9725 - cost: 227.5938 - val_loss: 0.1142 - val_auc: 0.9902 - val_accuracy: 0.9675 - val_cost: 261.6250\n",
            "Epoch 52/100\n",
            "1600/1600 [==============================] - 5s 3ms/step - loss: 0.0920 - auc: 0.9930 - accuracy: 0.9720 - cost: 231.0312 - val_loss: 0.1151 - val_auc: 0.9897 - val_accuracy: 0.9667 - val_cost: 274.6250\n",
            "Epoch 53/100\n",
            "1600/1600 [==============================] - 5s 3ms/step - loss: 0.0934 - auc: 0.9928 - accuracy: 0.9714 - cost: 236.8438 - val_loss: 0.1132 - val_auc: 0.9900 - val_accuracy: 0.9674 - val_cost: 268.8750\n",
            "Epoch 54/100\n",
            "1600/1600 [==============================] - 5s 3ms/step - loss: 0.0921 - auc: 0.9930 - accuracy: 0.9718 - cost: 233.2812 - val_loss: 0.1117 - val_auc: 0.9905 - val_accuracy: 0.9672 - val_cost: 271.2500\n",
            "Epoch 55/100\n",
            "1600/1600 [==============================] - 5s 3ms/step - loss: 0.0917 - auc: 0.9930 - accuracy: 0.9721 - cost: 231.0312 - val_loss: 0.1132 - val_auc: 0.9903 - val_accuracy: 0.9672 - val_cost: 266.5000\n",
            "Epoch 56/100\n",
            "1600/1600 [==============================] - 5s 3ms/step - loss: 0.0909 - auc: 0.9931 - accuracy: 0.9721 - cost: 231.3438 - val_loss: 0.1104 - val_auc: 0.9905 - val_accuracy: 0.9686 - val_cost: 253.2500\n",
            "Epoch 57/100\n",
            "1600/1600 [==============================] - 5s 3ms/step - loss: 0.0908 - auc: 0.9932 - accuracy: 0.9725 - cost: 227.5000 - val_loss: 0.1129 - val_auc: 0.9902 - val_accuracy: 0.9683 - val_cost: 256.5000\n",
            "Epoch 58/100\n",
            "1600/1600 [==============================] - 5s 3ms/step - loss: 0.0906 - auc: 0.9931 - accuracy: 0.9731 - cost: 222.8438 - val_loss: 0.1115 - val_auc: 0.9902 - val_accuracy: 0.9690 - val_cost: 252.5000\n",
            "Epoch 59/100\n",
            "1600/1600 [==============================] - 5s 3ms/step - loss: 0.0896 - auc: 0.9932 - accuracy: 0.9728 - cost: 225.5625 - val_loss: 0.1137 - val_auc: 0.9902 - val_accuracy: 0.9676 - val_cost: 268.8750\n",
            "Epoch 60/100\n",
            "1600/1600 [==============================] - 5s 3ms/step - loss: 0.0896 - auc: 0.9932 - accuracy: 0.9726 - cost: 226.7500 - val_loss: 0.1133 - val_auc: 0.9901 - val_accuracy: 0.9677 - val_cost: 261.6250\n",
            "Epoch 61/100\n",
            "1600/1600 [==============================] - 5s 3ms/step - loss: 0.0892 - auc: 0.9933 - accuracy: 0.9729 - cost: 224.9062 - val_loss: 0.1171 - val_auc: 0.9900 - val_accuracy: 0.9676 - val_cost: 261.0000\n",
            "Epoch 62/100\n",
            "1600/1600 [==============================] - 5s 3ms/step - loss: 0.0898 - auc: 0.9932 - accuracy: 0.9727 - cost: 225.7188 - val_loss: 0.1138 - val_auc: 0.9903 - val_accuracy: 0.9677 - val_cost: 258.6250\n",
            "Epoch 63/100\n",
            "1600/1600 [==============================] - 5s 3ms/step - loss: 0.0879 - auc: 0.9935 - accuracy: 0.9737 - cost: 218.3750 - val_loss: 0.1145 - val_auc: 0.9899 - val_accuracy: 0.9675 - val_cost: 263.3750\n",
            "Epoch 64/100\n",
            "1600/1600 [==============================] - 5s 3ms/step - loss: 0.0873 - auc: 0.9934 - accuracy: 0.9737 - cost: 217.1250 - val_loss: 0.1131 - val_auc: 0.9903 - val_accuracy: 0.9675 - val_cost: 267.8750\n",
            "Epoch 65/100\n",
            "1600/1600 [==============================] - 5s 3ms/step - loss: 0.0884 - auc: 0.9934 - accuracy: 0.9736 - cost: 219.0312 - val_loss: 0.1146 - val_auc: 0.9899 - val_accuracy: 0.9675 - val_cost: 266.6250\n",
            "Epoch 66/100\n",
            "1600/1600 [==============================] - 5s 3ms/step - loss: 0.0875 - auc: 0.9933 - accuracy: 0.9735 - cost: 219.5938 - val_loss: 0.1155 - val_auc: 0.9898 - val_accuracy: 0.9673 - val_cost: 266.8750\n",
            "Epoch 67/100\n",
            "1600/1600 [==============================] - 5s 3ms/step - loss: 0.0883 - auc: 0.9934 - accuracy: 0.9730 - cost: 223.5625 - val_loss: 0.1130 - val_auc: 0.9905 - val_accuracy: 0.9691 - val_cost: 242.1250\n",
            "Epoch 68/100\n",
            "1600/1600 [==============================] - 5s 3ms/step - loss: 0.0871 - auc: 0.9935 - accuracy: 0.9738 - cost: 217.5312 - val_loss: 0.1124 - val_auc: 0.9904 - val_accuracy: 0.9682 - val_cost: 264.2500\n",
            "Epoch 69/100\n",
            "1600/1600 [==============================] - 5s 3ms/step - loss: 0.0865 - auc: 0.9937 - accuracy: 0.9737 - cost: 217.6562 - val_loss: 0.1141 - val_auc: 0.9901 - val_accuracy: 0.9677 - val_cost: 262.7500\n",
            "Epoch 70/100\n",
            "1600/1600 [==============================] - 5s 3ms/step - loss: 0.0869 - auc: 0.9935 - accuracy: 0.9739 - cost: 216.4062 - val_loss: 0.1141 - val_auc: 0.9899 - val_accuracy: 0.9686 - val_cost: 254.5000\n",
            "Epoch 71/100\n",
            "1600/1600 [==============================] - 5s 3ms/step - loss: 0.0870 - auc: 0.9934 - accuracy: 0.9740 - cost: 215.6562 - val_loss: 0.1177 - val_auc: 0.9897 - val_accuracy: 0.9670 - val_cost: 258.6250\n",
            "Epoch 72/100\n",
            "1600/1600 [==============================] - 5s 3ms/step - loss: 0.0856 - auc: 0.9937 - accuracy: 0.9743 - cost: 212.4375 - val_loss: 0.1109 - val_auc: 0.9902 - val_accuracy: 0.9695 - val_cost: 248.2500\n",
            "Epoch 73/100\n",
            "1600/1600 [==============================] - 5s 3ms/step - loss: 0.0847 - auc: 0.9937 - accuracy: 0.9747 - cost: 209.5938 - val_loss: 0.1161 - val_auc: 0.9900 - val_accuracy: 0.9689 - val_cost: 248.5000\n",
            "Epoch 74/100\n",
            "1600/1600 [==============================] - 5s 3ms/step - loss: 0.0869 - auc: 0.9935 - accuracy: 0.9737 - cost: 218.1562 - val_loss: 0.1132 - val_auc: 0.9900 - val_accuracy: 0.9688 - val_cost: 250.1250\n",
            "Epoch 75/100\n",
            "1600/1600 [==============================] - 5s 3ms/step - loss: 0.0859 - auc: 0.9938 - accuracy: 0.9740 - cost: 216.2188 - val_loss: 0.1144 - val_auc: 0.9899 - val_accuracy: 0.9685 - val_cost: 255.5000\n",
            "Epoch 76/100\n",
            "1600/1600 [==============================] - 5s 3ms/step - loss: 0.0854 - auc: 0.9938 - accuracy: 0.9738 - cost: 217.7188 - val_loss: 0.1137 - val_auc: 0.9900 - val_accuracy: 0.9688 - val_cost: 253.6250\n",
            "Epoch 77/100\n",
            "1600/1600 [==============================] - 5s 3ms/step - loss: 0.0848 - auc: 0.9937 - accuracy: 0.9747 - cost: 209.6250 - val_loss: 0.1154 - val_auc: 0.9899 - val_accuracy: 0.9699 - val_cost: 245.0000\n",
            "1000/1000 [==============================] - 1s 961us/step\n",
            "fold train/predict time: 0:06:00.220033\n",
            "x_train shape: (128000, 67)\n",
            "Epoch 1/100\n",
            "1600/1600 [==============================] - 6s 3ms/step - loss: 0.3810 - auc: 0.9059 - accuracy: 0.8291 - cost: 1406.3750 - val_loss: 0.2823 - val_auc: 0.9494 - val_accuracy: 0.8826 - val_cost: 947.8750\n",
            "Epoch 2/100\n",
            "1600/1600 [==============================] - 5s 3ms/step - loss: 0.2630 - auc: 0.9564 - accuracy: 0.8957 - cost: 844.9062 - val_loss: 0.2272 - val_auc: 0.9672 - val_accuracy: 0.9105 - val_cost: 726.5000\n",
            "Epoch 3/100\n",
            "1600/1600 [==============================] - 5s 3ms/step - loss: 0.2208 - auc: 0.9691 - accuracy: 0.9151 - cost: 691.2188 - val_loss: 0.1969 - val_auc: 0.9754 - val_accuracy: 0.9245 - val_cost: 627.0000\n",
            "Epoch 4/100\n",
            "1600/1600 [==============================] - 5s 3ms/step - loss: 0.1946 - auc: 0.9758 - accuracy: 0.9292 - cost: 577.7500 - val_loss: 0.1786 - val_auc: 0.9799 - val_accuracy: 0.9334 - val_cost: 558.7500\n",
            "Epoch 5/100\n",
            "1600/1600 [==============================] - 5s 3ms/step - loss: 0.1772 - auc: 0.9795 - accuracy: 0.9362 - cost: 520.8125 - val_loss: 0.1683 - val_auc: 0.9817 - val_accuracy: 0.9400 - val_cost: 476.5000\n",
            "Epoch 6/100\n",
            "1600/1600 [==============================] - 5s 3ms/step - loss: 0.1670 - auc: 0.9816 - accuracy: 0.9402 - cost: 487.4688 - val_loss: 0.1602 - val_auc: 0.9833 - val_accuracy: 0.9430 - val_cost: 483.3750\n",
            "Epoch 7/100\n",
            "1600/1600 [==============================] - 5s 3ms/step - loss: 0.1587 - auc: 0.9832 - accuracy: 0.9443 - cost: 454.7500 - val_loss: 0.1512 - val_auc: 0.9847 - val_accuracy: 0.9475 - val_cost: 415.1250\n",
            "Epoch 8/100\n",
            "1600/1600 [==============================] - 5s 3ms/step - loss: 0.1527 - auc: 0.9843 - accuracy: 0.9472 - cost: 431.0312 - val_loss: 0.1444 - val_auc: 0.9856 - val_accuracy: 0.9507 - val_cost: 396.1250\n",
            "Epoch 9/100\n",
            "1600/1600 [==============================] - 5s 3ms/step - loss: 0.1485 - auc: 0.9851 - accuracy: 0.9488 - cost: 417.2188 - val_loss: 0.1405 - val_auc: 0.9862 - val_accuracy: 0.9531 - val_cost: 379.2500\n",
            "Epoch 10/100\n",
            "1600/1600 [==============================] - 5s 3ms/step - loss: 0.1418 - auc: 0.9862 - accuracy: 0.9519 - cost: 393.9688 - val_loss: 0.1382 - val_auc: 0.9866 - val_accuracy: 0.9534 - val_cost: 386.1250\n",
            "Epoch 11/100\n",
            "1600/1600 [==============================] - 5s 3ms/step - loss: 0.1388 - auc: 0.9866 - accuracy: 0.9538 - cost: 377.5000 - val_loss: 0.1347 - val_auc: 0.9870 - val_accuracy: 0.9551 - val_cost: 370.1250\n",
            "Epoch 12/100\n",
            "1600/1600 [==============================] - 5s 3ms/step - loss: 0.1335 - auc: 0.9875 - accuracy: 0.9552 - cost: 366.1562 - val_loss: 0.1324 - val_auc: 0.9875 - val_accuracy: 0.9572 - val_cost: 344.5000\n",
            "Epoch 13/100\n",
            "1600/1600 [==============================] - 5s 3ms/step - loss: 0.1310 - auc: 0.9878 - accuracy: 0.9567 - cost: 352.4688 - val_loss: 0.1320 - val_auc: 0.9876 - val_accuracy: 0.9571 - val_cost: 341.6250\n",
            "Epoch 14/100\n",
            "1600/1600 [==============================] - 5s 3ms/step - loss: 0.1275 - auc: 0.9885 - accuracy: 0.9584 - cost: 340.8125 - val_loss: 0.1325 - val_auc: 0.9875 - val_accuracy: 0.9571 - val_cost: 355.2500\n",
            "Epoch 15/100\n",
            "1600/1600 [==============================] - 5s 3ms/step - loss: 0.1253 - auc: 0.9888 - accuracy: 0.9592 - cost: 332.9375 - val_loss: 0.1287 - val_auc: 0.9881 - val_accuracy: 0.9588 - val_cost: 330.5000\n",
            "Epoch 16/100\n",
            "1600/1600 [==============================] - 5s 3ms/step - loss: 0.1228 - auc: 0.9890 - accuracy: 0.9600 - cost: 326.9062 - val_loss: 0.1276 - val_auc: 0.9882 - val_accuracy: 0.9590 - val_cost: 336.0000\n",
            "Epoch 17/100\n",
            "1600/1600 [==============================] - 5s 3ms/step - loss: 0.1215 - auc: 0.9892 - accuracy: 0.9609 - cost: 320.1562 - val_loss: 0.1257 - val_auc: 0.9884 - val_accuracy: 0.9607 - val_cost: 322.6250\n",
            "Epoch 18/100\n",
            "1600/1600 [==============================] - 5s 3ms/step - loss: 0.1198 - auc: 0.9894 - accuracy: 0.9618 - cost: 312.8438 - val_loss: 0.1270 - val_auc: 0.9882 - val_accuracy: 0.9605 - val_cost: 317.2500\n",
            "Epoch 19/100\n",
            "1600/1600 [==============================] - 5s 3ms/step - loss: 0.1185 - auc: 0.9896 - accuracy: 0.9626 - cost: 305.7812 - val_loss: 0.1251 - val_auc: 0.9887 - val_accuracy: 0.9619 - val_cost: 304.5000\n",
            "Epoch 20/100\n",
            "1600/1600 [==============================] - 5s 3ms/step - loss: 0.1154 - auc: 0.9900 - accuracy: 0.9632 - cost: 300.9375 - val_loss: 0.1220 - val_auc: 0.9889 - val_accuracy: 0.9625 - val_cost: 303.3750\n",
            "Epoch 21/100\n",
            "1600/1600 [==============================] - 5s 3ms/step - loss: 0.1149 - auc: 0.9901 - accuracy: 0.9638 - cost: 296.2188 - val_loss: 0.1212 - val_auc: 0.9886 - val_accuracy: 0.9625 - val_cost: 301.2500\n",
            "Epoch 22/100\n",
            "1600/1600 [==============================] - 5s 3ms/step - loss: 0.1141 - auc: 0.9902 - accuracy: 0.9638 - cost: 295.6250 - val_loss: 0.1219 - val_auc: 0.9887 - val_accuracy: 0.9622 - val_cost: 309.3750\n",
            "Epoch 23/100\n",
            "1600/1600 [==============================] - 5s 3ms/step - loss: 0.1126 - auc: 0.9904 - accuracy: 0.9650 - cost: 287.2500 - val_loss: 0.1200 - val_auc: 0.9890 - val_accuracy: 0.9628 - val_cost: 299.7500\n",
            "Epoch 24/100\n",
            "1600/1600 [==============================] - 5s 3ms/step - loss: 0.1105 - auc: 0.9907 - accuracy: 0.9658 - cost: 280.2812 - val_loss: 0.1202 - val_auc: 0.9889 - val_accuracy: 0.9641 - val_cost: 291.3750\n",
            "Epoch 25/100\n",
            "1600/1600 [==============================] - 6s 4ms/step - loss: 0.1103 - auc: 0.9906 - accuracy: 0.9658 - cost: 280.0312 - val_loss: 0.1172 - val_auc: 0.9895 - val_accuracy: 0.9645 - val_cost: 289.7500\n",
            "Epoch 26/100\n",
            "1600/1600 [==============================] - 8s 5ms/step - loss: 0.1086 - auc: 0.9909 - accuracy: 0.9662 - cost: 276.7188 - val_loss: 0.1153 - val_auc: 0.9897 - val_accuracy: 0.9654 - val_cost: 285.1250\n",
            "Epoch 27/100\n",
            "1600/1600 [==============================] - 5s 3ms/step - loss: 0.1063 - auc: 0.9911 - accuracy: 0.9667 - cost: 273.2188 - val_loss: 0.1174 - val_auc: 0.9893 - val_accuracy: 0.9654 - val_cost: 286.1250\n",
            "Epoch 28/100\n",
            "1600/1600 [==============================] - 5s 3ms/step - loss: 0.1045 - auc: 0.9914 - accuracy: 0.9680 - cost: 262.9375 - val_loss: 0.1201 - val_auc: 0.9888 - val_accuracy: 0.9645 - val_cost: 287.2500\n",
            "Epoch 29/100\n",
            "1600/1600 [==============================] - 5s 3ms/step - loss: 0.1048 - auc: 0.9914 - accuracy: 0.9676 - cost: 266.3125 - val_loss: 0.1164 - val_auc: 0.9893 - val_accuracy: 0.9654 - val_cost: 278.6250\n",
            "Epoch 30/100\n",
            "1600/1600 [==============================] - 5s 3ms/step - loss: 0.1035 - auc: 0.9916 - accuracy: 0.9679 - cost: 262.6562 - val_loss: 0.1137 - val_auc: 0.9899 - val_accuracy: 0.9664 - val_cost: 268.8750\n",
            "Epoch 31/100\n",
            "1600/1600 [==============================] - 5s 3ms/step - loss: 0.1028 - auc: 0.9917 - accuracy: 0.9685 - cost: 257.3438 - val_loss: 0.1156 - val_auc: 0.9893 - val_accuracy: 0.9658 - val_cost: 283.0000\n",
            "Epoch 32/100\n",
            "1600/1600 [==============================] - 6s 4ms/step - loss: 0.1032 - auc: 0.9916 - accuracy: 0.9685 - cost: 258.5625 - val_loss: 0.1154 - val_auc: 0.9894 - val_accuracy: 0.9655 - val_cost: 277.8750\n",
            "Epoch 33/100\n",
            "1600/1600 [==============================] - 5s 3ms/step - loss: 0.1013 - auc: 0.9919 - accuracy: 0.9692 - cost: 252.1875 - val_loss: 0.1142 - val_auc: 0.9899 - val_accuracy: 0.9665 - val_cost: 264.2500\n",
            "Epoch 34/100\n",
            "1600/1600 [==============================] - 5s 3ms/step - loss: 0.1007 - auc: 0.9919 - accuracy: 0.9692 - cost: 252.7812 - val_loss: 0.1156 - val_auc: 0.9896 - val_accuracy: 0.9655 - val_cost: 278.0000\n",
            "Epoch 35/100\n",
            "1600/1600 [==============================] - 5s 3ms/step - loss: 0.1008 - auc: 0.9919 - accuracy: 0.9691 - cost: 254.0938 - val_loss: 0.1162 - val_auc: 0.9896 - val_accuracy: 0.9657 - val_cost: 271.6250\n",
            "Epoch 36/100\n",
            "1600/1600 [==============================] - 5s 3ms/step - loss: 0.1000 - auc: 0.9920 - accuracy: 0.9704 - cost: 243.0312 - val_loss: 0.1147 - val_auc: 0.9898 - val_accuracy: 0.9655 - val_cost: 282.2500\n",
            "Epoch 37/100\n",
            "1600/1600 [==============================] - 5s 3ms/step - loss: 0.0980 - auc: 0.9923 - accuracy: 0.9699 - cost: 247.5625 - val_loss: 0.1141 - val_auc: 0.9898 - val_accuracy: 0.9666 - val_cost: 268.3750\n",
            "Epoch 38/100\n",
            "1600/1600 [==============================] - 5s 3ms/step - loss: 0.0991 - auc: 0.9922 - accuracy: 0.9696 - cost: 249.5938 - val_loss: 0.1140 - val_auc: 0.9896 - val_accuracy: 0.9655 - val_cost: 277.6250\n",
            "Epoch 39/100\n",
            "1600/1600 [==============================] - 5s 3ms/step - loss: 0.0970 - auc: 0.9922 - accuracy: 0.9706 - cost: 241.8125 - val_loss: 0.1139 - val_auc: 0.9899 - val_accuracy: 0.9669 - val_cost: 267.2500\n",
            "Epoch 40/100\n",
            "1600/1600 [==============================] - 5s 3ms/step - loss: 0.0969 - auc: 0.9923 - accuracy: 0.9710 - cost: 238.3750 - val_loss: 0.1122 - val_auc: 0.9899 - val_accuracy: 0.9668 - val_cost: 269.7500\n",
            "Epoch 41/100\n",
            "1600/1600 [==============================] - 5s 3ms/step - loss: 0.0968 - auc: 0.9924 - accuracy: 0.9705 - cost: 242.0625 - val_loss: 0.1138 - val_auc: 0.9895 - val_accuracy: 0.9663 - val_cost: 269.5000\n",
            "Epoch 42/100\n",
            "1600/1600 [==============================] - 5s 3ms/step - loss: 0.0976 - auc: 0.9923 - accuracy: 0.9704 - cost: 243.1875 - val_loss: 0.1113 - val_auc: 0.9900 - val_accuracy: 0.9672 - val_cost: 265.3750\n",
            "Epoch 43/100\n",
            "1600/1600 [==============================] - 5s 3ms/step - loss: 0.0959 - auc: 0.9925 - accuracy: 0.9711 - cost: 237.1250 - val_loss: 0.1130 - val_auc: 0.9898 - val_accuracy: 0.9664 - val_cost: 267.7500\n",
            "Epoch 44/100\n",
            "1600/1600 [==============================] - 5s 3ms/step - loss: 0.0959 - auc: 0.9925 - accuracy: 0.9712 - cost: 236.4688 - val_loss: 0.1149 - val_auc: 0.9897 - val_accuracy: 0.9657 - val_cost: 271.6250\n",
            "Epoch 45/100\n",
            "1600/1600 [==============================] - 5s 3ms/step - loss: 0.0959 - auc: 0.9924 - accuracy: 0.9710 - cost: 238.9375 - val_loss: 0.1144 - val_auc: 0.9896 - val_accuracy: 0.9656 - val_cost: 274.7500\n",
            "Epoch 46/100\n",
            "1600/1600 [==============================] - 5s 3ms/step - loss: 0.0948 - auc: 0.9924 - accuracy: 0.9717 - cost: 232.8438 - val_loss: 0.1128 - val_auc: 0.9900 - val_accuracy: 0.9669 - val_cost: 268.3750\n",
            "Epoch 47/100\n",
            "1600/1600 [==============================] - 5s 3ms/step - loss: 0.0950 - auc: 0.9925 - accuracy: 0.9718 - cost: 231.6250 - val_loss: 0.1122 - val_auc: 0.9904 - val_accuracy: 0.9663 - val_cost: 272.0000\n",
            "Epoch 48/100\n",
            "1600/1600 [==============================] - 5s 3ms/step - loss: 0.0942 - auc: 0.9927 - accuracy: 0.9716 - cost: 234.2500 - val_loss: 0.1134 - val_auc: 0.9899 - val_accuracy: 0.9677 - val_cost: 264.2500\n",
            "Epoch 49/100\n",
            "1600/1600 [==============================] - 5s 3ms/step - loss: 0.0934 - auc: 0.9929 - accuracy: 0.9711 - cost: 237.6250 - val_loss: 0.1130 - val_auc: 0.9900 - val_accuracy: 0.9671 - val_cost: 261.3750\n",
            "Epoch 50/100\n",
            "1600/1600 [==============================] - 5s 3ms/step - loss: 0.0919 - auc: 0.9931 - accuracy: 0.9725 - cost: 226.2500 - val_loss: 0.1146 - val_auc: 0.9899 - val_accuracy: 0.9671 - val_cost: 273.5000\n",
            "Epoch 51/100\n",
            "1600/1600 [==============================] - 5s 3ms/step - loss: 0.0925 - auc: 0.9929 - accuracy: 0.9722 - cost: 229.4062 - val_loss: 0.1124 - val_auc: 0.9899 - val_accuracy: 0.9673 - val_cost: 264.8750\n",
            "Epoch 52/100\n",
            "1600/1600 [==============================] - 5s 3ms/step - loss: 0.0914 - auc: 0.9930 - accuracy: 0.9720 - cost: 229.8438 - val_loss: 0.1144 - val_auc: 0.9895 - val_accuracy: 0.9669 - val_cost: 274.7500\n",
            "Epoch 53/100\n",
            "1600/1600 [==============================] - 5s 3ms/step - loss: 0.0922 - auc: 0.9930 - accuracy: 0.9721 - cost: 229.5938 - val_loss: 0.1140 - val_auc: 0.9898 - val_accuracy: 0.9672 - val_cost: 263.2500\n",
            "Epoch 54/100\n",
            "1600/1600 [==============================] - 5s 3ms/step - loss: 0.0906 - auc: 0.9931 - accuracy: 0.9728 - cost: 224.0000 - val_loss: 0.1163 - val_auc: 0.9897 - val_accuracy: 0.9654 - val_cost: 291.1250\n",
            "Epoch 55/100\n",
            "1600/1600 [==============================] - 5s 3ms/step - loss: 0.0904 - auc: 0.9931 - accuracy: 0.9727 - cost: 225.1562 - val_loss: 0.1165 - val_auc: 0.9897 - val_accuracy: 0.9668 - val_cost: 264.0000\n",
            "Epoch 56/100\n",
            "1600/1600 [==============================] - 5s 3ms/step - loss: 0.0893 - auc: 0.9933 - accuracy: 0.9732 - cost: 220.6562 - val_loss: 0.1125 - val_auc: 0.9899 - val_accuracy: 0.9664 - val_cost: 272.3750\n",
            "Epoch 57/100\n",
            "1600/1600 [==============================] - 5s 3ms/step - loss: 0.0918 - auc: 0.9930 - accuracy: 0.9720 - cost: 230.6875 - val_loss: 0.1140 - val_auc: 0.9896 - val_accuracy: 0.9672 - val_cost: 260.6250\n",
            "Epoch 58/100\n",
            "1600/1600 [==============================] - 5s 3ms/step - loss: 0.0882 - auc: 0.9934 - accuracy: 0.9734 - cost: 219.5625 - val_loss: 0.1126 - val_auc: 0.9899 - val_accuracy: 0.9686 - val_cost: 262.1250\n",
            "Epoch 59/100\n",
            "1600/1600 [==============================] - 5s 3ms/step - loss: 0.0888 - auc: 0.9934 - accuracy: 0.9734 - cost: 219.8125 - val_loss: 0.1152 - val_auc: 0.9899 - val_accuracy: 0.9666 - val_cost: 269.0000\n",
            "Epoch 60/100\n",
            "1600/1600 [==============================] - 5s 3ms/step - loss: 0.0890 - auc: 0.9933 - accuracy: 0.9727 - cost: 224.7812 - val_loss: 0.1141 - val_auc: 0.9898 - val_accuracy: 0.9675 - val_cost: 266.7500\n",
            "Epoch 61/100\n",
            "1600/1600 [==============================] - 5s 3ms/step - loss: 0.0894 - auc: 0.9932 - accuracy: 0.9735 - cost: 218.9062 - val_loss: 0.1130 - val_auc: 0.9898 - val_accuracy: 0.9672 - val_cost: 274.6250\n",
            "Epoch 62/100\n",
            "1600/1600 [==============================] - 5s 3ms/step - loss: 0.0881 - auc: 0.9934 - accuracy: 0.9736 - cost: 217.9688 - val_loss: 0.1123 - val_auc: 0.9899 - val_accuracy: 0.9672 - val_cost: 267.0000\n",
            "Epoch 63/100\n",
            "1600/1600 [==============================] - 5s 3ms/step - loss: 0.0881 - auc: 0.9935 - accuracy: 0.9734 - cost: 219.0625 - val_loss: 0.1115 - val_auc: 0.9904 - val_accuracy: 0.9675 - val_cost: 268.6250\n",
            "Epoch 64/100\n",
            "1600/1600 [==============================] - 5s 3ms/step - loss: 0.0881 - auc: 0.9933 - accuracy: 0.9736 - cost: 217.8125 - val_loss: 0.1108 - val_auc: 0.9902 - val_accuracy: 0.9677 - val_cost: 264.5000\n",
            "Epoch 65/100\n",
            "1600/1600 [==============================] - 5s 3ms/step - loss: 0.0877 - auc: 0.9934 - accuracy: 0.9742 - cost: 213.0000 - val_loss: 0.1128 - val_auc: 0.9900 - val_accuracy: 0.9671 - val_cost: 259.3750\n",
            "Epoch 66/100\n",
            "1600/1600 [==============================] - 5s 3ms/step - loss: 0.0872 - auc: 0.9935 - accuracy: 0.9737 - cost: 216.1875 - val_loss: 0.1132 - val_auc: 0.9900 - val_accuracy: 0.9680 - val_cost: 249.3750\n",
            "Epoch 67/100\n",
            "1600/1600 [==============================] - 5s 3ms/step - loss: 0.0865 - auc: 0.9938 - accuracy: 0.9736 - cost: 218.0938 - val_loss: 0.1141 - val_auc: 0.9900 - val_accuracy: 0.9676 - val_cost: 256.3750\n",
            "Epoch 68/100\n",
            "1600/1600 [==============================] - 5s 3ms/step - loss: 0.0877 - auc: 0.9935 - accuracy: 0.9739 - cost: 215.6250 - val_loss: 0.1130 - val_auc: 0.9902 - val_accuracy: 0.9682 - val_cost: 256.3750\n",
            "Epoch 69/100\n",
            "1600/1600 [==============================] - 5s 3ms/step - loss: 0.0861 - auc: 0.9936 - accuracy: 0.9743 - cost: 212.6250 - val_loss: 0.1152 - val_auc: 0.9901 - val_accuracy: 0.9675 - val_cost: 263.7500\n",
            "Epoch 70/100\n",
            "1600/1600 [==============================] - 5s 3ms/step - loss: 0.0868 - auc: 0.9935 - accuracy: 0.9744 - cost: 211.7500 - val_loss: 0.1124 - val_auc: 0.9900 - val_accuracy: 0.9680 - val_cost: 259.7500\n",
            "Epoch 71/100\n",
            "1600/1600 [==============================] - 5s 3ms/step - loss: 0.0857 - auc: 0.9937 - accuracy: 0.9744 - cost: 209.8750 - val_loss: 0.1140 - val_auc: 0.9899 - val_accuracy: 0.9684 - val_cost: 253.0000\n",
            "Epoch 72/100\n",
            "1600/1600 [==============================] - 5s 3ms/step - loss: 0.0852 - auc: 0.9937 - accuracy: 0.9745 - cost: 210.0312 - val_loss: 0.1154 - val_auc: 0.9897 - val_accuracy: 0.9673 - val_cost: 260.3750\n",
            "Epoch 73/100\n",
            "1600/1600 [==============================] - 5s 3ms/step - loss: 0.0862 - auc: 0.9936 - accuracy: 0.9749 - cost: 207.6250 - val_loss: 0.1109 - val_auc: 0.9903 - val_accuracy: 0.9683 - val_cost: 255.2500\n",
            "Epoch 74/100\n",
            "1600/1600 [==============================] - 5s 3ms/step - loss: 0.0850 - auc: 0.9937 - accuracy: 0.9748 - cost: 208.2500 - val_loss: 0.1129 - val_auc: 0.9899 - val_accuracy: 0.9677 - val_cost: 258.1250\n",
            "Epoch 75/100\n",
            "1600/1600 [==============================] - 5s 3ms/step - loss: 0.0852 - auc: 0.9938 - accuracy: 0.9751 - cost: 205.1250 - val_loss: 0.1112 - val_auc: 0.9903 - val_accuracy: 0.9685 - val_cost: 253.0000\n",
            "Epoch 76/100\n",
            "1600/1600 [==============================] - 5s 3ms/step - loss: 0.0847 - auc: 0.9937 - accuracy: 0.9746 - cost: 209.0312 - val_loss: 0.1118 - val_auc: 0.9901 - val_accuracy: 0.9689 - val_cost: 249.5000\n",
            "1000/1000 [==============================] - 1s 967us/step\n",
            "fold train/predict time: 0:06:12.088590\n",
            "x_train shape: (128000, 67)\n",
            "Epoch 1/100\n",
            "1600/1600 [==============================] - 6s 3ms/step - loss: 0.3786 - auc: 0.9072 - accuracy: 0.8287 - cost: 1412.4375 - val_loss: 0.2821 - val_auc: 0.9499 - val_accuracy: 0.8854 - val_cost: 913.5000\n",
            "Epoch 2/100\n",
            "1600/1600 [==============================] - 5s 3ms/step - loss: 0.2644 - auc: 0.9560 - accuracy: 0.8940 - cost: 858.1250 - val_loss: 0.2321 - val_auc: 0.9661 - val_accuracy: 0.9098 - val_cost: 739.6250\n",
            "Epoch 3/100\n",
            "1600/1600 [==============================] - 5s 3ms/step - loss: 0.2236 - auc: 0.9684 - accuracy: 0.9138 - cost: 701.4375 - val_loss: 0.1968 - val_auc: 0.9755 - val_accuracy: 0.9260 - val_cost: 586.8750\n",
            "Epoch 4/100\n",
            "1600/1600 [==============================] - 5s 3ms/step - loss: 0.1973 - auc: 0.9752 - accuracy: 0.9267 - cost: 596.2188 - val_loss: 0.1772 - val_auc: 0.9801 - val_accuracy: 0.9358 - val_cost: 507.6250\n",
            "Epoch 5/100\n",
            "1600/1600 [==============================] - 5s 3ms/step - loss: 0.1801 - auc: 0.9790 - accuracy: 0.9346 - cost: 533.0000 - val_loss: 0.1651 - val_auc: 0.9824 - val_accuracy: 0.9399 - val_cost: 496.5000\n",
            "Epoch 6/100\n",
            "1600/1600 [==============================] - 5s 3ms/step - loss: 0.1683 - auc: 0.9816 - accuracy: 0.9401 - cost: 489.9688 - val_loss: 0.1570 - val_auc: 0.9840 - val_accuracy: 0.9452 - val_cost: 429.5000\n",
            "Epoch 7/100\n",
            "1600/1600 [==============================] - 5s 3ms/step - loss: 0.1593 - auc: 0.9832 - accuracy: 0.9446 - cost: 452.0938 - val_loss: 0.1463 - val_auc: 0.9857 - val_accuracy: 0.9499 - val_cost: 404.7500\n",
            "Epoch 8/100\n",
            "1600/1600 [==============================] - 5s 3ms/step - loss: 0.1532 - auc: 0.9843 - accuracy: 0.9475 - cost: 429.3438 - val_loss: 0.1431 - val_auc: 0.9861 - val_accuracy: 0.9509 - val_cost: 401.2500\n",
            "Epoch 9/100\n",
            "1600/1600 [==============================] - 5s 3ms/step - loss: 0.1480 - auc: 0.9854 - accuracy: 0.9494 - cost: 414.6875 - val_loss: 0.1411 - val_auc: 0.9866 - val_accuracy: 0.9525 - val_cost: 399.5000\n",
            "Epoch 10/100\n",
            "1600/1600 [==============================] - 5s 3ms/step - loss: 0.1423 - auc: 0.9862 - accuracy: 0.9519 - cost: 394.1562 - val_loss: 0.1382 - val_auc: 0.9869 - val_accuracy: 0.9558 - val_cost: 352.3750\n",
            "Epoch 11/100\n",
            "1600/1600 [==============================] - 5s 3ms/step - loss: 0.1378 - auc: 0.9869 - accuracy: 0.9542 - cost: 375.1250 - val_loss: 0.1332 - val_auc: 0.9877 - val_accuracy: 0.9579 - val_cost: 331.6250\n",
            "Epoch 12/100\n",
            "1600/1600 [==============================] - 5s 3ms/step - loss: 0.1346 - auc: 0.9876 - accuracy: 0.9551 - cost: 366.9375 - val_loss: 0.1295 - val_auc: 0.9881 - val_accuracy: 0.9594 - val_cost: 322.1250\n",
            "Epoch 13/100\n",
            "1600/1600 [==============================] - 5s 3ms/step - loss: 0.1306 - auc: 0.9879 - accuracy: 0.9564 - cost: 357.3125 - val_loss: 0.1295 - val_auc: 0.9881 - val_accuracy: 0.9590 - val_cost: 322.8750\n",
            "Epoch 14/100\n",
            "1600/1600 [==============================] - 5s 3ms/step - loss: 0.1271 - auc: 0.9885 - accuracy: 0.9582 - cost: 342.6250 - val_loss: 0.1282 - val_auc: 0.9885 - val_accuracy: 0.9600 - val_cost: 305.8750\n",
            "Epoch 15/100\n",
            "1600/1600 [==============================] - 5s 3ms/step - loss: 0.1253 - auc: 0.9886 - accuracy: 0.9592 - cost: 333.3750 - val_loss: 0.1259 - val_auc: 0.9887 - val_accuracy: 0.9607 - val_cost: 312.8750\n",
            "Epoch 16/100\n",
            "1600/1600 [==============================] - 5s 3ms/step - loss: 0.1230 - auc: 0.9890 - accuracy: 0.9596 - cost: 329.8125 - val_loss: 0.1258 - val_auc: 0.9887 - val_accuracy: 0.9605 - val_cost: 329.2500\n",
            "Epoch 17/100\n",
            "1600/1600 [==============================] - 5s 3ms/step - loss: 0.1205 - auc: 0.9895 - accuracy: 0.9611 - cost: 319.4062 - val_loss: 0.1213 - val_auc: 0.9891 - val_accuracy: 0.9627 - val_cost: 299.2500\n",
            "Epoch 18/100\n",
            "1600/1600 [==============================] - 5s 3ms/step - loss: 0.1198 - auc: 0.9893 - accuracy: 0.9612 - cost: 318.7500 - val_loss: 0.1233 - val_auc: 0.9890 - val_accuracy: 0.9629 - val_cost: 293.7500\n",
            "Epoch 19/100\n",
            "1600/1600 [==============================] - 5s 3ms/step - loss: 0.1177 - auc: 0.9897 - accuracy: 0.9625 - cost: 308.2500 - val_loss: 0.1197 - val_auc: 0.9892 - val_accuracy: 0.9647 - val_cost: 284.8750\n",
            "Epoch 20/100\n",
            "1600/1600 [==============================] - 5s 3ms/step - loss: 0.1162 - auc: 0.9900 - accuracy: 0.9626 - cost: 308.2500 - val_loss: 0.1211 - val_auc: 0.9891 - val_accuracy: 0.9645 - val_cost: 285.0000\n",
            "Epoch 21/100\n",
            "1600/1600 [==============================] - 5s 3ms/step - loss: 0.1129 - auc: 0.9904 - accuracy: 0.9642 - cost: 294.9688 - val_loss: 0.1183 - val_auc: 0.9895 - val_accuracy: 0.9642 - val_cost: 290.8750\n",
            "Epoch 22/100\n",
            "1600/1600 [==============================] - 5s 3ms/step - loss: 0.1123 - auc: 0.9904 - accuracy: 0.9651 - cost: 287.1875 - val_loss: 0.1188 - val_auc: 0.9895 - val_accuracy: 0.9636 - val_cost: 296.0000\n",
            "Epoch 23/100\n",
            "1600/1600 [==============================] - 5s 3ms/step - loss: 0.1109 - auc: 0.9905 - accuracy: 0.9649 - cost: 288.5000 - val_loss: 0.1172 - val_auc: 0.9895 - val_accuracy: 0.9636 - val_cost: 297.5000\n",
            "Epoch 24/100\n",
            "1600/1600 [==============================] - 5s 3ms/step - loss: 0.1089 - auc: 0.9908 - accuracy: 0.9659 - cost: 280.6562 - val_loss: 0.1162 - val_auc: 0.9898 - val_accuracy: 0.9658 - val_cost: 277.5000\n",
            "Epoch 25/100\n",
            "1600/1600 [==============================] - 5s 3ms/step - loss: 0.1083 - auc: 0.9910 - accuracy: 0.9662 - cost: 277.5312 - val_loss: 0.1145 - val_auc: 0.9901 - val_accuracy: 0.9652 - val_cost: 281.2500\n",
            "Epoch 26/100\n",
            "1600/1600 [==============================] - 5s 3ms/step - loss: 0.1077 - auc: 0.9910 - accuracy: 0.9663 - cost: 278.1562 - val_loss: 0.1138 - val_auc: 0.9898 - val_accuracy: 0.9655 - val_cost: 277.6250\n",
            "Epoch 27/100\n",
            "1600/1600 [==============================] - 5s 3ms/step - loss: 0.1067 - auc: 0.9912 - accuracy: 0.9669 - cost: 272.5625 - val_loss: 0.1200 - val_auc: 0.9897 - val_accuracy: 0.9637 - val_cost: 285.2500\n",
            "Epoch 28/100\n",
            "1600/1600 [==============================] - 5s 3ms/step - loss: 0.1058 - auc: 0.9913 - accuracy: 0.9673 - cost: 269.1875 - val_loss: 0.1157 - val_auc: 0.9898 - val_accuracy: 0.9660 - val_cost: 270.6250\n",
            "Epoch 29/100\n",
            "1600/1600 [==============================] - 5s 3ms/step - loss: 0.1045 - auc: 0.9914 - accuracy: 0.9681 - cost: 262.7812 - val_loss: 0.1151 - val_auc: 0.9899 - val_accuracy: 0.9658 - val_cost: 283.6250\n",
            "Epoch 30/100\n",
            "1600/1600 [==============================] - 5s 3ms/step - loss: 0.1028 - auc: 0.9916 - accuracy: 0.9679 - cost: 264.4688 - val_loss: 0.1168 - val_auc: 0.9899 - val_accuracy: 0.9641 - val_cost: 302.3750\n",
            "Epoch 31/100\n",
            "1600/1600 [==============================] - 5s 3ms/step - loss: 0.1003 - auc: 0.9919 - accuracy: 0.9691 - cost: 254.8750 - val_loss: 0.1136 - val_auc: 0.9900 - val_accuracy: 0.9658 - val_cost: 275.8750\n",
            "Epoch 32/100\n",
            "1600/1600 [==============================] - 5s 3ms/step - loss: 0.1016 - auc: 0.9918 - accuracy: 0.9694 - cost: 252.8438 - val_loss: 0.1156 - val_auc: 0.9899 - val_accuracy: 0.9656 - val_cost: 272.7500\n",
            "Epoch 33/100\n",
            "1600/1600 [==============================] - 5s 3ms/step - loss: 0.1006 - auc: 0.9918 - accuracy: 0.9691 - cost: 254.6562 - val_loss: 0.1156 - val_auc: 0.9900 - val_accuracy: 0.9660 - val_cost: 270.8750\n",
            "Epoch 34/100\n",
            "1600/1600 [==============================] - 5s 3ms/step - loss: 0.0997 - auc: 0.9920 - accuracy: 0.9689 - cost: 256.7500 - val_loss: 0.1144 - val_auc: 0.9900 - val_accuracy: 0.9664 - val_cost: 275.2500\n",
            "Epoch 35/100\n",
            "1600/1600 [==============================] - 5s 3ms/step - loss: 0.0996 - auc: 0.9921 - accuracy: 0.9693 - cost: 253.3125 - val_loss: 0.1125 - val_auc: 0.9901 - val_accuracy: 0.9670 - val_cost: 264.7500\n",
            "Epoch 36/100\n",
            "1600/1600 [==============================] - 5s 3ms/step - loss: 0.0991 - auc: 0.9921 - accuracy: 0.9694 - cost: 252.5000 - val_loss: 0.1133 - val_auc: 0.9901 - val_accuracy: 0.9664 - val_cost: 271.5000\n",
            "Epoch 37/100\n",
            "1600/1600 [==============================] - 5s 3ms/step - loss: 0.0970 - auc: 0.9924 - accuracy: 0.9703 - cost: 246.2812 - val_loss: 0.1114 - val_auc: 0.9903 - val_accuracy: 0.9666 - val_cost: 265.8750\n",
            "Epoch 38/100\n",
            "1600/1600 [==============================] - 5s 3ms/step - loss: 0.0972 - auc: 0.9922 - accuracy: 0.9702 - cost: 245.7188 - val_loss: 0.1138 - val_auc: 0.9900 - val_accuracy: 0.9665 - val_cost: 267.5000\n",
            "Epoch 39/100\n",
            "1600/1600 [==============================] - 5s 3ms/step - loss: 0.0967 - auc: 0.9923 - accuracy: 0.9703 - cost: 244.3750 - val_loss: 0.1145 - val_auc: 0.9899 - val_accuracy: 0.9661 - val_cost: 277.3750\n",
            "Epoch 40/100\n",
            "1600/1600 [==============================] - 5s 3ms/step - loss: 0.0959 - auc: 0.9925 - accuracy: 0.9709 - cost: 239.3750 - val_loss: 0.1147 - val_auc: 0.9897 - val_accuracy: 0.9668 - val_cost: 268.2500\n",
            "Epoch 41/100\n",
            "1600/1600 [==============================] - 5s 3ms/step - loss: 0.0970 - auc: 0.9923 - accuracy: 0.9704 - cost: 244.0625 - val_loss: 0.1139 - val_auc: 0.9897 - val_accuracy: 0.9659 - val_cost: 276.7500\n",
            "Epoch 42/100\n",
            "1600/1600 [==============================] - 5s 3ms/step - loss: 0.0947 - auc: 0.9926 - accuracy: 0.9711 - cost: 239.1562 - val_loss: 0.1133 - val_auc: 0.9900 - val_accuracy: 0.9667 - val_cost: 264.8750\n",
            "Epoch 43/100\n",
            "1600/1600 [==============================] - 5s 3ms/step - loss: 0.0954 - auc: 0.9925 - accuracy: 0.9711 - cost: 239.1250 - val_loss: 0.1156 - val_auc: 0.9900 - val_accuracy: 0.9651 - val_cost: 275.1250\n",
            "Epoch 44/100\n",
            "1600/1600 [==============================] - 5s 3ms/step - loss: 0.0955 - auc: 0.9924 - accuracy: 0.9706 - cost: 242.2812 - val_loss: 0.1137 - val_auc: 0.9897 - val_accuracy: 0.9678 - val_cost: 260.5000\n",
            "Epoch 45/100\n",
            "1600/1600 [==============================] - 5s 3ms/step - loss: 0.0934 - auc: 0.9927 - accuracy: 0.9714 - cost: 236.3125 - val_loss: 0.1145 - val_auc: 0.9899 - val_accuracy: 0.9675 - val_cost: 264.0000\n",
            "Epoch 46/100\n",
            "1600/1600 [==============================] - 5s 3ms/step - loss: 0.0927 - auc: 0.9929 - accuracy: 0.9719 - cost: 232.3125 - val_loss: 0.1128 - val_auc: 0.9898 - val_accuracy: 0.9677 - val_cost: 264.0000\n",
            "Epoch 47/100\n",
            "1600/1600 [==============================] - 5s 3ms/step - loss: 0.0924 - auc: 0.9927 - accuracy: 0.9718 - cost: 232.7812 - val_loss: 0.1158 - val_auc: 0.9896 - val_accuracy: 0.9675 - val_cost: 263.6250\n",
            "Epoch 48/100\n",
            "1600/1600 [==============================] - 5s 3ms/step - loss: 0.0928 - auc: 0.9929 - accuracy: 0.9723 - cost: 227.9688 - val_loss: 0.1129 - val_auc: 0.9899 - val_accuracy: 0.9678 - val_cost: 261.0000\n",
            "Epoch 49/100\n",
            "1600/1600 [==============================] - 5s 3ms/step - loss: 0.0912 - auc: 0.9928 - accuracy: 0.9727 - cost: 226.0312 - val_loss: 0.1143 - val_auc: 0.9898 - val_accuracy: 0.9673 - val_cost: 263.0000\n",
            "Epoch 50/100\n",
            "1600/1600 [==============================] - 5s 3ms/step - loss: 0.0908 - auc: 0.9931 - accuracy: 0.9724 - cost: 227.9688 - val_loss: 0.1141 - val_auc: 0.9898 - val_accuracy: 0.9673 - val_cost: 272.8750\n",
            "Epoch 51/100\n",
            "1600/1600 [==============================] - 5s 3ms/step - loss: 0.0912 - auc: 0.9930 - accuracy: 0.9726 - cost: 226.6875 - val_loss: 0.1140 - val_auc: 0.9900 - val_accuracy: 0.9686 - val_cost: 250.6250\n",
            "Epoch 52/100\n",
            "1600/1600 [==============================] - 5s 3ms/step - loss: 0.0912 - auc: 0.9930 - accuracy: 0.9724 - cost: 228.6250 - val_loss: 0.1164 - val_auc: 0.9893 - val_accuracy: 0.9685 - val_cost: 259.0000\n",
            "Epoch 53/100\n",
            "1600/1600 [==============================] - 5s 3ms/step - loss: 0.0901 - auc: 0.9931 - accuracy: 0.9729 - cost: 224.1562 - val_loss: 0.1142 - val_auc: 0.9899 - val_accuracy: 0.9684 - val_cost: 260.5000\n",
            "Epoch 54/100\n",
            "1600/1600 [==============================] - 5s 3ms/step - loss: 0.0905 - auc: 0.9931 - accuracy: 0.9728 - cost: 225.4062 - val_loss: 0.1128 - val_auc: 0.9900 - val_accuracy: 0.9684 - val_cost: 252.5000\n",
            "Epoch 55/100\n",
            "1600/1600 [==============================] - 5s 3ms/step - loss: 0.0904 - auc: 0.9932 - accuracy: 0.9729 - cost: 224.3750 - val_loss: 0.1133 - val_auc: 0.9900 - val_accuracy: 0.9676 - val_cost: 256.8750\n",
            "Epoch 56/100\n",
            "1600/1600 [==============================] - 5s 3ms/step - loss: 0.0897 - auc: 0.9931 - accuracy: 0.9730 - cost: 222.8750 - val_loss: 0.1148 - val_auc: 0.9899 - val_accuracy: 0.9667 - val_cost: 271.3750\n",
            "Epoch 57/100\n",
            "1600/1600 [==============================] - 5s 3ms/step - loss: 0.0886 - auc: 0.9933 - accuracy: 0.9733 - cost: 221.2812 - val_loss: 0.1162 - val_auc: 0.9899 - val_accuracy: 0.9679 - val_cost: 264.7500\n",
            "Epoch 58/100\n",
            "1600/1600 [==============================] - 5s 3ms/step - loss: 0.0891 - auc: 0.9933 - accuracy: 0.9735 - cost: 219.5312 - val_loss: 0.1133 - val_auc: 0.9901 - val_accuracy: 0.9688 - val_cost: 252.1250\n",
            "Epoch 59/100\n",
            "1600/1600 [==============================] - 5s 3ms/step - loss: 0.0889 - auc: 0.9932 - accuracy: 0.9728 - cost: 224.9375 - val_loss: 0.1152 - val_auc: 0.9902 - val_accuracy: 0.9680 - val_cost: 251.5000\n",
            "Epoch 60/100\n",
            "1600/1600 [==============================] - 5s 3ms/step - loss: 0.0874 - auc: 0.9935 - accuracy: 0.9737 - cost: 217.9688 - val_loss: 0.1143 - val_auc: 0.9900 - val_accuracy: 0.9682 - val_cost: 248.8750\n",
            "Epoch 61/100\n",
            "1600/1600 [==============================] - 5s 3ms/step - loss: 0.0890 - auc: 0.9933 - accuracy: 0.9731 - cost: 222.3438 - val_loss: 0.1116 - val_auc: 0.9903 - val_accuracy: 0.9692 - val_cost: 245.6250\n",
            "Epoch 62/100\n",
            "1600/1600 [==============================] - 5s 3ms/step - loss: 0.0878 - auc: 0.9934 - accuracy: 0.9731 - cost: 222.3750 - val_loss: 0.1139 - val_auc: 0.9902 - val_accuracy: 0.9679 - val_cost: 257.1250\n",
            "Epoch 63/100\n",
            "1600/1600 [==============================] - 5s 3ms/step - loss: 0.0860 - auc: 0.9935 - accuracy: 0.9739 - cost: 215.9375 - val_loss: 0.1125 - val_auc: 0.9904 - val_accuracy: 0.9698 - val_cost: 244.2500\n",
            "Epoch 64/100\n",
            "1600/1600 [==============================] - 5s 3ms/step - loss: 0.0878 - auc: 0.9934 - accuracy: 0.9733 - cost: 220.7812 - val_loss: 0.1177 - val_auc: 0.9897 - val_accuracy: 0.9669 - val_cost: 267.1250\n",
            "Epoch 65/100\n",
            "1600/1600 [==============================] - 5s 3ms/step - loss: 0.0866 - auc: 0.9938 - accuracy: 0.9742 - cost: 213.2812 - val_loss: 0.1130 - val_auc: 0.9902 - val_accuracy: 0.9686 - val_cost: 253.6250\n",
            "Epoch 66/100\n",
            "1600/1600 [==============================] - 5s 3ms/step - loss: 0.0881 - auc: 0.9933 - accuracy: 0.9734 - cost: 220.6875 - val_loss: 0.1161 - val_auc: 0.9897 - val_accuracy: 0.9670 - val_cost: 277.0000\n",
            "Epoch 67/100\n",
            "1600/1600 [==============================] - 5s 3ms/step - loss: 0.0864 - auc: 0.9935 - accuracy: 0.9744 - cost: 213.0000 - val_loss: 0.1143 - val_auc: 0.9897 - val_accuracy: 0.9683 - val_cost: 256.5000\n",
            "Epoch 68/100\n",
            "1600/1600 [==============================] - 5s 3ms/step - loss: 0.0860 - auc: 0.9936 - accuracy: 0.9744 - cost: 211.9375 - val_loss: 0.1143 - val_auc: 0.9902 - val_accuracy: 0.9670 - val_cost: 270.1250\n",
            "Epoch 69/100\n",
            "1600/1600 [==============================] - 5s 3ms/step - loss: 0.0856 - auc: 0.9937 - accuracy: 0.9745 - cost: 211.8438 - val_loss: 0.1146 - val_auc: 0.9900 - val_accuracy: 0.9681 - val_cost: 254.7500\n",
            "Epoch 70/100\n",
            "1600/1600 [==============================] - 5s 3ms/step - loss: 0.0853 - auc: 0.9937 - accuracy: 0.9746 - cost: 210.0000 - val_loss: 0.1153 - val_auc: 0.9900 - val_accuracy: 0.9689 - val_cost: 252.7500\n",
            "Epoch 71/100\n",
            "1600/1600 [==============================] - 5s 3ms/step - loss: 0.0849 - auc: 0.9938 - accuracy: 0.9745 - cost: 211.1875 - val_loss: 0.1161 - val_auc: 0.9896 - val_accuracy: 0.9680 - val_cost: 259.2500\n",
            "Epoch 72/100\n",
            "1600/1600 [==============================] - 5s 3ms/step - loss: 0.0847 - auc: 0.9937 - accuracy: 0.9748 - cost: 208.5000 - val_loss: 0.1149 - val_auc: 0.9904 - val_accuracy: 0.9675 - val_cost: 256.6250\n",
            "Epoch 73/100\n",
            "1600/1600 [==============================] - 5s 3ms/step - loss: 0.0847 - auc: 0.9937 - accuracy: 0.9752 - cost: 205.5312 - val_loss: 0.1145 - val_auc: 0.9901 - val_accuracy: 0.9696 - val_cost: 243.5000\n",
            "Epoch 74/100\n",
            "1600/1600 [==============================] - 5s 3ms/step - loss: 0.0833 - auc: 0.9940 - accuracy: 0.9749 - cost: 207.8438 - val_loss: 0.1169 - val_auc: 0.9899 - val_accuracy: 0.9675 - val_cost: 266.7500\n",
            "Epoch 75/100\n",
            "1600/1600 [==============================] - 5s 3ms/step - loss: 0.0849 - auc: 0.9937 - accuracy: 0.9747 - cost: 209.3438 - val_loss: 0.1182 - val_auc: 0.9895 - val_accuracy: 0.9670 - val_cost: 262.1250\n",
            "Epoch 76/100\n",
            "1600/1600 [==============================] - 5s 3ms/step - loss: 0.0836 - auc: 0.9938 - accuracy: 0.9748 - cost: 208.2500 - val_loss: 0.1142 - val_auc: 0.9902 - val_accuracy: 0.9687 - val_cost: 251.6250\n",
            "Epoch 77/100\n",
            "1600/1600 [==============================] - 5s 3ms/step - loss: 0.0839 - auc: 0.9940 - accuracy: 0.9745 - cost: 210.7188 - val_loss: 0.1169 - val_auc: 0.9900 - val_accuracy: 0.9684 - val_cost: 251.0000\n",
            "Epoch 78/100\n",
            "1600/1600 [==============================] - 5s 3ms/step - loss: 0.0827 - auc: 0.9940 - accuracy: 0.9756 - cost: 202.6875 - val_loss: 0.1143 - val_auc: 0.9901 - val_accuracy: 0.9682 - val_cost: 256.0000\n",
            "Epoch 79/100\n",
            "1600/1600 [==============================] - 5s 3ms/step - loss: 0.0826 - auc: 0.9939 - accuracy: 0.9756 - cost: 202.9688 - val_loss: 0.1135 - val_auc: 0.9901 - val_accuracy: 0.9688 - val_cost: 255.1250\n",
            "Epoch 80/100\n",
            "1600/1600 [==============================] - 5s 3ms/step - loss: 0.0821 - auc: 0.9941 - accuracy: 0.9751 - cost: 206.4062 - val_loss: 0.1131 - val_auc: 0.9902 - val_accuracy: 0.9699 - val_cost: 242.1250\n",
            "Epoch 81/100\n",
            "1600/1600 [==============================] - 5s 3ms/step - loss: 0.0825 - auc: 0.9940 - accuracy: 0.9751 - cost: 205.5312 - val_loss: 0.1162 - val_auc: 0.9896 - val_accuracy: 0.9687 - val_cost: 254.7500\n",
            "Epoch 82/100\n",
            "1600/1600 [==============================] - 5s 3ms/step - loss: 0.0820 - auc: 0.9940 - accuracy: 0.9756 - cost: 202.4062 - val_loss: 0.1187 - val_auc: 0.9901 - val_accuracy: 0.9687 - val_cost: 245.5000\n",
            "Epoch 83/100\n",
            "1600/1600 [==============================] - 5s 3ms/step - loss: 0.0824 - auc: 0.9938 - accuracy: 0.9751 - cost: 206.5938 - val_loss: 0.1182 - val_auc: 0.9900 - val_accuracy: 0.9671 - val_cost: 269.7500\n",
            "Epoch 84/100\n",
            "1600/1600 [==============================] - 5s 3ms/step - loss: 0.0828 - auc: 0.9938 - accuracy: 0.9756 - cost: 202.6250 - val_loss: 0.1174 - val_auc: 0.9896 - val_accuracy: 0.9675 - val_cost: 266.3750\n",
            "Epoch 85/100\n",
            "1600/1600 [==============================] - 5s 3ms/step - loss: 0.0817 - auc: 0.9941 - accuracy: 0.9753 - cost: 204.2188 - val_loss: 0.1165 - val_auc: 0.9901 - val_accuracy: 0.9683 - val_cost: 253.0000\n",
            "Epoch 86/100\n",
            "1600/1600 [==============================] - 5s 3ms/step - loss: 0.0813 - auc: 0.9942 - accuracy: 0.9755 - cost: 202.8750 - val_loss: 0.1197 - val_auc: 0.9896 - val_accuracy: 0.9677 - val_cost: 259.1250\n",
            "Epoch 87/100\n",
            "1600/1600 [==============================] - 5s 3ms/step - loss: 0.0821 - auc: 0.9941 - accuracy: 0.9755 - cost: 202.7812 - val_loss: 0.1193 - val_auc: 0.9892 - val_accuracy: 0.9674 - val_cost: 268.3750\n",
            "Epoch 88/100\n",
            "1600/1600 [==============================] - 5s 3ms/step - loss: 0.0820 - auc: 0.9940 - accuracy: 0.9753 - cost: 204.6875 - val_loss: 0.1157 - val_auc: 0.9901 - val_accuracy: 0.9684 - val_cost: 251.0000\n",
            "Epoch 89/100\n",
            "1600/1600 [==============================] - 5s 3ms/step - loss: 0.0814 - auc: 0.9940 - accuracy: 0.9755 - cost: 203.3125 - val_loss: 0.1129 - val_auc: 0.9903 - val_accuracy: 0.9687 - val_cost: 257.7500\n",
            "Epoch 90/100\n",
            "1600/1600 [==============================] - 5s 3ms/step - loss: 0.0813 - auc: 0.9942 - accuracy: 0.9754 - cost: 203.7500 - val_loss: 0.1148 - val_auc: 0.9902 - val_accuracy: 0.9689 - val_cost: 252.3750\n",
            "1000/1000 [==============================] - 1s 984us/step\n",
            "fold train/predict time: 0:07:09.278184\n",
            "x_train shape: (128000, 67)\n",
            "Epoch 1/100\n",
            "1600/1600 [==============================] - 6s 3ms/step - loss: 0.3798 - auc: 0.9068 - accuracy: 0.8294 - cost: 1402.6250 - val_loss: 0.2823 - val_auc: 0.9503 - val_accuracy: 0.8815 - val_cost: 990.3750\n",
            "Epoch 2/100\n",
            "1600/1600 [==============================] - 5s 3ms/step - loss: 0.2636 - auc: 0.9560 - accuracy: 0.8943 - cost: 855.1250 - val_loss: 0.2291 - val_auc: 0.9681 - val_accuracy: 0.9100 - val_cost: 696.6250\n",
            "Epoch 3/100\n",
            "1600/1600 [==============================] - 5s 3ms/step - loss: 0.2199 - auc: 0.9693 - accuracy: 0.9158 - cost: 682.3750 - val_loss: 0.1955 - val_auc: 0.9757 - val_accuracy: 0.9276 - val_cost: 579.1250\n",
            "Epoch 4/100\n",
            "1600/1600 [==============================] - 5s 3ms/step - loss: 0.1933 - auc: 0.9759 - accuracy: 0.9291 - cost: 574.9062 - val_loss: 0.1729 - val_auc: 0.9805 - val_accuracy: 0.9365 - val_cost: 513.1250\n",
            "Epoch 5/100\n",
            "1600/1600 [==============================] - 5s 3ms/step - loss: 0.1741 - auc: 0.9803 - accuracy: 0.9370 - cost: 512.6562 - val_loss: 0.1623 - val_auc: 0.9826 - val_accuracy: 0.9420 - val_cost: 473.5000\n",
            "Epoch 6/100\n",
            "1600/1600 [==============================] - 5s 3ms/step - loss: 0.1620 - auc: 0.9827 - accuracy: 0.9422 - cost: 469.9062 - val_loss: 0.1517 - val_auc: 0.9847 - val_accuracy: 0.9473 - val_cost: 432.6250\n",
            "Epoch 7/100\n",
            "1600/1600 [==============================] - 5s 3ms/step - loss: 0.1537 - auc: 0.9841 - accuracy: 0.9465 - cost: 435.3438 - val_loss: 0.1454 - val_auc: 0.9859 - val_accuracy: 0.9510 - val_cost: 385.0000\n",
            "Epoch 8/100\n",
            "1600/1600 [==============================] - 5s 3ms/step - loss: 0.1448 - auc: 0.9857 - accuracy: 0.9501 - cost: 405.5312 - val_loss: 0.1384 - val_auc: 0.9867 - val_accuracy: 0.9532 - val_cost: 375.8750\n",
            "Epoch 9/100\n",
            "1600/1600 [==============================] - 5s 3ms/step - loss: 0.1401 - auc: 0.9865 - accuracy: 0.9519 - cost: 390.7500 - val_loss: 0.1344 - val_auc: 0.9873 - val_accuracy: 0.9553 - val_cost: 368.7500\n",
            "Epoch 10/100\n",
            "1600/1600 [==============================] - 5s 3ms/step - loss: 0.1339 - auc: 0.9876 - accuracy: 0.9550 - cost: 366.5625 - val_loss: 0.1331 - val_auc: 0.9876 - val_accuracy: 0.9556 - val_cost: 358.3750\n",
            "Epoch 11/100\n",
            "1600/1600 [==============================] - 6s 4ms/step - loss: 0.1306 - auc: 0.9879 - accuracy: 0.9570 - cost: 350.0312 - val_loss: 0.1311 - val_auc: 0.9879 - val_accuracy: 0.9570 - val_cost: 356.6250\n",
            "Epoch 12/100\n",
            "1600/1600 [==============================] - 5s 3ms/step - loss: 0.1281 - auc: 0.9882 - accuracy: 0.9577 - cost: 345.9688 - val_loss: 0.1259 - val_auc: 0.9887 - val_accuracy: 0.9591 - val_cost: 328.0000\n",
            "Epoch 13/100\n",
            "1600/1600 [==============================] - 6s 3ms/step - loss: 0.1247 - auc: 0.9887 - accuracy: 0.9598 - cost: 327.7500 - val_loss: 0.1265 - val_auc: 0.9888 - val_accuracy: 0.9589 - val_cost: 322.5000\n",
            "Epoch 14/100\n",
            "1600/1600 [==============================] - 5s 3ms/step - loss: 0.1213 - auc: 0.9892 - accuracy: 0.9603 - cost: 324.8750 - val_loss: 0.1222 - val_auc: 0.9893 - val_accuracy: 0.9606 - val_cost: 322.7500\n",
            "Epoch 15/100\n",
            "1600/1600 [==============================] - 5s 3ms/step - loss: 0.1173 - auc: 0.9897 - accuracy: 0.9624 - cost: 306.0312 - val_loss: 0.1203 - val_auc: 0.9892 - val_accuracy: 0.9621 - val_cost: 309.5000\n",
            "Epoch 16/100\n",
            "1600/1600 [==============================] - 5s 3ms/step - loss: 0.1154 - auc: 0.9901 - accuracy: 0.9629 - cost: 303.5312 - val_loss: 0.1202 - val_auc: 0.9893 - val_accuracy: 0.9625 - val_cost: 305.6250\n",
            "Epoch 17/100\n",
            "1600/1600 [==============================] - 5s 3ms/step - loss: 0.1130 - auc: 0.9904 - accuracy: 0.9637 - cost: 297.0312 - val_loss: 0.1198 - val_auc: 0.9893 - val_accuracy: 0.9628 - val_cost: 295.3750\n",
            "Epoch 18/100\n",
            "1600/1600 [==============================] - 5s 3ms/step - loss: 0.1112 - auc: 0.9906 - accuracy: 0.9653 - cost: 283.6875 - val_loss: 0.1192 - val_auc: 0.9895 - val_accuracy: 0.9632 - val_cost: 289.7500\n",
            "Epoch 19/100\n",
            "1600/1600 [==============================] - 5s 3ms/step - loss: 0.1110 - auc: 0.9905 - accuracy: 0.9651 - cost: 285.8750 - val_loss: 0.1173 - val_auc: 0.9896 - val_accuracy: 0.9639 - val_cost: 294.6250\n",
            "Epoch 20/100\n",
            "1600/1600 [==============================] - 5s 3ms/step - loss: 0.1095 - auc: 0.9908 - accuracy: 0.9654 - cost: 282.5312 - val_loss: 0.1175 - val_auc: 0.9896 - val_accuracy: 0.9647 - val_cost: 280.7500\n",
            "Epoch 21/100\n",
            "1600/1600 [==============================] - 5s 3ms/step - loss: 0.1069 - auc: 0.9911 - accuracy: 0.9660 - cost: 276.9688 - val_loss: 0.1200 - val_auc: 0.9896 - val_accuracy: 0.9630 - val_cost: 287.0000\n",
            "Epoch 22/100\n",
            "1600/1600 [==============================] - 5s 3ms/step - loss: 0.1061 - auc: 0.9913 - accuracy: 0.9665 - cost: 274.2188 - val_loss: 0.1197 - val_auc: 0.9898 - val_accuracy: 0.9639 - val_cost: 276.7500\n",
            "Epoch 23/100\n",
            "1600/1600 [==============================] - 5s 3ms/step - loss: 0.1065 - auc: 0.9912 - accuracy: 0.9673 - cost: 266.6250 - val_loss: 0.1170 - val_auc: 0.9898 - val_accuracy: 0.9640 - val_cost: 298.7500\n",
            "Epoch 24/100\n",
            "1600/1600 [==============================] - 5s 3ms/step - loss: 0.1043 - auc: 0.9914 - accuracy: 0.9673 - cost: 268.2500 - val_loss: 0.1198 - val_auc: 0.9894 - val_accuracy: 0.9643 - val_cost: 274.5000\n",
            "Epoch 25/100\n",
            "1600/1600 [==============================] - 5s 3ms/step - loss: 0.1032 - auc: 0.9916 - accuracy: 0.9680 - cost: 262.2812 - val_loss: 0.1154 - val_auc: 0.9897 - val_accuracy: 0.9650 - val_cost: 288.8750\n",
            "Epoch 26/100\n",
            "1600/1600 [==============================] - 5s 3ms/step - loss: 0.1022 - auc: 0.9917 - accuracy: 0.9681 - cost: 261.7812 - val_loss: 0.1139 - val_auc: 0.9901 - val_accuracy: 0.9655 - val_cost: 279.8750\n",
            "Epoch 27/100\n",
            "1600/1600 [==============================] - 5s 3ms/step - loss: 0.1000 - auc: 0.9920 - accuracy: 0.9689 - cost: 255.0938 - val_loss: 0.1153 - val_auc: 0.9900 - val_accuracy: 0.9658 - val_cost: 271.2500\n",
            "Epoch 28/100\n",
            "1600/1600 [==============================] - 5s 3ms/step - loss: 0.0999 - auc: 0.9920 - accuracy: 0.9695 - cost: 249.9375 - val_loss: 0.1126 - val_auc: 0.9903 - val_accuracy: 0.9660 - val_cost: 275.0000\n",
            "Epoch 29/100\n",
            "1600/1600 [==============================] - 5s 3ms/step - loss: 0.0985 - auc: 0.9922 - accuracy: 0.9690 - cost: 254.2812 - val_loss: 0.1132 - val_auc: 0.9899 - val_accuracy: 0.9666 - val_cost: 266.3750\n",
            "Epoch 30/100\n",
            "1600/1600 [==============================] - 5s 3ms/step - loss: 0.0993 - auc: 0.9922 - accuracy: 0.9698 - cost: 247.5938 - val_loss: 0.1145 - val_auc: 0.9899 - val_accuracy: 0.9657 - val_cost: 281.0000\n",
            "Epoch 31/100\n",
            "1600/1600 [==============================] - 5s 3ms/step - loss: 0.0978 - auc: 0.9923 - accuracy: 0.9703 - cost: 243.4375 - val_loss: 0.1148 - val_auc: 0.9899 - val_accuracy: 0.9649 - val_cost: 285.5000\n",
            "Epoch 32/100\n",
            "1600/1600 [==============================] - 5s 3ms/step - loss: 0.0972 - auc: 0.9923 - accuracy: 0.9704 - cost: 242.7188 - val_loss: 0.1138 - val_auc: 0.9901 - val_accuracy: 0.9666 - val_cost: 269.8750\n",
            "Epoch 33/100\n",
            "1600/1600 [==============================] - 5s 3ms/step - loss: 0.0965 - auc: 0.9924 - accuracy: 0.9702 - cost: 243.8750 - val_loss: 0.1132 - val_auc: 0.9899 - val_accuracy: 0.9663 - val_cost: 277.5000\n",
            "Epoch 34/100\n",
            "1600/1600 [==============================] - 5s 3ms/step - loss: 0.0955 - auc: 0.9926 - accuracy: 0.9709 - cost: 240.1562 - val_loss: 0.1106 - val_auc: 0.9902 - val_accuracy: 0.9680 - val_cost: 257.5000\n",
            "Epoch 35/100\n",
            "1600/1600 [==============================] - 5s 3ms/step - loss: 0.0953 - auc: 0.9925 - accuracy: 0.9713 - cost: 235.8750 - val_loss: 0.1176 - val_auc: 0.9898 - val_accuracy: 0.9646 - val_cost: 299.1250\n",
            "Epoch 36/100\n",
            "1600/1600 [==============================] - 5s 3ms/step - loss: 0.0948 - auc: 0.9925 - accuracy: 0.9715 - cost: 234.4688 - val_loss: 0.1128 - val_auc: 0.9901 - val_accuracy: 0.9666 - val_cost: 270.6250\n",
            "Epoch 37/100\n",
            "1600/1600 [==============================] - 5s 3ms/step - loss: 0.0948 - auc: 0.9924 - accuracy: 0.9710 - cost: 238.4375 - val_loss: 0.1126 - val_auc: 0.9904 - val_accuracy: 0.9666 - val_cost: 267.2500\n",
            "Epoch 38/100\n",
            "1600/1600 [==============================] - 5s 3ms/step - loss: 0.0933 - auc: 0.9928 - accuracy: 0.9719 - cost: 229.6250 - val_loss: 0.1158 - val_auc: 0.9900 - val_accuracy: 0.9664 - val_cost: 259.3750\n",
            "Epoch 39/100\n",
            "1600/1600 [==============================] - 5s 3ms/step - loss: 0.0935 - auc: 0.9927 - accuracy: 0.9716 - cost: 233.6875 - val_loss: 0.1133 - val_auc: 0.9900 - val_accuracy: 0.9679 - val_cost: 257.2500\n",
            "Epoch 40/100\n",
            "1600/1600 [==============================] - 5s 3ms/step - loss: 0.0940 - auc: 0.9927 - accuracy: 0.9716 - cost: 234.1250 - val_loss: 0.1120 - val_auc: 0.9900 - val_accuracy: 0.9673 - val_cost: 267.1250\n",
            "Epoch 41/100\n",
            "1600/1600 [==============================] - 5s 3ms/step - loss: 0.0921 - auc: 0.9929 - accuracy: 0.9724 - cost: 226.8125 - val_loss: 0.1129 - val_auc: 0.9902 - val_accuracy: 0.9676 - val_cost: 263.8750\n",
            "Epoch 42/100\n",
            "1600/1600 [==============================] - 5s 3ms/step - loss: 0.0916 - auc: 0.9930 - accuracy: 0.9728 - cost: 224.5625 - val_loss: 0.1121 - val_auc: 0.9900 - val_accuracy: 0.9675 - val_cost: 262.5000\n",
            "Epoch 43/100\n",
            "1600/1600 [==============================] - 5s 3ms/step - loss: 0.0932 - auc: 0.9928 - accuracy: 0.9720 - cost: 230.0000 - val_loss: 0.1099 - val_auc: 0.9906 - val_accuracy: 0.9680 - val_cost: 259.8750\n",
            "Epoch 44/100\n",
            "1600/1600 [==============================] - 5s 3ms/step - loss: 0.0917 - auc: 0.9930 - accuracy: 0.9727 - cost: 224.3438 - val_loss: 0.1162 - val_auc: 0.9897 - val_accuracy: 0.9672 - val_cost: 265.1250\n",
            "Epoch 45/100\n",
            "1600/1600 [==============================] - 5s 3ms/step - loss: 0.0915 - auc: 0.9929 - accuracy: 0.9726 - cost: 225.2188 - val_loss: 0.1134 - val_auc: 0.9898 - val_accuracy: 0.9670 - val_cost: 266.3750\n",
            "Epoch 46/100\n",
            "1600/1600 [==============================] - 5s 3ms/step - loss: 0.0900 - auc: 0.9930 - accuracy: 0.9726 - cost: 225.7500 - val_loss: 0.1110 - val_auc: 0.9902 - val_accuracy: 0.9687 - val_cost: 258.5000\n",
            "Epoch 47/100\n",
            "1600/1600 [==============================] - 5s 3ms/step - loss: 0.0897 - auc: 0.9932 - accuracy: 0.9729 - cost: 222.1875 - val_loss: 0.1093 - val_auc: 0.9905 - val_accuracy: 0.9681 - val_cost: 263.0000\n",
            "Epoch 48/100\n",
            "1600/1600 [==============================] - 5s 3ms/step - loss: 0.0898 - auc: 0.9932 - accuracy: 0.9734 - cost: 219.0312 - val_loss: 0.1125 - val_auc: 0.9900 - val_accuracy: 0.9677 - val_cost: 261.1250\n",
            "Epoch 49/100\n",
            "1600/1600 [==============================] - 5s 3ms/step - loss: 0.0882 - auc: 0.9935 - accuracy: 0.9735 - cost: 217.6562 - val_loss: 0.1096 - val_auc: 0.9904 - val_accuracy: 0.9692 - val_cost: 252.0000\n",
            "Epoch 50/100\n",
            "1600/1600 [==============================] - 5s 3ms/step - loss: 0.0888 - auc: 0.9933 - accuracy: 0.9731 - cost: 220.8125 - val_loss: 0.1103 - val_auc: 0.9906 - val_accuracy: 0.9701 - val_cost: 239.7500\n",
            "Epoch 51/100\n",
            "1600/1600 [==============================] - 6s 3ms/step - loss: 0.0879 - auc: 0.9935 - accuracy: 0.9737 - cost: 216.5938 - val_loss: 0.1127 - val_auc: 0.9900 - val_accuracy: 0.9688 - val_cost: 247.5000\n",
            "Epoch 52/100\n",
            "1600/1600 [==============================] - 5s 3ms/step - loss: 0.0875 - auc: 0.9937 - accuracy: 0.9738 - cost: 215.1875 - val_loss: 0.1155 - val_auc: 0.9897 - val_accuracy: 0.9676 - val_cost: 265.2500\n",
            "Epoch 53/100\n",
            "1600/1600 [==============================] - 5s 3ms/step - loss: 0.0873 - auc: 0.9933 - accuracy: 0.9742 - cost: 212.6562 - val_loss: 0.1120 - val_auc: 0.9901 - val_accuracy: 0.9678 - val_cost: 265.0000\n",
            "Epoch 54/100\n",
            "1600/1600 [==============================] - 5s 3ms/step - loss: 0.0880 - auc: 0.9933 - accuracy: 0.9740 - cost: 214.7500 - val_loss: 0.1120 - val_auc: 0.9902 - val_accuracy: 0.9682 - val_cost: 260.1250\n",
            "Epoch 55/100\n",
            "1600/1600 [==============================] - 5s 3ms/step - loss: 0.0878 - auc: 0.9934 - accuracy: 0.9741 - cost: 213.4375 - val_loss: 0.1138 - val_auc: 0.9900 - val_accuracy: 0.9681 - val_cost: 257.0000\n",
            "Epoch 56/100\n",
            "1600/1600 [==============================] - 5s 3ms/step - loss: 0.0862 - auc: 0.9935 - accuracy: 0.9741 - cost: 212.7500 - val_loss: 0.1119 - val_auc: 0.9899 - val_accuracy: 0.9697 - val_cost: 245.3750\n",
            "Epoch 57/100\n",
            "1600/1600 [==============================] - 5s 3ms/step - loss: 0.0858 - auc: 0.9936 - accuracy: 0.9745 - cost: 210.1875 - val_loss: 0.1150 - val_auc: 0.9900 - val_accuracy: 0.9678 - val_cost: 257.7500\n",
            "Epoch 58/100\n",
            "1600/1600 [==============================] - 5s 3ms/step - loss: 0.0853 - auc: 0.9938 - accuracy: 0.9742 - cost: 211.7500 - val_loss: 0.1125 - val_auc: 0.9902 - val_accuracy: 0.9684 - val_cost: 253.1250\n",
            "Epoch 59/100\n",
            "1600/1600 [==============================] - 5s 3ms/step - loss: 0.0856 - auc: 0.9936 - accuracy: 0.9748 - cost: 207.6250 - val_loss: 0.1117 - val_auc: 0.9902 - val_accuracy: 0.9683 - val_cost: 262.1250\n",
            "Epoch 60/100\n",
            "1600/1600 [==============================] - 5s 3ms/step - loss: 0.0852 - auc: 0.9937 - accuracy: 0.9751 - cost: 205.5625 - val_loss: 0.1131 - val_auc: 0.9901 - val_accuracy: 0.9689 - val_cost: 250.7500\n",
            "1000/1000 [==============================] - 1s 959us/step\n",
            "fold train/predict time: 0:04:52.545870\n",
            "x_train shape: (128000, 67)\n",
            "Epoch 1/100\n",
            "1600/1600 [==============================] - 6s 3ms/step - loss: 0.3810 - auc: 0.9062 - accuracy: 0.8298 - cost: 1404.8750 - val_loss: 0.2841 - val_auc: 0.9504 - val_accuracy: 0.8835 - val_cost: 912.0000\n",
            "Epoch 2/100\n",
            "1600/1600 [==============================] - 5s 3ms/step - loss: 0.2654 - auc: 0.9556 - accuracy: 0.8936 - cost: 860.7188 - val_loss: 0.2306 - val_auc: 0.9668 - val_accuracy: 0.9096 - val_cost: 738.0000\n",
            "Epoch 3/100\n",
            "1600/1600 [==============================] - 5s 3ms/step - loss: 0.2228 - auc: 0.9685 - accuracy: 0.9148 - cost: 690.7188 - val_loss: 0.1978 - val_auc: 0.9752 - val_accuracy: 0.9247 - val_cost: 608.7500\n",
            "Epoch 4/100\n",
            "1600/1600 [==============================] - 5s 3ms/step - loss: 0.1977 - auc: 0.9749 - accuracy: 0.9255 - cost: 604.7500 - val_loss: 0.1790 - val_auc: 0.9794 - val_accuracy: 0.9335 - val_cost: 536.5000\n",
            "Epoch 5/100\n",
            "1600/1600 [==============================] - 5s 3ms/step - loss: 0.1797 - auc: 0.9791 - accuracy: 0.9343 - cost: 535.0625 - val_loss: 0.1679 - val_auc: 0.9818 - val_accuracy: 0.9405 - val_cost: 473.6250\n",
            "Epoch 6/100\n",
            "1600/1600 [==============================] - 6s 3ms/step - loss: 0.1664 - auc: 0.9818 - accuracy: 0.9405 - cost: 485.1562 - val_loss: 0.1582 - val_auc: 0.9836 - val_accuracy: 0.9441 - val_cost: 468.6250\n",
            "Epoch 7/100\n",
            "1600/1600 [==============================] - 6s 4ms/step - loss: 0.1572 - auc: 0.9837 - accuracy: 0.9446 - cost: 452.0312 - val_loss: 0.1539 - val_auc: 0.9842 - val_accuracy: 0.9456 - val_cost: 437.5000\n",
            "Epoch 8/100\n",
            "1600/1600 [==============================] - 6s 4ms/step - loss: 0.1500 - auc: 0.9849 - accuracy: 0.9484 - cost: 419.5000 - val_loss: 0.1466 - val_auc: 0.9853 - val_accuracy: 0.9495 - val_cost: 410.6250\n",
            "Epoch 9/100\n",
            "1600/1600 [==============================] - 5s 3ms/step - loss: 0.1462 - auc: 0.9856 - accuracy: 0.9500 - cost: 408.8438 - val_loss: 0.1430 - val_auc: 0.9860 - val_accuracy: 0.9511 - val_cost: 399.7500\n",
            "Epoch 10/100\n",
            "1600/1600 [==============================] - 5s 3ms/step - loss: 0.1407 - auc: 0.9864 - accuracy: 0.9525 - cost: 388.0625 - val_loss: 0.1423 - val_auc: 0.9861 - val_accuracy: 0.9516 - val_cost: 399.0000\n",
            "Epoch 11/100\n",
            "1600/1600 [==============================] - 5s 3ms/step - loss: 0.1368 - auc: 0.9871 - accuracy: 0.9535 - cost: 379.8750 - val_loss: 0.1400 - val_auc: 0.9868 - val_accuracy: 0.9527 - val_cost: 402.6250\n",
            "Epoch 12/100\n",
            "1600/1600 [==============================] - 5s 3ms/step - loss: 0.1329 - auc: 0.9877 - accuracy: 0.9558 - cost: 361.3125 - val_loss: 0.1381 - val_auc: 0.9871 - val_accuracy: 0.9550 - val_cost: 348.0000\n",
            "Epoch 13/100\n",
            "1600/1600 [==============================] - 5s 3ms/step - loss: 0.1303 - auc: 0.9880 - accuracy: 0.9568 - cost: 352.7188 - val_loss: 0.1347 - val_auc: 0.9874 - val_accuracy: 0.9570 - val_cost: 340.0000\n",
            "Epoch 14/100\n",
            "1600/1600 [==============================] - 5s 3ms/step - loss: 0.1284 - auc: 0.9883 - accuracy: 0.9579 - cost: 344.1562 - val_loss: 0.1315 - val_auc: 0.9879 - val_accuracy: 0.9566 - val_cost: 346.2500\n",
            "Epoch 15/100\n",
            "1600/1600 [==============================] - 5s 3ms/step - loss: 0.1237 - auc: 0.9890 - accuracy: 0.9593 - cost: 332.5312 - val_loss: 0.1312 - val_auc: 0.9877 - val_accuracy: 0.9582 - val_cost: 340.1250\n",
            "Epoch 16/100\n",
            "1600/1600 [==============================] - 5s 3ms/step - loss: 0.1218 - auc: 0.9893 - accuracy: 0.9602 - cost: 324.8125 - val_loss: 0.1318 - val_auc: 0.9877 - val_accuracy: 0.9579 - val_cost: 335.1250\n",
            "Epoch 17/100\n",
            "1600/1600 [==============================] - 5s 3ms/step - loss: 0.1208 - auc: 0.9894 - accuracy: 0.9611 - cost: 318.4375 - val_loss: 0.1288 - val_auc: 0.9882 - val_accuracy: 0.9590 - val_cost: 330.6250\n",
            "Epoch 18/100\n",
            "1600/1600 [==============================] - 5s 3ms/step - loss: 0.1194 - auc: 0.9897 - accuracy: 0.9614 - cost: 316.1562 - val_loss: 0.1268 - val_auc: 0.9884 - val_accuracy: 0.9607 - val_cost: 313.1250\n",
            "Epoch 19/100\n",
            "1600/1600 [==============================] - 5s 3ms/step - loss: 0.1170 - auc: 0.9899 - accuracy: 0.9625 - cost: 307.6250 - val_loss: 0.1268 - val_auc: 0.9883 - val_accuracy: 0.9601 - val_cost: 320.1250\n",
            "Epoch 20/100\n",
            "1600/1600 [==============================] - 6s 4ms/step - loss: 0.1154 - auc: 0.9901 - accuracy: 0.9631 - cost: 302.8125 - val_loss: 0.1250 - val_auc: 0.9886 - val_accuracy: 0.9612 - val_cost: 314.2500\n",
            "Epoch 21/100\n",
            "1600/1600 [==============================] - 5s 3ms/step - loss: 0.1128 - auc: 0.9906 - accuracy: 0.9630 - cost: 302.6562 - val_loss: 0.1263 - val_auc: 0.9885 - val_accuracy: 0.9616 - val_cost: 312.2500\n",
            "Epoch 22/100\n",
            "1600/1600 [==============================] - 6s 4ms/step - loss: 0.1122 - auc: 0.9905 - accuracy: 0.9642 - cost: 293.9688 - val_loss: 0.1230 - val_auc: 0.9888 - val_accuracy: 0.9619 - val_cost: 316.2500\n",
            "Epoch 23/100\n",
            "1600/1600 [==============================] - 5s 3ms/step - loss: 0.1125 - auc: 0.9905 - accuracy: 0.9643 - cost: 293.2812 - val_loss: 0.1267 - val_auc: 0.9884 - val_accuracy: 0.9618 - val_cost: 319.6250\n",
            "Epoch 24/100\n",
            "1600/1600 [==============================] - 5s 3ms/step - loss: 0.1094 - auc: 0.9909 - accuracy: 0.9658 - cost: 280.0000 - val_loss: 0.1259 - val_auc: 0.9885 - val_accuracy: 0.9612 - val_cost: 322.7500\n",
            "Epoch 25/100\n",
            "1600/1600 [==============================] - 5s 3ms/step - loss: 0.1091 - auc: 0.9909 - accuracy: 0.9655 - cost: 282.6562 - val_loss: 0.1258 - val_auc: 0.9882 - val_accuracy: 0.9613 - val_cost: 318.1250\n",
            "Epoch 26/100\n",
            "1600/1600 [==============================] - 5s 3ms/step - loss: 0.1088 - auc: 0.9911 - accuracy: 0.9659 - cost: 279.2812 - val_loss: 0.1202 - val_auc: 0.9892 - val_accuracy: 0.9633 - val_cost: 299.2500\n",
            "Epoch 27/100\n",
            "1600/1600 [==============================] - 5s 3ms/step - loss: 0.1069 - auc: 0.9911 - accuracy: 0.9664 - cost: 275.5312 - val_loss: 0.1211 - val_auc: 0.9891 - val_accuracy: 0.9626 - val_cost: 302.5000\n",
            "Epoch 28/100\n",
            "1600/1600 [==============================] - 5s 3ms/step - loss: 0.1057 - auc: 0.9912 - accuracy: 0.9669 - cost: 272.6562 - val_loss: 0.1263 - val_auc: 0.9886 - val_accuracy: 0.9627 - val_cost: 299.2500\n",
            "Epoch 29/100\n",
            "1600/1600 [==============================] - 5s 3ms/step - loss: 0.1060 - auc: 0.9914 - accuracy: 0.9665 - cost: 275.4375 - val_loss: 0.1235 - val_auc: 0.9887 - val_accuracy: 0.9622 - val_cost: 300.8750\n",
            "Epoch 30/100\n",
            "1600/1600 [==============================] - 5s 3ms/step - loss: 0.1047 - auc: 0.9914 - accuracy: 0.9670 - cost: 272.2812 - val_loss: 0.1248 - val_auc: 0.9887 - val_accuracy: 0.9627 - val_cost: 308.1250\n",
            "Epoch 31/100\n",
            "1600/1600 [==============================] - 5s 3ms/step - loss: 0.1040 - auc: 0.9915 - accuracy: 0.9681 - cost: 261.8750 - val_loss: 0.1231 - val_auc: 0.9892 - val_accuracy: 0.9639 - val_cost: 286.8750\n",
            "Epoch 32/100\n",
            "1600/1600 [==============================] - 5s 3ms/step - loss: 0.1028 - auc: 0.9917 - accuracy: 0.9681 - cost: 262.1562 - val_loss: 0.1195 - val_auc: 0.9895 - val_accuracy: 0.9647 - val_cost: 293.2500\n",
            "Epoch 33/100\n",
            "1600/1600 [==============================] - 5s 3ms/step - loss: 0.1024 - auc: 0.9917 - accuracy: 0.9683 - cost: 259.5625 - val_loss: 0.1217 - val_auc: 0.9892 - val_accuracy: 0.9635 - val_cost: 290.0000\n",
            "Epoch 34/100\n",
            "1600/1600 [==============================] - 5s 3ms/step - loss: 0.1012 - auc: 0.9919 - accuracy: 0.9681 - cost: 261.5625 - val_loss: 0.1207 - val_auc: 0.9892 - val_accuracy: 0.9651 - val_cost: 288.7500\n",
            "Epoch 35/100\n",
            "1600/1600 [==============================] - 5s 3ms/step - loss: 0.0995 - auc: 0.9922 - accuracy: 0.9688 - cost: 257.1250 - val_loss: 0.1245 - val_auc: 0.9891 - val_accuracy: 0.9639 - val_cost: 285.5000\n",
            "Epoch 36/100\n",
            "1600/1600 [==============================] - 5s 3ms/step - loss: 0.1003 - auc: 0.9920 - accuracy: 0.9689 - cost: 255.4375 - val_loss: 0.1244 - val_auc: 0.9892 - val_accuracy: 0.9637 - val_cost: 299.5000\n",
            "Epoch 37/100\n",
            "1600/1600 [==============================] - 5s 3ms/step - loss: 0.0989 - auc: 0.9922 - accuracy: 0.9690 - cost: 255.7188 - val_loss: 0.1243 - val_auc: 0.9888 - val_accuracy: 0.9634 - val_cost: 293.5000\n",
            "Epoch 38/100\n",
            "1600/1600 [==============================] - 5s 3ms/step - loss: 0.0981 - auc: 0.9923 - accuracy: 0.9696 - cost: 250.1562 - val_loss: 0.1206 - val_auc: 0.9892 - val_accuracy: 0.9639 - val_cost: 295.2500\n",
            "Epoch 39/100\n",
            "1600/1600 [==============================] - 5s 3ms/step - loss: 0.0973 - auc: 0.9924 - accuracy: 0.9695 - cost: 250.8438 - val_loss: 0.1252 - val_auc: 0.9887 - val_accuracy: 0.9630 - val_cost: 308.5000\n",
            "Epoch 40/100\n",
            "1600/1600 [==============================] - 5s 3ms/step - loss: 0.0969 - auc: 0.9925 - accuracy: 0.9703 - cost: 244.1250 - val_loss: 0.1244 - val_auc: 0.9892 - val_accuracy: 0.9639 - val_cost: 278.0000\n",
            "Epoch 41/100\n",
            "1600/1600 [==============================] - 5s 3ms/step - loss: 0.0971 - auc: 0.9924 - accuracy: 0.9701 - cost: 246.0938 - val_loss: 0.1227 - val_auc: 0.9891 - val_accuracy: 0.9639 - val_cost: 291.1250\n",
            "Epoch 42/100\n",
            "1600/1600 [==============================] - 5s 3ms/step - loss: 0.0972 - auc: 0.9924 - accuracy: 0.9704 - cost: 243.5000 - val_loss: 0.1203 - val_auc: 0.9896 - val_accuracy: 0.9657 - val_cost: 278.5000\n",
            "Epoch 43/100\n",
            "1600/1600 [==============================] - 5s 3ms/step - loss: 0.0953 - auc: 0.9926 - accuracy: 0.9700 - cost: 245.9062 - val_loss: 0.1216 - val_auc: 0.9894 - val_accuracy: 0.9654 - val_cost: 289.8750\n",
            "Epoch 44/100\n",
            "1600/1600 [==============================] - 5s 3ms/step - loss: 0.0948 - auc: 0.9927 - accuracy: 0.9704 - cost: 243.5938 - val_loss: 0.1234 - val_auc: 0.9891 - val_accuracy: 0.9653 - val_cost: 286.0000\n",
            "Epoch 45/100\n",
            "1600/1600 [==============================] - 5s 3ms/step - loss: 0.0949 - auc: 0.9926 - accuracy: 0.9713 - cost: 236.5312 - val_loss: 0.1202 - val_auc: 0.9894 - val_accuracy: 0.9652 - val_cost: 280.8750\n",
            "Epoch 46/100\n",
            "1600/1600 [==============================] - 5s 3ms/step - loss: 0.0945 - auc: 0.9927 - accuracy: 0.9714 - cost: 235.6562 - val_loss: 0.1189 - val_auc: 0.9894 - val_accuracy: 0.9659 - val_cost: 273.5000\n",
            "Epoch 47/100\n",
            "1600/1600 [==============================] - 5s 3ms/step - loss: 0.0936 - auc: 0.9929 - accuracy: 0.9709 - cost: 239.6250 - val_loss: 0.1208 - val_auc: 0.9892 - val_accuracy: 0.9645 - val_cost: 288.2500\n",
            "Epoch 48/100\n",
            "1600/1600 [==============================] - 7s 4ms/step - loss: 0.0941 - auc: 0.9927 - accuracy: 0.9708 - cost: 239.9688 - val_loss: 0.1200 - val_auc: 0.9894 - val_accuracy: 0.9652 - val_cost: 282.1250\n",
            "Epoch 49/100\n",
            "1600/1600 [==============================] - 6s 3ms/step - loss: 0.0929 - auc: 0.9929 - accuracy: 0.9717 - cost: 233.1562 - val_loss: 0.1239 - val_auc: 0.9892 - val_accuracy: 0.9649 - val_cost: 285.6250\n",
            "Epoch 50/100\n",
            "1600/1600 [==============================] - 5s 3ms/step - loss: 0.0928 - auc: 0.9929 - accuracy: 0.9716 - cost: 233.4062 - val_loss: 0.1209 - val_auc: 0.9896 - val_accuracy: 0.9656 - val_cost: 271.6250\n",
            "Epoch 51/100\n",
            "1600/1600 [==============================] - 5s 3ms/step - loss: 0.0922 - auc: 0.9930 - accuracy: 0.9719 - cost: 231.4688 - val_loss: 0.1217 - val_auc: 0.9893 - val_accuracy: 0.9653 - val_cost: 285.6250\n",
            "Epoch 52/100\n",
            "1600/1600 [==============================] - 5s 3ms/step - loss: 0.0913 - auc: 0.9931 - accuracy: 0.9725 - cost: 226.5000 - val_loss: 0.1192 - val_auc: 0.9894 - val_accuracy: 0.9660 - val_cost: 277.5000\n",
            "Epoch 53/100\n",
            "1600/1600 [==============================] - 5s 3ms/step - loss: 0.0912 - auc: 0.9930 - accuracy: 0.9727 - cost: 223.5625 - val_loss: 0.1211 - val_auc: 0.9895 - val_accuracy: 0.9646 - val_cost: 281.1250\n",
            "Epoch 54/100\n",
            "1600/1600 [==============================] - 5s 3ms/step - loss: 0.0925 - auc: 0.9930 - accuracy: 0.9720 - cost: 230.5312 - val_loss: 0.1177 - val_auc: 0.9895 - val_accuracy: 0.9662 - val_cost: 280.5000\n",
            "Epoch 55/100\n",
            "1600/1600 [==============================] - 5s 3ms/step - loss: 0.0899 - auc: 0.9932 - accuracy: 0.9726 - cost: 225.9688 - val_loss: 0.1174 - val_auc: 0.9895 - val_accuracy: 0.9664 - val_cost: 273.7500\n",
            "Epoch 56/100\n",
            "1600/1600 [==============================] - 5s 3ms/step - loss: 0.0917 - auc: 0.9929 - accuracy: 0.9719 - cost: 231.2812 - val_loss: 0.1186 - val_auc: 0.9899 - val_accuracy: 0.9676 - val_cost: 266.1250\n",
            "Epoch 57/100\n",
            "1600/1600 [==============================] - 5s 3ms/step - loss: 0.0897 - auc: 0.9932 - accuracy: 0.9728 - cost: 223.4688 - val_loss: 0.1170 - val_auc: 0.9897 - val_accuracy: 0.9671 - val_cost: 270.6250\n",
            "Epoch 58/100\n",
            "1600/1600 [==============================] - 5s 3ms/step - loss: 0.0879 - auc: 0.9934 - accuracy: 0.9738 - cost: 215.4062 - val_loss: 0.1187 - val_auc: 0.9898 - val_accuracy: 0.9667 - val_cost: 269.1250\n",
            "Epoch 59/100\n",
            "1600/1600 [==============================] - 5s 3ms/step - loss: 0.0886 - auc: 0.9934 - accuracy: 0.9731 - cost: 221.0625 - val_loss: 0.1190 - val_auc: 0.9892 - val_accuracy: 0.9664 - val_cost: 273.5000\n",
            "Epoch 60/100\n",
            "1600/1600 [==============================] - 5s 3ms/step - loss: 0.0889 - auc: 0.9934 - accuracy: 0.9726 - cost: 226.1250 - val_loss: 0.1202 - val_auc: 0.9896 - val_accuracy: 0.9653 - val_cost: 276.8750\n",
            "Epoch 61/100\n",
            "1600/1600 [==============================] - 5s 3ms/step - loss: 0.0885 - auc: 0.9934 - accuracy: 0.9728 - cost: 224.7500 - val_loss: 0.1194 - val_auc: 0.9895 - val_accuracy: 0.9663 - val_cost: 267.5000\n",
            "Epoch 62/100\n",
            "1600/1600 [==============================] - 5s 3ms/step - loss: 0.0877 - auc: 0.9933 - accuracy: 0.9734 - cost: 218.5625 - val_loss: 0.1208 - val_auc: 0.9892 - val_accuracy: 0.9664 - val_cost: 272.0000\n",
            "Epoch 63/100\n",
            "1600/1600 [==============================] - 5s 3ms/step - loss: 0.0879 - auc: 0.9934 - accuracy: 0.9736 - cost: 216.9375 - val_loss: 0.1197 - val_auc: 0.9899 - val_accuracy: 0.9652 - val_cost: 281.2500\n",
            "Epoch 64/100\n",
            "1600/1600 [==============================] - 5s 3ms/step - loss: 0.0872 - auc: 0.9935 - accuracy: 0.9734 - cost: 218.5000 - val_loss: 0.1208 - val_auc: 0.9893 - val_accuracy: 0.9660 - val_cost: 276.0000\n",
            "Epoch 65/100\n",
            "1600/1600 [==============================] - 5s 3ms/step - loss: 0.0868 - auc: 0.9936 - accuracy: 0.9732 - cost: 220.5625 - val_loss: 0.1210 - val_auc: 0.9894 - val_accuracy: 0.9654 - val_cost: 274.2500\n",
            "Epoch 66/100\n",
            "1600/1600 [==============================] - 5s 3ms/step - loss: 0.0883 - auc: 0.9934 - accuracy: 0.9731 - cost: 222.1875 - val_loss: 0.1205 - val_auc: 0.9893 - val_accuracy: 0.9672 - val_cost: 265.1250\n",
            "Epoch 67/100\n",
            "1600/1600 [==============================] - 6s 4ms/step - loss: 0.0866 - auc: 0.9937 - accuracy: 0.9732 - cost: 220.0938 - val_loss: 0.1204 - val_auc: 0.9896 - val_accuracy: 0.9654 - val_cost: 283.0000\n",
            "Epoch 68/100\n",
            "1600/1600 [==============================] - 5s 3ms/step - loss: 0.0867 - auc: 0.9936 - accuracy: 0.9741 - cost: 213.1562 - val_loss: 0.1229 - val_auc: 0.9893 - val_accuracy: 0.9668 - val_cost: 274.2500\n",
            "Epoch 69/100\n",
            "1600/1600 [==============================] - 6s 3ms/step - loss: 0.0861 - auc: 0.9938 - accuracy: 0.9732 - cost: 221.1250 - val_loss: 0.1243 - val_auc: 0.9892 - val_accuracy: 0.9668 - val_cost: 269.1250\n",
            "Epoch 70/100\n",
            "1600/1600 [==============================] - 5s 3ms/step - loss: 0.0864 - auc: 0.9936 - accuracy: 0.9739 - cost: 214.7812 - val_loss: 0.1197 - val_auc: 0.9897 - val_accuracy: 0.9666 - val_cost: 263.2500\n",
            "Epoch 71/100\n",
            "1600/1600 [==============================] - 5s 3ms/step - loss: 0.0859 - auc: 0.9938 - accuracy: 0.9744 - cost: 212.0000 - val_loss: 0.1239 - val_auc: 0.9891 - val_accuracy: 0.9662 - val_cost: 272.2500\n",
            "Epoch 72/100\n",
            "1600/1600 [==============================] - 5s 3ms/step - loss: 0.0847 - auc: 0.9938 - accuracy: 0.9742 - cost: 212.8750 - val_loss: 0.1243 - val_auc: 0.9892 - val_accuracy: 0.9655 - val_cost: 271.7500\n",
            "Epoch 73/100\n",
            "1600/1600 [==============================] - 5s 3ms/step - loss: 0.0855 - auc: 0.9936 - accuracy: 0.9741 - cost: 213.9062 - val_loss: 0.1208 - val_auc: 0.9892 - val_accuracy: 0.9663 - val_cost: 269.8750\n",
            "Epoch 74/100\n",
            "1600/1600 [==============================] - 5s 3ms/step - loss: 0.0849 - auc: 0.9937 - accuracy: 0.9746 - cost: 209.0000 - val_loss: 0.1211 - val_auc: 0.9895 - val_accuracy: 0.9669 - val_cost: 266.1250\n",
            "Epoch 75/100\n",
            "1600/1600 [==============================] - 5s 3ms/step - loss: 0.0856 - auc: 0.9936 - accuracy: 0.9736 - cost: 217.2812 - val_loss: 0.1188 - val_auc: 0.9898 - val_accuracy: 0.9671 - val_cost: 265.6250\n",
            "Epoch 76/100\n",
            "1600/1600 [==============================] - 5s 3ms/step - loss: 0.0843 - auc: 0.9938 - accuracy: 0.9752 - cost: 204.6875 - val_loss: 0.1207 - val_auc: 0.9895 - val_accuracy: 0.9667 - val_cost: 272.0000\n",
            "Epoch 77/100\n",
            "1600/1600 [==============================] - 5s 3ms/step - loss: 0.0845 - auc: 0.9939 - accuracy: 0.9743 - cost: 212.3750 - val_loss: 0.1236 - val_auc: 0.9895 - val_accuracy: 0.9661 - val_cost: 266.7500\n",
            "Epoch 78/100\n",
            "1600/1600 [==============================] - 5s 3ms/step - loss: 0.0835 - auc: 0.9940 - accuracy: 0.9745 - cost: 209.4688 - val_loss: 0.1244 - val_auc: 0.9894 - val_accuracy: 0.9663 - val_cost: 276.2500\n",
            "Epoch 79/100\n",
            "1600/1600 [==============================] - 5s 3ms/step - loss: 0.0838 - auc: 0.9939 - accuracy: 0.9752 - cost: 204.5625 - val_loss: 0.1206 - val_auc: 0.9895 - val_accuracy: 0.9671 - val_cost: 265.5000\n",
            "Epoch 80/100\n",
            "1600/1600 [==============================] - 5s 3ms/step - loss: 0.0833 - auc: 0.9940 - accuracy: 0.9747 - cost: 209.2500 - val_loss: 0.1228 - val_auc: 0.9893 - val_accuracy: 0.9668 - val_cost: 269.0000\n",
            "1000/1000 [==============================] - 1s 983us/step\n",
            "fold train/predict time: 0:06:40.290182\n",
            "total train/predict time: 0:30:54.790014\n"
          ]
        }
      ]
    },
    {
      "cell_type": "code",
      "source": [
        "m4_results = fold_results"
      ],
      "metadata": {
        "id": "K3k5U4nVjizo"
      },
      "execution_count": null,
      "outputs": []
    },
    {
      "cell_type": "code",
      "source": [
        "preds_m4 = np.zeros(len(y))\n",
        "for i in fold_results.keys():\n",
        "  for j in range(len(fold_results.get(i).get('predictions'))):\n",
        "    idx = fold_results.get(i).get('index')[j]\n",
        "    preds_m4[idx] = np.round(fold_results.get(i).get('predictions')[j],0)\n",
        "m4_cost = cost_func(y,preds_m4)\n"
      ],
      "metadata": {
        "colab": {
          "base_uri": "https://localhost:8080/"
        },
        "id": "WMZkaNGNeKT0",
        "outputId": "73214def-47ce-4f13-a23f-b84be2b35705"
      },
      "execution_count": 58,
      "outputs": [
        {
          "output_type": "execute_result",
          "data": {
            "text/plain": [
              "628150"
            ]
          },
          "metadata": {},
          "execution_count": 58
        }
      ]
    },
    {
      "cell_type": "code",
      "source": [
        "preds_new = np.zeros(len(y))\n",
        "for i in fold_results.keys():\n",
        "  for j in range(len(fold_results.get(i).get('predictions'))):\n",
        "    idx = fold_results.get(i).get('index')[j]\n",
        "    if fold_results.get(i).get('predictions')[j] > 0.35:\n",
        "      preds_new[idx] = 1\n",
        "    else:\n",
        "      preds_new[idx] = 0\n",
        "m4_cost_t = cost_func(y,preds_new)"
      ],
      "metadata": {
        "colab": {
          "base_uri": "https://localhost:8080/"
        },
        "id": "cRXVWMi0VKc3",
        "outputId": "124f8710-2e33-4694-a620-559391a12312"
      },
      "execution_count": 59,
      "outputs": [
        {
          "output_type": "execute_result",
          "data": {
            "text/plain": [
              "616700"
            ]
          },
          "metadata": {},
          "execution_count": 59
        }
      ]
    },
    {
      "cell_type": "code",
      "source": [
        "es = EarlyStopping(monitor='val_cost', mode='min',patience=10,restore_best_weights=True,start_from_epoch=10)\n",
        "fold_results = {}\n",
        "t_tot = now()\n",
        "for i, (train_index, test_index) in enumerate(skf.split(X,y)):\n",
        "  # building model within loop to reset weights each time\n",
        "  tf.keras.backend.clear_session()\n",
        "  tf.keras.utils.set_random_seed(807)\n",
        "  model5 = tf.keras.Sequential()\n",
        "  model5.add(tf.keras.Input(shape=(X.shape[1],)))\n",
        "  model5.add(tf.keras.layers.Dense(64, activation='relu',name=\"Relu1\"))\n",
        "  model5.add(tf.keras.layers.Dense(64, activation='relu', name=\"Relu2\"))\n",
        "  model5.add(tf.keras.layers.Dropout(0.4))\n",
        "  model5.add(tf.keras.layers.Dense(1, activation='sigmoid', name=\"Activation\"))\n",
        "  model5.compile(optimizer='adam',\n",
        "                loss=tf.keras.losses.BinaryCrossentropy(from_logits=False),\n",
        "                metrics = [tf.keras.metrics.AUC(from_logits=False), 'accuracy',cost])\n",
        "  t_fold = now()\n",
        "  print('x_train shape:', X[train_index].shape)\n",
        "  model5.fit(X[train_index],y[train_index],epochs=10,batch_size=64,validation_split=0.2,callbacks=[es])\n",
        "  fold_results.update({i:{'predictions':model5.predict(X[test_index]).flatten(),'index':test_index,'y_true':y[test_index]}})\n",
        "  print('fold train/predict time: %s' % (now()-t_fold))\n",
        "print('total train/predict time: %s' % (now()-t_tot))"
      ],
      "metadata": {
        "colab": {
          "base_uri": "https://localhost:8080/"
        },
        "id": "9khDvGk8hp0_",
        "outputId": "549993fd-d9cc-4ec2-cacb-e9bd358dc6a9"
      },
      "execution_count": null,
      "outputs": [
        {
          "output_type": "stream",
          "name": "stdout",
          "text": [
            "x_train shape: (128000, 67)\n",
            "Epoch 1/10\n",
            "1600/1600 [==============================] - 6s 3ms/step - loss: 0.3797 - auc: 0.9067 - accuracy: 0.8289 - cost_metric: 250.0000 - val_loss: 0.2840 - val_auc: 0.9493 - val_accuracy: 0.8816 - val_cost_metric: 250.0000\n",
            "Epoch 2/10\n",
            "1600/1600 [==============================] - 5s 3ms/step - loss: 0.2641 - auc: 0.9560 - accuracy: 0.8947 - cost_metric: 250.0000 - val_loss: 0.2302 - val_auc: 0.9666 - val_accuracy: 0.9101 - val_cost_metric: 250.0000\n",
            "Epoch 3/10\n",
            "1600/1600 [==============================] - 5s 3ms/step - loss: 0.2246 - auc: 0.9681 - accuracy: 0.9130 - cost_metric: 250.0000 - val_loss: 0.1983 - val_auc: 0.9750 - val_accuracy: 0.9253 - val_cost_metric: 250.0000\n",
            "Epoch 4/10\n",
            "1600/1600 [==============================] - 5s 3ms/step - loss: 0.1993 - auc: 0.9747 - accuracy: 0.9265 - cost_metric: 250.0000 - val_loss: 0.1784 - val_auc: 0.9797 - val_accuracy: 0.9343 - val_cost_metric: 250.0000\n",
            "Epoch 5/10\n",
            "1600/1600 [==============================] - 5s 3ms/step - loss: 0.1824 - auc: 0.9785 - accuracy: 0.9347 - cost_metric: 250.0000 - val_loss: 0.1687 - val_auc: 0.9813 - val_accuracy: 0.9394 - val_cost_metric: 250.0000\n",
            "Epoch 6/10\n",
            "1600/1600 [==============================] - 4s 3ms/step - loss: 0.1709 - auc: 0.9810 - accuracy: 0.9390 - cost_metric: 250.0000 - val_loss: 0.1585 - val_auc: 0.9833 - val_accuracy: 0.9457 - val_cost_metric: 250.0000\n",
            "Epoch 7/10\n",
            "1600/1600 [==============================] - 4s 3ms/step - loss: 0.1631 - auc: 0.9825 - accuracy: 0.9423 - cost_metric: 250.0000 - val_loss: 0.1559 - val_auc: 0.9840 - val_accuracy: 0.9440 - val_cost_metric: 250.0000\n",
            "Epoch 8/10\n",
            "1600/1600 [==============================] - 4s 3ms/step - loss: 0.1573 - auc: 0.9836 - accuracy: 0.9447 - cost_metric: 250.0000 - val_loss: 0.1503 - val_auc: 0.9849 - val_accuracy: 0.9476 - val_cost_metric: 250.0000\n",
            "Epoch 9/10\n",
            "1600/1600 [==============================] - 5s 3ms/step - loss: 0.1514 - auc: 0.9847 - accuracy: 0.9482 - cost_metric: 250.0000 - val_loss: 0.1469 - val_auc: 0.9854 - val_accuracy: 0.9485 - val_cost_metric: 250.0000\n",
            "Epoch 10/10\n",
            "1600/1600 [==============================] - 5s 3ms/step - loss: 0.1464 - auc: 0.9856 - accuracy: 0.9503 - cost_metric: 250.0000 - val_loss: 0.1446 - val_auc: 0.9858 - val_accuracy: 0.9514 - val_cost_metric: 250.0000\n",
            "1000/1000 [==============================] - 1s 1ms/step\n",
            "fold train/predict time: 0:00:48.288325\n",
            "x_train shape: (128000, 67)\n",
            "Epoch 1/10\n",
            "1600/1600 [==============================] - 6s 3ms/step - loss: 0.3807 - auc: 0.9055 - accuracy: 0.8283 - cost_metric: 250.0000 - val_loss: 0.2731 - val_auc: 0.9529 - val_accuracy: 0.8871 - val_cost_metric: 250.0000\n",
            "Epoch 2/10\n",
            "1600/1600 [==============================] - 4s 3ms/step - loss: 0.2565 - auc: 0.9586 - accuracy: 0.8984 - cost_metric: 250.0000 - val_loss: 0.2187 - val_auc: 0.9699 - val_accuracy: 0.9149 - val_cost_metric: 250.0000\n",
            "Epoch 3/10\n",
            "1600/1600 [==============================] - 4s 3ms/step - loss: 0.2144 - auc: 0.9709 - accuracy: 0.9192 - cost_metric: 250.0000 - val_loss: 0.1925 - val_auc: 0.9767 - val_accuracy: 0.9288 - val_cost_metric: 250.0000\n",
            "Epoch 4/10\n",
            "1600/1600 [==============================] - 4s 3ms/step - loss: 0.1894 - auc: 0.9770 - accuracy: 0.9305 - cost_metric: 250.0000 - val_loss: 0.1805 - val_auc: 0.9791 - val_accuracy: 0.9345 - val_cost_metric: 250.0000\n",
            "Epoch 5/10\n",
            "1600/1600 [==============================] - 5s 3ms/step - loss: 0.1749 - auc: 0.9801 - accuracy: 0.9375 - cost_metric: 250.0000 - val_loss: 0.1679 - val_auc: 0.9821 - val_accuracy: 0.9398 - val_cost_metric: 250.0000\n",
            "Epoch 6/10\n",
            "1600/1600 [==============================] - 5s 3ms/step - loss: 0.1642 - auc: 0.9823 - accuracy: 0.9422 - cost_metric: 250.0000 - val_loss: 0.1618 - val_auc: 0.9828 - val_accuracy: 0.9437 - val_cost_metric: 250.0000\n",
            "Epoch 7/10\n",
            "1600/1600 [==============================] - 5s 3ms/step - loss: 0.1555 - auc: 0.9839 - accuracy: 0.9465 - cost_metric: 250.0000 - val_loss: 0.1481 - val_auc: 0.9849 - val_accuracy: 0.9507 - val_cost_metric: 250.0000\n",
            "Epoch 8/10\n",
            "1600/1600 [==============================] - 5s 3ms/step - loss: 0.1488 - auc: 0.9851 - accuracy: 0.9500 - cost_metric: 250.0000 - val_loss: 0.1403 - val_auc: 0.9862 - val_accuracy: 0.9538 - val_cost_metric: 250.0000\n",
            "Epoch 9/10\n",
            "1600/1600 [==============================] - 4s 3ms/step - loss: 0.1419 - auc: 0.9863 - accuracy: 0.9523 - cost_metric: 250.0000 - val_loss: 0.1351 - val_auc: 0.9870 - val_accuracy: 0.9557 - val_cost_metric: 250.0000\n",
            "Epoch 10/10\n",
            "1600/1600 [==============================] - 4s 3ms/step - loss: 0.1358 - auc: 0.9871 - accuracy: 0.9559 - cost_metric: 250.0000 - val_loss: 0.1340 - val_auc: 0.9873 - val_accuracy: 0.9554 - val_cost_metric: 250.0000\n",
            "1000/1000 [==============================] - 1s 1ms/step\n",
            "fold train/predict time: 0:00:48.408293\n",
            "x_train shape: (128000, 67)\n",
            "Epoch 1/10\n",
            "1600/1600 [==============================] - 6s 3ms/step - loss: 0.3787 - auc: 0.9070 - accuracy: 0.8302 - cost_metric: 250.0000 - val_loss: 0.2714 - val_auc: 0.9538 - val_accuracy: 0.8896 - val_cost_metric: 250.0000\n",
            "Epoch 2/10\n",
            "1600/1600 [==============================] - 4s 3ms/step - loss: 0.2540 - auc: 0.9592 - accuracy: 0.8991 - cost_metric: 250.0000 - val_loss: 0.2161 - val_auc: 0.9707 - val_accuracy: 0.9154 - val_cost_metric: 250.0000\n",
            "Epoch 3/10\n",
            "1600/1600 [==============================] - 4s 3ms/step - loss: 0.2132 - auc: 0.9712 - accuracy: 0.9196 - cost_metric: 250.0000 - val_loss: 0.1870 - val_auc: 0.9776 - val_accuracy: 0.9298 - val_cost_metric: 250.0000\n",
            "Epoch 4/10\n",
            "1600/1600 [==============================] - 4s 3ms/step - loss: 0.1893 - auc: 0.9769 - accuracy: 0.9310 - cost_metric: 250.0000 - val_loss: 0.1692 - val_auc: 0.9815 - val_accuracy: 0.9380 - val_cost_metric: 250.0000\n",
            "Epoch 5/10\n",
            "1600/1600 [==============================] - 4s 3ms/step - loss: 0.1737 - auc: 0.9804 - accuracy: 0.9372 - cost_metric: 250.0000 - val_loss: 0.1608 - val_auc: 0.9830 - val_accuracy: 0.9421 - val_cost_metric: 250.0000\n",
            "Epoch 6/10\n",
            "1600/1600 [==============================] - 4s 3ms/step - loss: 0.1638 - auc: 0.9822 - accuracy: 0.9423 - cost_metric: 250.0000 - val_loss: 0.1519 - val_auc: 0.9847 - val_accuracy: 0.9465 - val_cost_metric: 250.0000\n",
            "Epoch 7/10\n",
            "1600/1600 [==============================] - 4s 3ms/step - loss: 0.1563 - auc: 0.9836 - accuracy: 0.9463 - cost_metric: 250.0000 - val_loss: 0.1455 - val_auc: 0.9858 - val_accuracy: 0.9503 - val_cost_metric: 250.0000\n",
            "Epoch 8/10\n",
            "1600/1600 [==============================] - 4s 3ms/step - loss: 0.1498 - auc: 0.9848 - accuracy: 0.9493 - cost_metric: 250.0000 - val_loss: 0.1410 - val_auc: 0.9865 - val_accuracy: 0.9505 - val_cost_metric: 250.0000\n",
            "Epoch 9/10\n",
            "1600/1600 [==============================] - 4s 3ms/step - loss: 0.1434 - auc: 0.9859 - accuracy: 0.9518 - cost_metric: 250.0000 - val_loss: 0.1412 - val_auc: 0.9867 - val_accuracy: 0.9515 - val_cost_metric: 250.0000\n",
            "Epoch 10/10\n",
            "1600/1600 [==============================] - 4s 3ms/step - loss: 0.1379 - auc: 0.9867 - accuracy: 0.9541 - cost_metric: 250.0000 - val_loss: 0.1320 - val_auc: 0.9876 - val_accuracy: 0.9562 - val_cost_metric: 250.0000\n",
            "1000/1000 [==============================] - 1s 870us/step\n",
            "fold train/predict time: 0:00:45.081453\n",
            "x_train shape: (128000, 67)\n",
            "Epoch 1/10\n",
            "1600/1600 [==============================] - 6s 3ms/step - loss: 0.3834 - auc: 0.9047 - accuracy: 0.8268 - cost_metric: 250.0000 - val_loss: 0.2765 - val_auc: 0.9519 - val_accuracy: 0.8855 - val_cost_metric: 250.0000\n",
            "Epoch 2/10\n",
            "1600/1600 [==============================] - 4s 2ms/step - loss: 0.2592 - auc: 0.9575 - accuracy: 0.8965 - cost_metric: 250.0000 - val_loss: 0.2204 - val_auc: 0.9698 - val_accuracy: 0.9144 - val_cost_metric: 250.0000\n",
            "Epoch 3/10\n",
            "1600/1600 [==============================] - 4s 3ms/step - loss: 0.2144 - auc: 0.9709 - accuracy: 0.9187 - cost_metric: 250.0000 - val_loss: 0.1913 - val_auc: 0.9765 - val_accuracy: 0.9289 - val_cost_metric: 250.0000\n",
            "Epoch 4/10\n",
            "1600/1600 [==============================] - 5s 3ms/step - loss: 0.1916 - auc: 0.9765 - accuracy: 0.9297 - cost_metric: 250.0000 - val_loss: 0.1740 - val_auc: 0.9807 - val_accuracy: 0.9376 - val_cost_metric: 250.0000\n",
            "Epoch 5/10\n",
            "1600/1600 [==============================] - 4s 3ms/step - loss: 0.1778 - auc: 0.9796 - accuracy: 0.9364 - cost_metric: 250.0000 - val_loss: 0.1682 - val_auc: 0.9815 - val_accuracy: 0.9394 - val_cost_metric: 250.0000\n",
            "Epoch 6/10\n",
            "1600/1600 [==============================] - 5s 3ms/step - loss: 0.1664 - auc: 0.9819 - accuracy: 0.9408 - cost_metric: 250.0000 - val_loss: 0.1568 - val_auc: 0.9839 - val_accuracy: 0.9449 - val_cost_metric: 250.0000\n",
            "Epoch 7/10\n",
            "1600/1600 [==============================] - 5s 3ms/step - loss: 0.1582 - auc: 0.9836 - accuracy: 0.9442 - cost_metric: 250.0000 - val_loss: 0.1509 - val_auc: 0.9848 - val_accuracy: 0.9487 - val_cost_metric: 250.0000\n",
            "Epoch 8/10\n",
            "1600/1600 [==============================] - 5s 3ms/step - loss: 0.1522 - auc: 0.9847 - accuracy: 0.9477 - cost_metric: 250.0000 - val_loss: 0.1453 - val_auc: 0.9856 - val_accuracy: 0.9513 - val_cost_metric: 250.0000\n",
            "Epoch 9/10\n",
            "1600/1600 [==============================] - 4s 3ms/step - loss: 0.1454 - auc: 0.9857 - accuracy: 0.9504 - cost_metric: 250.0000 - val_loss: 0.1402 - val_auc: 0.9866 - val_accuracy: 0.9531 - val_cost_metric: 250.0000\n",
            "Epoch 10/10\n",
            "1600/1600 [==============================] - 4s 3ms/step - loss: 0.1406 - auc: 0.9865 - accuracy: 0.9529 - cost_metric: 250.0000 - val_loss: 0.1385 - val_auc: 0.9869 - val_accuracy: 0.9539 - val_cost_metric: 250.0000\n",
            "1000/1000 [==============================] - 1s 856us/step\n",
            "fold train/predict time: 0:00:47.733870\n",
            "x_train shape: (128000, 67)\n",
            "Epoch 1/10\n",
            "1600/1600 [==============================] - 5s 3ms/step - loss: 0.3865 - auc: 0.9030 - accuracy: 0.8267 - cost_metric: 250.0000 - val_loss: 0.2836 - val_auc: 0.9510 - val_accuracy: 0.8826 - val_cost_metric: 250.0000\n",
            "Epoch 2/10\n",
            "1600/1600 [==============================] - 4s 3ms/step - loss: 0.2600 - auc: 0.9574 - accuracy: 0.8959 - cost_metric: 250.0000 - val_loss: 0.2208 - val_auc: 0.9694 - val_accuracy: 0.9155 - val_cost_metric: 250.0000\n",
            "Epoch 3/10\n",
            "1600/1600 [==============================] - 4s 3ms/step - loss: 0.2166 - auc: 0.9702 - accuracy: 0.9172 - cost_metric: 250.0000 - val_loss: 0.1922 - val_auc: 0.9763 - val_accuracy: 0.9277 - val_cost_metric: 250.0000\n",
            "Epoch 4/10\n",
            "1600/1600 [==============================] - 4s 3ms/step - loss: 0.1911 - auc: 0.9766 - accuracy: 0.9299 - cost_metric: 250.0000 - val_loss: 0.1754 - val_auc: 0.9801 - val_accuracy: 0.9355 - val_cost_metric: 250.0000\n",
            "Epoch 5/10\n",
            "1600/1600 [==============================] - 4s 3ms/step - loss: 0.1761 - auc: 0.9800 - accuracy: 0.9358 - cost_metric: 250.0000 - val_loss: 0.1650 - val_auc: 0.9823 - val_accuracy: 0.9410 - val_cost_metric: 250.0000\n",
            "Epoch 6/10\n",
            "1600/1600 [==============================] - 4s 3ms/step - loss: 0.1662 - auc: 0.9821 - accuracy: 0.9403 - cost_metric: 250.0000 - val_loss: 0.1599 - val_auc: 0.9830 - val_accuracy: 0.9434 - val_cost_metric: 250.0000\n",
            "Epoch 7/10\n",
            "1600/1600 [==============================] - 4s 3ms/step - loss: 0.1605 - auc: 0.9830 - accuracy: 0.9431 - cost_metric: 250.0000 - val_loss: 0.1532 - val_auc: 0.9844 - val_accuracy: 0.9467 - val_cost_metric: 250.0000\n",
            "Epoch 8/10\n",
            "1600/1600 [==============================] - 4s 3ms/step - loss: 0.1541 - auc: 0.9841 - accuracy: 0.9462 - cost_metric: 250.0000 - val_loss: 0.1499 - val_auc: 0.9850 - val_accuracy: 0.9491 - val_cost_metric: 250.0000\n",
            "Epoch 9/10\n",
            "1600/1600 [==============================] - 4s 3ms/step - loss: 0.1485 - auc: 0.9852 - accuracy: 0.9488 - cost_metric: 250.0000 - val_loss: 0.1432 - val_auc: 0.9860 - val_accuracy: 0.9516 - val_cost_metric: 250.0000\n",
            "Epoch 10/10\n",
            "1600/1600 [==============================] - 5s 3ms/step - loss: 0.1453 - auc: 0.9858 - accuracy: 0.9504 - cost_metric: 250.0000 - val_loss: 0.1435 - val_auc: 0.9861 - val_accuracy: 0.9518 - val_cost_metric: 250.0000\n",
            "1000/1000 [==============================] - 1s 880us/step\n",
            "fold train/predict time: 0:00:46.157661\n",
            "total train/predict time: 0:03:56.016572\n"
          ]
        }
      ]
    },
    {
      "cell_type": "code",
      "source": [
        "model5_results = fold_results"
      ],
      "metadata": {
        "id": "Dgx85gYJjuWv"
      },
      "execution_count": null,
      "outputs": []
    },
    {
      "cell_type": "code",
      "source": [
        "preds_m5 = np.zeros(len(y))\n",
        "for i in fold_results.keys():\n",
        "  for j in range(len(fold_results.get(i).get('predictions'))):\n",
        "    idx = fold_results.get(i).get('index')[j]\n",
        "    preds_m5[idx] = np.round(fold_results.get(i).get('predictions')[j],0)\n",
        "\n",
        "m5_cost = cost_func(y,preds_m5)"
      ],
      "metadata": {
        "colab": {
          "base_uri": "https://localhost:8080/"
        },
        "id": "R0lDaXwGVq5f",
        "outputId": "08559b8e-5b2b-4030-9a22-ba3cec317a6c"
      },
      "execution_count": null,
      "outputs": [
        {
          "output_type": "execute_result",
          "data": {
            "text/plain": [
              "960850"
            ]
          },
          "metadata": {},
          "execution_count": 44
        }
      ]
    },
    {
      "cell_type": "code",
      "source": [
        "preds_new = np.zeros(len(y))\n",
        "for i in fold_results.keys():\n",
        "  for j in range(len(fold_results.get(i).get('predictions'))):\n",
        "    idx = fold_results.get(i).get('index')[j]\n",
        "    if fold_results.get(i).get('predictions')[j] > 0.4:\n",
        "      preds_new[idx] = 1\n",
        "    else:\n",
        "      preds_new[idx] = 0\n",
        "\n",
        "m5_cost_t = cost_func(y,preds_new)"
      ],
      "metadata": {
        "colab": {
          "base_uri": "https://localhost:8080/"
        },
        "id": "FKbDIA6RiBpY",
        "outputId": "9ebd9320-6f28-4ecd-a5fe-ffcfdc70badc"
      },
      "execution_count": null,
      "outputs": [
        {
          "output_type": "execute_result",
          "data": {
            "text/plain": [
              "708950"
            ]
          },
          "metadata": {},
          "execution_count": 36
        }
      ]
    },
    {
      "cell_type": "code",
      "source": [
        "model4.summary()\n"
      ],
      "metadata": {
        "colab": {
          "base_uri": "https://localhost:8080/"
        },
        "id": "7jg2oQFvH2QS",
        "outputId": "e1bb0347-3744-44a1-ba0c-a4630212a863"
      },
      "execution_count": null,
      "outputs": [
        {
          "output_type": "stream",
          "name": "stdout",
          "text": [
            "Model: \"sequential\"\n",
            "_________________________________________________________________\n",
            " Layer (type)                Output Shape              Param #   \n",
            "=================================================================\n",
            " Relu1 (Dense)               (None, 64)                4352      \n",
            "                                                                 \n",
            " Relu2 (Dense)               (None, 64)                4160      \n",
            "                                                                 \n",
            " dropout (Dropout)           (None, 64)                0         \n",
            "                                                                 \n",
            " Activation (Dense)          (None, 1)                 65        \n",
            "                                                                 \n",
            "=================================================================\n",
            "Total params: 8,577\n",
            "Trainable params: 8,577\n",
            "Non-trainable params: 0\n",
            "_________________________________________________________________\n"
          ]
        }
      ]
    },
    {
      "cell_type": "code",
      "source": [
        "model5.summary()"
      ],
      "metadata": {
        "id": "RfNM29pgj5U2"
      },
      "execution_count": null,
      "outputs": []
    },
    {
      "cell_type": "code",
      "source": [
        "pd.Series(preds_m4-y).value_counts()"
      ],
      "metadata": {
        "colab": {
          "base_uri": "https://localhost:8080/"
        },
        "id": "DVNOkJr3oYGb",
        "outputId": "80da0d73-79e8-4000-bde2-49490bb1c24e"
      },
      "execution_count": null,
      "outputs": [
        {
          "output_type": "execute_result",
          "data": {
            "text/plain": [
              " 0.0    154724\n",
              "-1.0      3031\n",
              " 1.0      2245\n",
              "Name: count, dtype: int64"
            ]
          },
          "metadata": {},
          "execution_count": 87
        }
      ]
    }
  ]
}